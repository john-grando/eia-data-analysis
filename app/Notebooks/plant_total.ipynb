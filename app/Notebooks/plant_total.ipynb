{
 "cells": [
  {
   "cell_type": "code",
   "execution_count": 1,
   "metadata": {},
   "outputs": [
    {
     "name": "stdout",
     "output_type": "stream",
     "text": [
      "  series_id  year(date)       value  \\\n",
      "0   LUTCPUS        2018    1405.580   \n",
      "1   MGACBUS        2018   16573.444   \n",
      "2   MGACPUS        2018  107766.085   \n",
      "3   MGCCBUS        2018     366.398   \n",
      "4   MGCCPUS        2018    2382.441   \n",
      "\n",
      "                                                name                     units  \n",
      "0                        Lubricants Product Supplied  Thousand Barrels per Day  \n",
      "1  Motor Gasoline Consumed by the Transportation ...              Trillion Btu  \n",
      "2  Motor Gasoline Consumed by the Transportation ...  Thousand Barrels per Day  \n",
      "3   Motor Gasoline Consumed by the Commercial Sector              Trillion Btu  \n",
      "4   Motor Gasoline Consumed by the Commercial Sector  Thousand Barrels per Day  \n"
     ]
    }
   ],
   "source": [
    "import os, sys\n",
    "import pandas as pd\n",
    "\n",
    "py_file_path = os.path.join(\n",
    "    os.getcwd(),\n",
    "    \"..\",\n",
    "    \"..\"\n",
    ")\n",
    "sys.path.append(py_file_path)\n",
    "from app.SparkTools import MyPySpark\n",
    "\n",
    "MySpark = None\n",
    "\n",
    "#ensure only one sc and spark instance is running\n",
    "global MySpark\n",
    "MySpark = MySpark or MyPySpark(\n",
    "    master = 'local[3]', \n",
    "    logger_name = 'jupyter') #jupyter-silent to suppress output\n",
    "df = MySpark\\\n",
    "    .spark\\\n",
    "    .read\\\n",
    "    .option(\"inferSchema\", \"true\")\\\n",
    "    .csv(\n",
    "        path = \"/OutputFiles/total_yearly_sum_df/\",\n",
    "        header = True)\\\n",
    "    .toPandas()\n",
    "print(df.head())"
   ]
  }
 ],
 "metadata": {
  "kernelspec": {
   "display_name": "Python [conda env:bigdata] *",
   "language": "python",
   "name": "conda-env-bigdata-py"
  },
  "language_info": {
   "codemirror_mode": {
    "name": "ipython",
    "version": 3
   },
   "file_extension": ".py",
   "mimetype": "text/x-python",
   "name": "python",
   "nbconvert_exporter": "python",
   "pygments_lexer": "ipython3",
   "version": "3.8.6"
  }
 },
 "nbformat": 4,
 "nbformat_minor": 4
}
