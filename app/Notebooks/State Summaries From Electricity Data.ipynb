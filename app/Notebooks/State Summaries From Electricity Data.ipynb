{
 "cells": [
  {
   "cell_type": "markdown",
   "metadata": {},
   "source": [
    "### Initial Setup"
   ]
  },
  {
   "cell_type": "code",
   "execution_count": 2,
   "metadata": {},
   "outputs": [],
   "source": [
    "import os, sys\n",
    "import pprint as p\n",
    "import pyspark.sql.functions as pysF\n",
    "%matplotlib widget\n",
    "%matplotlib inline\n",
    "\n",
    "py_file_path = os.path.join(\n",
    "    os.getcwd(),\n",
    "    \"..\",\n",
    "    \"..\"\n",
    ")\n",
    "\n",
    "sys.path.append(py_file_path)\n",
    "from app.SparkTools import MyPySpark\n",
    "\n",
    "MySpark = None\n",
    "\n",
    "#ensure only one sc and spark instance is running\n",
    "global MySpark\n",
    "MySpark = MySpark or MyPySpark(\n",
    "    master = 'local[3]', \n",
    "    logger_name = 'jupyter')"
   ]
  },
  {
   "cell_type": "markdown",
   "metadata": {},
   "source": [
    "### Filter and Join Data"
   ]
  },
  {
   "cell_type": "code",
   "execution_count": 6,
   "metadata": {},
   "outputs": [
    {
     "name": "stdout",
     "output_type": "stream",
     "text": [
      "['Fuel consumption MMBtu',\n",
      " 'Consumption for electricity generation',\n",
      " 'Revenue from retail sales of electricity',\n",
      " 'Consumption for electricity generation (Btu)',\n",
      " 'Electric fuel consumption quantity',\n",
      " 'Total consumption',\n",
      " 'Electric fuel consumption MMBtu',\n",
      " 'Number of customer accounts',\n",
      " 'Average retail price of electricity',\n",
      " 'Consumption for useful thermal output',\n",
      " 'Average cost of fossil fuels for electricity generation',\n",
      " 'Receipts of fossil fuels by electricity plants',\n",
      " 'Average cost of fossil fuels for electricity generation (per Btu)',\n",
      " 'Consumption for useful thermal output (Btu)',\n",
      " 'Net generation',\n",
      " 'Quality of fossil fuels in electricity generation',\n",
      " 'Total consumption (Btu)',\n",
      " 'Receipts of fossil fuels by electricity plants (Btu)',\n",
      " 'MMBtu per unit',\n",
      " 'Fuel consumption quantity',\n",
      " 'Retail sales of electricity',\n",
      " 'Fossil-fuel stocks for electricity generation']\n"
     ]
    }
   ],
   "source": [
    "p.pprint(\n",
    "    list(\n",
    "        set(\n",
    "            MySpark\\\n",
    "            .spark\\\n",
    "            .read\\\n",
    "            .parquet(\"/Processed/ElectricityDimDF\")\\\n",
    "            .select(\"value_type\")\n",
    "            .toPandas()[\"value_type\"])))"
   ]
  },
  {
   "cell_type": "code",
   "execution_count": 15,
   "metadata": {},
   "outputs": [],
   "source": [
    "electricity_dim_df = MySpark\\\n",
    "    .spark\\\n",
    "    .read\\\n",
    "    .parquet(\"/Processed/ElectricityDimDF\")\\\n",
    "    .select(\"series_id\", \"state\", \"fuel_type\", \"engine_type\", \"units\")\\\n",
    "    .filter(pysF.col(\"value_type\") == 'Fuel consumption MMBtu')\n",
    "\n",
    "electricity_fact_df = MySpark\\\n",
    "    .spark\\\n",
    "    .read\\\n",
    "    .parquet(\"/Processed/ElectricityFactDF\")\n",
    "\n",
    "electricity_df = electricity_fact_df.join(\n",
    "    pysF.broadcast(electricity_dim_df),\n",
    "    on = \"series_id\",\n",
    "    how = \"right\"\n",
    ")"
   ]
  },
  {
   "cell_type": "code",
   "execution_count": 20,
   "metadata": {},
   "outputs": [
    {
     "name": "stdout",
     "output_type": "stream",
     "text": [
      "+----+-----+-----------+------------------------+--------------------+------------------------------+-------------------+-------------+-----------------+--------------------------+--------------------------+--------------------+---------------+----------+---------+------------------+--------------------+------------+---------------------+--------------------+----------------------------------+---------------+---------+-----------------+---------------------+--------------------+-----------------+--------------------+---------------+------------+-----------------+------------+---------+--------------------+--------------+------------------+----------+----------------+------------------+--------------------+-----------------------------------+----------------------+\n",
      "|year|state|       null|agricultural by-products|           all fuels|biogenic municipal solid waste|    bituminous coal|black liquour|blast furnace gas|coal-derived synthetic gas|conventional hydroelectric| distillate fuel oil|gaseous propane|geothermal| jet fuel|          kerosene|        landfill gas|lignite coal|municipal solid waste|         natural gas|non-biogenic municipal solid waste|        nuclear|    other|other biomass gas|other biomass liquids|other biomass solids|        other gas|      petroleum coke|purchased steam|refined coal|residual fuel oil|sludge waste|    solar|  subbituminous coal|synthetic coal|tire-derived fuels|waste heat|waste/other coal|   waste/other oil|                wind|wood waste liquids ex. black liqour|wood/wood waste solids|\n",
      "+----+-----+-----------+------------------------+--------------------+------------------------------+-------------------+-------------+-----------------+--------------------------+--------------------------+--------------------+---------------+----------+---------+------------------+--------------------+------------+---------------------+--------------------+----------------------------------+---------------+---------+-----------------+---------------------+--------------------+-----------------+--------------------+---------------+------------+-----------------+------------+---------+--------------------+--------------+------------------+----------+----------------+------------------+--------------------+-----------------------------------+----------------------+\n",
      "|2007|   AK|       null|                    null|           7.93244E7|                          null|               null|         null|             null|                      null|               2.5524904E7|           8970912.0|           null|      null|6470778.0|              null|                null|        null|                 null|         8.4900738E7|                              null|           null|     null|             null|             203100.0|                null|             null|                null|           null|        null|        5552598.0|        null|     null|         2.7004084E7|          null|              null|      null|            null|               0.0|             20006.0|                               null|                1680.0|\n",
      "|2017|   MO|       null|                    null|        8.59561889E8|                          null|          3190318.0|         null|             null|                      null|               2.1777836E7|           1450478.0|        69704.0|      null|  27766.0|              null|           2139698.0|        null|                 null|        1.03355642E8|                              null|   1.73955394E8|     null|         256006.0|                 null|                null|             null|                null|           null|6.03518034E8|             null|        null|1035318.0|        7.68083262E8|          null|           76776.0|      null|            null|              null|         3.7447492E7|                               null|             2740054.0|\n",
      "|2012|   MO|       null|                     0.0|          9.345477E8|                          null|        4.0958552E7|         null|             null|                      null|               1.3596368E7|           1552496.0|       219272.0|      null|     null|              null|           1445738.0|        null|                 null|        1.06355538E8|                              null|   2.24626012E8|     null|         375698.0|                 null|                null|             null|                 0.0|           null|        null|             null|        null|     null|       1.455743338E9|          null|          531770.0|      null|            null|              null|         2.3690618E7|                               null|                   0.0|\n",
      "|2011|   IN|1.7212226E7|                    null|       1.324008034E9|                     7934462.0|      1.563938824E9|         null|      9.4596658E7|                      null|                 7943398.0|           3565554.0|           null|      null|     null|              null|           7702882.0|        null|                 null|        2.03017384E8|                         7623666.0|           null|4378510.0|         102136.0|                 null|                null|      2.7252864E7|                 0.0|           null|        null|         370330.0|        null|     null|        6.33251886E8|          null|              null| 5316690.0|            null|              null|         6.3842102E7|                               null|                  null|\n",
      "|2018|   NY|       null|                    null|       1.303595328E9|                   4.0823866E7|        1.4647332E7|    3583656.0|             null|                      null|              5.39503038E8|         1.0968434E7|        18864.0|      null|      0.0|         2737338.0|         1.6504228E7|        null|                 null|        9.13313258E8|                        3.922266E7|   8.97406354E8|     null|         117000.0|                 null|                null|              0.0|                 0.0|           null|        null|      2.1532574E7|        null|5371690.0|                 0.0|          null|           10354.0|      null|            null|              null|         8.0225232E7|                          5741412.0|           1.5463366E7|\n",
      "|2005|   NY|       null|                    null|     1.56250028447E9|                          null|3.654025540400001E8|   5804139.96|             null|                      null|      5.1559880412000006E8|1.9591538519999996E7|           null|      null| 932761.9|        2921407.82|   6193102.319999998|        null|        7.683969216E7| 6.381936979600002E8|                              null|  8.857885826E8|     null|         44883.74|                 null|  1128892.8199999998|             null|2.5244055540000007E7|           null|        null|   4.6175952516E8|        null|     null|       9.331099616E7|          null|3139400.1799999997|      null|        30687.96|              null|  2059594.0399999996|                          6358443.0|  1.4657808940000003E7|\n",
      "|2002|   TX|       null|               4006800.0|4.1399146565800004E9|                          null|        9.1154724E7|  3.4712093E7|        2467787.0|                      null|             1.142928426E7|           2562921.0|           null|      null|     null|              null|            824635.0| 5.7786174E8|                 null|       2.049197267E9|                              null|   3.71923197E8|7004424.0|        1498167.0|                 null|                null|      6.9906554E7|         1.9445692E7|      1989597.0|        null|        2207743.0|    958071.0|     null|         7.9938482E8|          null|          554329.0|      null|            null|              null|2.7020550320000004E7|                          2409147.0|           1.3527892E7|\n",
      "|2005|   IL|       null|      197204.47999999998|2.0850535926800003E9|                          null|     3.0805110164E8|         null|             null|                      null|        2580482.0600000005|   4074420.160000001|           null|      null|  4121.62|              null|1.5951837519999998E7|        null|                  0.0|1.5412674770000002E8|                              null|1.94639883158E9|      0.0|        1559315.1|                 null|            141842.0|6952304.380000001|  2817217.8400000003|           null|        null|       1747020.82|        null|     null|1.6562703094200003E9|  4.02183504E7|        1490723.04|      null|   2.470271786E7|              null|          2822637.74|                               null|                  null|\n",
      "|2014|   WY|       null|                    null|        5.51333077E8|                          null|        2.1413762E7|         null|             null|                      null|               1.6560134E7|           1535410.0|           null|      null|     null|              null|                null|        null|                 null|          2.130563E7|                              null|           null|5671232.0|             null|                 null|                null|      1.1726188E7|                null|           null|        null|              0.0|        null|     null|        9.40629172E8|          null|              null|      null|            null|           27128.0|         8.3797498E7|                               null|                  null|\n",
      "|2012|   VA|       null|                    null|        7.77823913E8|                    2.072194E7|       3.66754092E8|   6.044622E7|             null|                      null|               1.9865098E7|           4745440.0|           null|      null|     null|              null|         1.2910608E7|        null|                 null|        4.11270418E8|                       1.9909138E7|   6.01961436E8| 111882.0|          51390.0|                  0.0|             85124.0|             null|                null|           null|        null|        4627480.0|    155140.0|     null|                null|          null|               0.0|      null|            null|               0.0|                null|                               null|            3.203242E7|\n",
      "|2015|   VA|       null|                    null|        8.68177168E8|                   1.9773712E7|       3.92157422E8|  6.7689956E7|             null|                      null|               2.1590786E7|         1.1384524E7|           null|      null|     null|              null|         1.5184086E7|        null|                 null|        5.39385009E8|                          1.8998E7|   5.86938382E8|     null|          43446.0|                 null|            204750.0|             null|                null|           null|        null|      1.1785118E7|    351236.0|     null|                null|          null|               0.0|      null|            null|               0.0|                null|                               null|           7.8658516E7|\n",
      "|2013|   SD|       null|                     0.0|         9.4547944E7|                          null|               null|         null|             null|                      null|               7.7522712E7|            247992.0|           null|      null|     null|              null|                null|        null|                 null|           8390050.0|                              null|           null|     null|             null|                 null|                null|             null|                null|           null|        null|             null|        null|     null|         6.1672478E7|          null|               0.0|      null|            null|              null|         4.1262656E7|                               null|                  null|\n",
      "|2007|   WA|       null|                    null|       1.102651741E9|                     3147402.0|          3877152.0|  5.2028928E7|             null|                      null|             1.558295542E9|            314236.0|           null|      null|   1044.0|              null|           1549990.0|        null|                 null|         1.2181652E8|                         2473048.0|   1.70036504E8|     null|             34.0|                 null|                null|        8344174.0|                null|           null|        null|         248068.0|   1381512.0|     null|        1.85089124E8|          null|              null|      null|            null|         5893336.0|          4.819089E7|                               null|           4.2615978E7|\n",
      "|2004|   ME|       null|                    null|2.1512703040000004E8|                          null|  8624575.360000001|7.339920798E7|             null|                      null|       6.648769606000002E7|          2022886.26|            0.0|      null|  30168.0|128104.56000000001|                null|        null|          1.4175384E7|1.6089139934000003E8|                              null|           null|     null|             null|    76666.18000000001|           1440288.0|             null|                null|      8036034.0|        null|    4.586356898E7|  1456508.88|     null|                null|          null|3661169.7800000003|      null|            null|1770777.7800000003|                null|                               null|         8.175095942E7|\n",
      "|2009|   NM|       null|                    null|        3.96092627E8|                          null|                0.0|         null|             null|                      null|                 5289204.0|            961922.0|           null|      null|     null|              null|                null|        null|                 null|         1.4538975E8|                              null|           null|     null|         952570.0|                 null|                null|             null|                null|           null|        null|             null|        null|     null|         6.0939987E8|          null|              null|      null|            null|              null|         3.0191938E7|                               null|                  null|\n",
      "|2009|   DE|       null|                    null|         5.8593296E7|                          null|         6.737144E7|         null|             null|                      null|                      null|           7273872.0|           null|      null|     null|               0.0|           3233472.0|        null|                 null|         2.5463938E7|                              null|           null| 468422.0|             null|                 null|                null|      1.1966554E7|                 0.0|           null|        null|         951422.0|        null|     null|            457472.0|          null|              null|      null|            null|              null|                null|                               null|                  null|\n",
      "|2016|   IA|       null|                    null|        5.78074837E8|                          null|        2.4435706E7|         null|             null|                      null|               1.6927594E7|           1917312.0|           null|      null|     null|            1948.0|           2831304.0|        null|                 null|         5.6637294E7|                              null|      9.83657E7|     null|         741902.0|                 null|           4851324.0|             null|           4312306.0|           null|3.21667448E8|             null|         0.0|   2788.0|        2.52067432E8|          null|          601392.0|      null|            null|              null|         3.7068368E8|                               null|              104544.0|\n",
      "|2007|   WY|       null|                    null|          5.053191E8|                          null|        2.6812288E7|         null|             null|                      null|                1.441926E7|           1003304.0|           null|      null|     null|              null|                null|        null|                 null|         2.0189634E7|                              null|           null|5457136.0|             null|                 null|                null|        8522058.0|                null|           null|        null|         479430.0|        null|     null|        9.18832608E8|          null|              null|      null|            null|              null|         1.4922482E7|                               null|                  null|\n",
      "|2010|   VA|       null|                    null|         8.4511684E8|                   2.1558862E7|       6.38379838E8|  5.7534264E7|             null|                      null|                2.927155E7|         1.1548586E7|           null|      null|     null|              null|           7515908.0|        null|                 null|        2.97972242E8|                         1.69391E7|   5.55458976E8| 164502.0|             null|                  0.0|            206524.0|             null|                null|           null|        null|      1.9587458E7|    696466.0|     null|                null|          null|          701752.0|      null|            null|          323812.0|                null|                               null|            3.237384E7|\n",
      "|2003|   HI|       null|               1999864.0|1.1783770449000001E8|                          null|          4427196.0|         null|             null|                      null|         951368.4800000001|         2.8262485E7|           null|3651776.78|     null|              null|                null|        null|            9309096.0|                null|                              null|           null|  43640.0|             null|              17862.0|         1.0116844E7|        1643252.0|                null|           null|        null|     1.34535064E8|        null|     null|         3.0915402E7|          null|          395622.0|      null|            null|         9548158.0|            32195.72|                               null|                  null|\n",
      "+----+-----+-----------+------------------------+--------------------+------------------------------+-------------------+-------------+-----------------+--------------------------+--------------------------+--------------------+---------------+----------+---------+------------------+--------------------+------------+---------------------+--------------------+----------------------------------+---------------+---------+-----------------+---------------------+--------------------+-----------------+--------------------+---------------+------------+-----------------+------------+---------+--------------------+--------------+------------------+----------+----------------+------------------+--------------------+-----------------------------------+----------------------+\n",
      "only showing top 20 rows\n",
      "\n"
     ]
    }
   ],
   "source": [
    "electricity_df\\\n",
    "    .withColumn(\n",
    "        \"year\", \n",
    "        pysF.year(pysF.col(\"date\")))\\\n",
    "    .groupBy(\"year\", \"state\")\\\n",
    "    .pivot(\"fuel_type\")\\\n",
    "    .agg(pysF.sum(\"value\"))\\\n",
    "    .show(20)"
   ]
  }
 ],
 "metadata": {
  "kernelspec": {
   "display_name": "Python [conda env:bigdata] *",
   "language": "python",
   "name": "conda-env-bigdata-py"
  },
  "language_info": {
   "codemirror_mode": {
    "name": "ipython",
    "version": 3
   },
   "file_extension": ".py",
   "mimetype": "text/x-python",
   "name": "python",
   "nbconvert_exporter": "python",
   "pygments_lexer": "ipython3",
   "version": "3.8.6"
  }
 },
 "nbformat": 4,
 "nbformat_minor": 4
}
