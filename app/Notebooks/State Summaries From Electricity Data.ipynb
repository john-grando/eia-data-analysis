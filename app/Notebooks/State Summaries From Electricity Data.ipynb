{
 "cells": [
  {
   "cell_type": "markdown",
   "metadata": {},
   "source": [
    "## State Summaries From Electricity Data"
   ]
  },
  {
   "cell_type": "markdown",
   "metadata": {},
   "source": [
    "### Initial Setup"
   ]
  },
  {
   "cell_type": "code",
   "execution_count": 1,
   "metadata": {},
   "outputs": [],
   "source": [
    "import os, sys\n",
    "import pprint as p\n",
    "import pyspark.sql.functions as pysF\n",
    "%matplotlib widget\n",
    "%matplotlib inline\n",
    "\n",
    "py_file_path = os.path.join(\n",
    "    os.getcwd(),\n",
    "    \"..\",\n",
    "    \"..\"\n",
    ")\n",
    "\n",
    "sys.path.append(py_file_path)\n",
    "from app.SparkTools import MyPySpark\n",
    "\n",
    "MySpark = None\n",
    "\n",
    "#ensure only one sc and spark instance is running\n",
    "global MySpark\n",
    "MySpark = MySpark or MyPySpark(\n",
    "    master = 'local[3]', \n",
    "    logger_name = 'jupyter')"
   ]
  },
  {
   "cell_type": "markdown",
   "metadata": {},
   "source": [
    "### Filter and Join Data"
   ]
  },
  {
   "cell_type": "code",
   "execution_count": 2,
   "metadata": {},
   "outputs": [
    {
     "name": "stdout",
     "output_type": "stream",
     "text": [
      "['Consumption for useful thermal output',\n",
      " 'Fuel consumption MMBtu',\n",
      " 'Electric fuel consumption MMBtu',\n",
      " 'Number of customer accounts',\n",
      " 'Consumption for electricity generation (Btu)',\n",
      " 'Fuel consumption quantity',\n",
      " 'Average cost of fossil fuels for electricity generation',\n",
      " 'Fossil-fuel stocks for electricity generation',\n",
      " 'Net generation',\n",
      " 'Total consumption (Btu)',\n",
      " 'Total consumption',\n",
      " 'Receipts of fossil fuels by electricity plants (Btu)',\n",
      " 'Electric fuel consumption quantity',\n",
      " 'Revenue from retail sales of electricity',\n",
      " 'Consumption for electricity generation',\n",
      " 'Average cost of fossil fuels for electricity generation (per Btu)',\n",
      " 'Retail sales of electricity',\n",
      " 'MMBtu per unit',\n",
      " 'Average retail price of electricity',\n",
      " 'Receipts of fossil fuels by electricity plants',\n",
      " 'Quality of fossil fuels in electricity generation',\n",
      " 'Consumption for useful thermal output (Btu)']\n"
     ]
    }
   ],
   "source": [
    "p.pprint(\n",
    "    list(\n",
    "        set(\n",
    "            MySpark\\\n",
    "            .spark\\\n",
    "            .read\\\n",
    "            .parquet(\"/Processed/ElectricityDimDF\")\\\n",
    "            .select(\"value_type\")\n",
    "            .toPandas()[\"value_type\"])))"
   ]
  },
  {
   "cell_type": "code",
   "execution_count": 3,
   "metadata": {},
   "outputs": [],
   "source": [
    "electricity_dim_df = MySpark\\\n",
    "    .spark\\\n",
    "    .read\\\n",
    "    .parquet(\"/Processed/ElectricityDimDF\")\\\n",
    "    .select(\"series_id\", \"state\", \"fuel_type\", \"engine_type\", \"units\")\\\n",
    "    .filter(\n",
    "        (pysF.col(\"value_type\") == 'Fuel consumption MMBtu') &\n",
    "        (pysF.col(\"engine_type\") == 'all primemovers'))\\\n",
    "    .withColumn(\n",
    "        \"fuel_type\",\n",
    "        pysF.regexp_replace(\n",
    "            pysF.regexp_replace(\n",
    "                pysF.col(\"fuel_type\"),\n",
    "                \"[^a-zA-Z0-9\\s]\", \n",
    "                \"\"),\n",
    "            \"\\s\",\n",
    "            \"_\"))\n",
    "\n",
    "electricity_fact_df = MySpark\\\n",
    "    .spark\\\n",
    "    .read\\\n",
    "    .parquet(\"/Processed/ElectricityFactDF\")\n",
    "\n",
    "electricity_df = electricity_fact_df.join(\n",
    "    pysF.broadcast(electricity_dim_df),\n",
    "    on = \"series_id\",\n",
    "    how = \"right\"\n",
    ")"
   ]
  },
  {
   "cell_type": "code",
   "execution_count": 4,
   "metadata": {},
   "outputs": [],
   "source": [
    "fuel_types_l = electricity_df\\\n",
    "    .select(\"fuel_type\")\\\n",
    "    .distinct()\\\n",
    "    .rdd.map(lambda x: x[0])\\\n",
    "    .collect()\n",
    "\n",
    "electricity_pivoted_summary_df = electricity_df\\\n",
    "    .groupBy(\"date\", \"state\")\\\n",
    "    .pivot(\"fuel_type\")\\\n",
    "    .agg(pysF.sum(\"value\"))\\\n",
    "    .fillna(\n",
    "        0, \n",
    "        subset=[i for i in fuel_types_l if i])\\\n",
    "    .drop(\"null\")\\\n",
    "    .withColumn(\n",
    "        \"other\",\n",
    "        pysF.col(\"all_fuels\") - sum(pysF.col(i) for i in fuel_types_l if i and i != \"all_fuels\"))"
   ]
  },
  {
   "cell_type": "code",
   "execution_count": 6,
   "metadata": {},
   "outputs": [],
   "source": [
    "electricity_formatted_df = MySpark.melt(\n",
    "    df = electricity_pivoted_summary_df,\n",
    "    id_vars = [\"date\", \"state\"],\n",
    "    value_vars = [i for i in fuel_types_l if i and i != \"all_fuels\"],\n",
    "    var_name = 'fuel_type')"
   ]
  },
  {
   "cell_type": "code",
   "execution_count": 7,
   "metadata": {},
   "outputs": [],
   "source": [
    "# Use formatted_df for plotting\n",
    "# Also use over() to create percentages by year by state for relative plot."
   ]
  }
 ],
 "metadata": {
  "kernelspec": {
   "display_name": "Python [conda env:bigdata] *",
   "language": "python",
   "name": "conda-env-bigdata-py"
  },
  "language_info": {
   "codemirror_mode": {
    "name": "ipython",
    "version": 3
   },
   "file_extension": ".py",
   "mimetype": "text/x-python",
   "name": "python",
   "nbconvert_exporter": "python",
   "pygments_lexer": "ipython3",
   "version": "3.8.6"
  }
 },
 "nbformat": 4,
 "nbformat_minor": 4
}
