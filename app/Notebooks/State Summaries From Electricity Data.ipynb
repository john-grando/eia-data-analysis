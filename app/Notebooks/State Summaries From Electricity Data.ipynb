{
 "cells": [
  {
   "cell_type": "markdown",
   "metadata": {},
   "source": [
    "## State Summaries From Electricity Data"
   ]
  },
  {
   "cell_type": "markdown",
   "metadata": {},
   "source": [
    "### Initial Setup"
   ]
  },
  {
   "cell_type": "code",
   "execution_count": 1,
   "metadata": {},
   "outputs": [],
   "source": [
    "import os, sys\n",
    "import pprint as p\n",
    "import pyspark.sql.functions as pysF\n",
    "import matplotlib.pyplot as plt\n",
    "import seaborn as sns\n",
    "import pandas as pd\n",
    "\n",
    "%matplotlib widget\n",
    "%matplotlib inline\n",
    "\n",
    "py_file_path = os.path.join(\n",
    "    os.getcwd(),\n",
    "    \"..\",\n",
    "    \"..\"\n",
    ")\n",
    "\n",
    "sys.path.append(py_file_path)\n",
    "from app.SparkTools import MyPySpark\n",
    "\n",
    "MySpark = None\n",
    "\n",
    "#ensure only one sc and spark instance is running\n",
    "global MySpark\n",
    "MySpark = MySpark or MyPySpark(\n",
    "    master = 'local[3]', \n",
    "    logger_name = 'jupyter')"
   ]
  },
  {
   "cell_type": "markdown",
   "metadata": {},
   "source": [
    "### Filter and Join Data"
   ]
  },
  {
   "cell_type": "code",
   "execution_count": 2,
   "metadata": {},
   "outputs": [
    {
     "name": "stdout",
     "output_type": "stream",
     "text": [
      "['Consumption for useful thermal output (Btu)',\n",
      " 'Total consumption (Btu)',\n",
      " 'Average retail price of electricity',\n",
      " 'Quality of fossil fuels in electricity generation',\n",
      " 'Electric fuel consumption MMBtu',\n",
      " 'Receipts of fossil fuels by electricity plants (Btu)',\n",
      " 'Consumption for electricity generation (Btu)',\n",
      " 'Electric fuel consumption quantity',\n",
      " 'Revenue from retail sales of electricity',\n",
      " 'Total consumption',\n",
      " 'Retail sales of electricity',\n",
      " 'Consumption for useful thermal output',\n",
      " 'Receipts of fossil fuels by electricity plants',\n",
      " 'Average cost of fossil fuels for electricity generation (per Btu)',\n",
      " 'Net generation',\n",
      " 'Fuel consumption MMBtu',\n",
      " 'Number of customer accounts',\n",
      " 'MMBtu per unit',\n",
      " 'Fossil-fuel stocks for electricity generation',\n",
      " 'Consumption for electricity generation',\n",
      " 'Average cost of fossil fuels for electricity generation',\n",
      " 'Fuel consumption quantity']\n"
     ]
    }
   ],
   "source": [
    "p.pprint(\n",
    "    list(\n",
    "        set(\n",
    "            MySpark\\\n",
    "            .spark\\\n",
    "            .read\\\n",
    "            .parquet(\"/Processed/ElectricityDimDF\")\\\n",
    "            .select(\"value_type\")\n",
    "            .toPandas()[\"value_type\"])))"
   ]
  },
  {
   "cell_type": "code",
   "execution_count": 3,
   "metadata": {},
   "outputs": [],
   "source": [
    "electricity_dim_df = MySpark\\\n",
    "    .spark\\\n",
    "    .read\\\n",
    "    .parquet(\"/Processed/ElectricityDimDF\")\\\n",
    "    .select(\"series_id\", \"state\", \"fuel_type\", \"engine_type\", \"units\")\\\n",
    "    .filter(\n",
    "        (pysF.col(\"value_type\") == 'Fuel consumption MMBtu') &\n",
    "        (pysF.col(\"engine_type\") == 'all primemovers'))\\\n",
    "    .withColumn(\n",
    "        \"fuel_type\",\n",
    "        pysF.regexp_replace(\n",
    "            pysF.regexp_replace(\n",
    "                pysF.col(\"fuel_type\"),\n",
    "                \"[^a-zA-Z0-9\\s]\", \n",
    "                \"\"),\n",
    "            \"\\s\",\n",
    "            \"_\"))\n",
    "\n",
    "electricity_fact_df = MySpark\\\n",
    "    .spark\\\n",
    "    .read\\\n",
    "    .parquet(\"/Processed/ElectricityFactDF\")\n",
    "\n",
    "electricity_df = electricity_fact_df.join(\n",
    "    pysF.broadcast(electricity_dim_df),\n",
    "    on = \"series_id\",\n",
    "    how = \"right\"\n",
    ")"
   ]
  },
  {
   "cell_type": "code",
   "execution_count": 4,
   "metadata": {},
   "outputs": [],
   "source": [
    "fuel_types_l = electricity_df\\\n",
    "    .select(\"fuel_type\")\\\n",
    "    .distinct()\\\n",
    "    .rdd.map(lambda x: x[0])\\\n",
    "    .collect()\n",
    "\n",
    "electricity_pivoted_summary_df = electricity_df\\\n",
    "    .groupBy(\"date\", \"state\")\\\n",
    "    .pivot(\"fuel_type\")\\\n",
    "    .agg(pysF.sum(\"value\"))\\\n",
    "    .fillna(\n",
    "        0, \n",
    "        subset=[i for i in fuel_types_l if i])\\\n",
    "    .drop(\"null\")\\\n",
    "    .withColumn(\n",
    "        \"other\",\n",
    "        pysF.col(\"all_fuels\") - sum(pysF.col(i) for i in fuel_types_l if i and i != \"all_fuels\"))"
   ]
  },
  {
   "cell_type": "code",
   "execution_count": 5,
   "metadata": {},
   "outputs": [],
   "source": [
    "electricity_formatted_df = MySpark.melt(\n",
    "    df = electricity_pivoted_summary_df,\n",
    "    id_vars = [\"date\", \"state\"],\n",
    "    value_vars = [i for i in fuel_types_l if i and i != \"all_fuels\"],\n",
    "    var_name = 'fuel_type')"
   ]
  },
  {
   "cell_type": "code",
   "execution_count": 6,
   "metadata": {},
   "outputs": [],
   "source": [
    "# make treemap of state -> fuels, and fuels -> states\n",
    "# maybe group fuels to make less subcategories\n",
    "\n",
    "# state_2019_df = electricity_formatted_df\\\n",
    "#     .filter(\n",
    "#         (pysF.year(\"date\") == \"2019\") & \n",
    "#         (pysF.col(\"value\") > 0) &\n",
    "#         (pysF.col(\"state\").isin([\"CO\", \"NJ\"])))\\\n",
    "#     .groupBy(\"state\")\\\n",
    "#     .agg(pysF.sum(\"value\").alias(\"consumption\"))\\\n",
    "#     .toPandas()\n"
   ]
  },
  {
   "cell_type": "code",
   "execution_count": 7,
   "metadata": {
    "scrolled": false
   },
   "outputs": [
    {
     "name": "stdout",
     "output_type": "stream",
     "text": [
      "['TX', 'CA', 'FL', 'PA', 'IL', 'GA', 'OH', 'NY', 'AL', 'NC', 'IN', 'MI', 'WA', 'LA', 'AZ', 'SC', 'TN', 'KY', 'VA', 'MO', 'WV', 'OK', 'WI', 'NJ', 'AR', 'MS', 'MN', 'IA', 'OR', 'MD', 'WY', 'KS', 'CO', 'MA', 'ND', 'UT', 'NV', 'NE', 'NM', 'CT', 'MT', 'ME', 'NH', 'ID', 'SD', 'DE', 'HI', 'AK', 'RI', 'VT', None, 'DC']\n"
     ]
    }
   ],
   "source": [
    "state_df = electricity_formatted_df\\\n",
    "    .groupBy(\"date\",\"state\")\\\n",
    "    .agg(pysF.sum(\"value\").alias(\"consumption\"))\\\n",
    "\n",
    "state_l = state_df\\\n",
    "    .groupBy(\"state\")\\\n",
    "    .agg(pysF.max(\"consumption\").alias(\"max_consumption\"))\\\n",
    "    .sort(pysF.col(\"max_consumption\").desc())\\\n",
    "    .rdd\\\n",
    "    .map(lambda x: x[\"state\"])\\\n",
    "    .collect()\n",
    "\n",
    "print(state_l)\n",
    "\n",
    "#do top 10, next 10, etc to break it up in subplots\n",
    "\n",
    "# fig, axs = plt.subplots(1, 1, figsize=(16,30))\n",
    "# fig.tight_layout()\n",
    "# axs = sns.lineplot(\n",
    "#     x = \"date\",\n",
    "#     y = \"consumption\",\n",
    "#     hue = \"state\",\n",
    "#     data = state_df\n",
    "# )"
   ]
  },
  {
   "cell_type": "code",
   "execution_count": 8,
   "metadata": {},
   "outputs": [],
   "source": [
    "# Use formatted_df for plotting\n",
    "# Also use over() to create percentages by year by state for relative plot."
   ]
  }
 ],
 "metadata": {
  "kernelspec": {
   "display_name": "Python [conda env:bigdata] *",
   "language": "python",
   "name": "conda-env-bigdata-py"
  },
  "language_info": {
   "codemirror_mode": {
    "name": "ipython",
    "version": 3
   },
   "file_extension": ".py",
   "mimetype": "text/x-python",
   "name": "python",
   "nbconvert_exporter": "python",
   "pygments_lexer": "ipython3",
   "version": "3.8.6"
  }
 },
 "nbformat": 4,
 "nbformat_minor": 4
}
