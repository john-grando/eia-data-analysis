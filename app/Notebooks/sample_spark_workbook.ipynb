{
 "cells": [
  {
   "cell_type": "code",
   "execution_count": null,
   "metadata": {},
   "outputs": [],
   "source": [
    "#Not needed, but the spark session will not start until a cell is run so\n",
    "#just execute a blank cell.\n",
    "#config files should be located in ~/.sparkmagic/config.json directory\n",
    "\n",
    "#old commands not required anymore\n",
    "#import os\n",
    "#%load_ext sparkmagic.magics\n",
    "#%spark add -s 'session-name' -l python -u https://os.getenv('SPARK_IP'):8998\n",
    "#%manage_spark"
   ]
  },
  {
   "cell_type": "code",
   "execution_count": 7,
   "metadata": {},
   "outputs": [
    {
     "data": {
      "text/html": [
       "Current session configs: <tt>{'driverMemory': '1000M', 'executorCores': 2, 'kind': 'pyspark'}</tt><br>"
      ],
      "text/plain": [
       "<IPython.core.display.HTML object>"
      ]
     },
     "metadata": {},
     "output_type": "display_data"
    },
    {
     "data": {
      "text/html": [
       "No active sessions."
      ],
      "text/plain": [
       "<IPython.core.display.HTML object>"
      ]
     },
     "metadata": {},
     "output_type": "display_data"
    }
   ],
   "source": [
    "%%info"
   ]
  },
  {
   "cell_type": "code",
   "execution_count": 2,
   "metadata": {},
   "outputs": [
    {
     "name": "stdout",
     "output_type": "stream",
     "text": [
      "Starting Spark application\n"
     ]
    },
    {
     "data": {
      "text/html": [
       "<table>\n",
       "<tr><th>ID</th><th>YARN Application ID</th><th>Kind</th><th>State</th><th>Spark UI</th><th>Driver log</th><th>User</th><th>Current session?</th></tr><tr><td>5</td><td>application_1611101212170_0006</td><td>pyspark</td><td>idle</td><td><a target=\"_blank\" href=\"http://ip-172-31-138-20.us-east-2.compute.internal:20888/proxy/application_1611101212170_0006/\">Link</a></td><td><a target=\"_blank\" href=\"http://ip-172-31-240-83.us-east-2.compute.internal:8042/node/containerlogs/container_1611101212170_0006_01_000001/livy\">Link</a></td><td>None</td><td>✔</td></tr></table>"
      ],
      "text/plain": [
       "<IPython.core.display.HTML object>"
      ]
     },
     "metadata": {},
     "output_type": "display_data"
    },
    {
     "data": {
      "application/vnd.jupyter.widget-view+json": {
       "model_id": "",
       "version_major": 2,
       "version_minor": 0
      },
      "text/plain": [
       "FloatProgress(value=0.0, bar_style='info', description='Progress:', layout=Layout(height='25px', width='50%'),…"
      ]
     },
     "metadata": {},
     "output_type": "display_data"
    },
    {
     "name": "stdout",
     "output_type": "stream",
     "text": [
      "SparkSession available as 'spark'.\n"
     ]
    },
    {
     "data": {
      "application/vnd.jupyter.widget-view+json": {
       "model_id": "",
       "version_major": 2,
       "version_minor": 0
      },
      "text/plain": [
       "FloatProgress(value=0.0, bar_style='info', description='Progress:', layout=Layout(height='25px', width='50%'),…"
      ]
     },
     "metadata": {},
     "output_type": "display_data"
    }
   ],
   "source": [
    "tst = spark\\\n",
    "    .read\\\n",
    "    .parquet(\"s3://power-plant-data/backup/Processed/ElectricityFactDF/\")"
   ]
  },
  {
   "cell_type": "code",
   "execution_count": 4,
   "metadata": {},
   "outputs": [
    {
     "data": {
      "application/vnd.jupyter.widget-view+json": {
       "model_id": "",
       "version_major": 2,
       "version_minor": 0
      },
      "text/plain": [
       "FloatProgress(value=0.0, bar_style='info', description='Progress:', layout=Layout(height='25px', width='50%'),…"
      ]
     },
     "metadata": {},
     "output_type": "display_data"
    },
    {
     "name": "stdout",
     "output_type": "stream",
     "text": [
      "[Row(series_id='ELEC.PLANT.GEN.50914-WDS-ALL.M', date=datetime.date(2010, 12, 1), value='0'), Row(series_id='ELEC.PLANT.GEN.50914-WDS-ALL.M', date=datetime.date(2010, 11, 1), value='0'), Row(series_id='ELEC.PLANT.GEN.50914-WDS-ALL.M', date=datetime.date(2010, 10, 1), value='0'), Row(series_id='ELEC.PLANT.GEN.50914-WDS-ALL.M', date=datetime.date(2010, 9, 1), value='0'), Row(series_id='ELEC.PLANT.GEN.50914-WDS-ALL.M', date=datetime.date(2010, 8, 1), value='0'), Row(series_id='ELEC.PLANT.GEN.50914-WDS-ALL.M', date=datetime.date(2010, 7, 1), value='0'), Row(series_id='ELEC.PLANT.GEN.50914-WDS-ALL.M', date=datetime.date(2010, 6, 1), value='0'), Row(series_id='ELEC.PLANT.GEN.50914-WDS-ALL.M', date=datetime.date(2010, 5, 1), value='0'), Row(series_id='ELEC.PLANT.GEN.50914-WDS-ALL.M', date=datetime.date(2010, 4, 1), value='0'), Row(series_id='ELEC.PLANT.GEN.50914-WDS-ALL.M', date=datetime.date(2010, 3, 1), value='0')]"
     ]
    }
   ],
   "source": [
    "tst.limit(10).collect()"
   ]
  },
  {
   "cell_type": "code",
   "execution_count": 5,
   "metadata": {},
   "outputs": [
    {
     "data": {
      "application/vnd.jupyter.widget-view+json": {
       "model_id": "",
       "version_major": 2,
       "version_minor": 0
      },
      "text/plain": [
       "FloatProgress(value=0.0, bar_style='info', description='Progress:', layout=Layout(height='25px', width='50%'),…"
      ]
     },
     "metadata": {},
     "output_type": "display_data"
    },
    {
     "name": "stderr",
     "output_type": "stream",
     "text": [
      "An error was encountered:\n",
      "unknown magic command '%cleanup'\n",
      "UnknownMagic: unknown magic command '%cleanup'\n",
      "\n"
     ]
    }
   ],
   "source": [
    "#Clear session and cleanup spark"
   ]
  },
  {
   "cell_type": "code",
   "execution_count": 6,
   "metadata": {},
   "outputs": [],
   "source": [
    "%%cleanup -f"
   ]
  }
 ],
 "metadata": {
  "kernelspec": {
   "display_name": "PySpark [conda env:bigdata] *",
   "language": "python",
   "name": "conda-env-bigdata-pysparkkernel"
  },
  "language_info": {
   "codemirror_mode": {
    "name": "python",
    "version": 3
   },
   "file_extension": ".py",
   "mimetype": "text/x-python",
   "name": "pyspark",
   "pygments_lexer": "python3"
  }
 },
 "nbformat": 4,
 "nbformat_minor": 4
}
