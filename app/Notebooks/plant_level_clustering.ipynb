{
 "cells": [
  {
   "cell_type": "markdown",
   "metadata": {},
   "source": [
    "## Plant Level Clustering"
   ]
  },
  {
   "cell_type": "markdown",
   "metadata": {},
   "source": [
    "[Home Page](https://john-grando.github.io/)"
   ]
  },
  {
   "cell_type": "markdown",
   "metadata": {},
   "source": [
    "In a previous notebook, we took a look at the various [state level summaries](https://john-grando.github.io/EIADataPages/electricity_net_generation_summary.html) for this plant level data.  We were able to gather some decent insight; however, we should take a closer look on this lower grain level to see if there are some further details to uncover.  This type of analysis may prove worthwhile when we ultimately start trying to create batch machine learning models;  perhaps there are subgroups that should undergo separate hyperparameter training.  Therefore, we will try a quick set of clustering models to try and extract some information."
   ]
  },
  {
   "cell_type": "markdown",
   "metadata": {},
   "source": [
    "### Initial Setup"
   ]
  },
  {
   "cell_type": "markdown",
   "metadata": {},
   "source": [
    "Let's grab our [processed data files](https://github.com/john-grando/eia-data-analysis/tree/master/app/PreProcess), clean up some columns, and then remove unuseful columns."
   ]
  },
  {
   "cell_type": "code",
   "execution_count": 1,
   "metadata": {},
   "outputs": [],
   "source": [
    "import os, sys\n",
    "import pprint as p\n",
    "import pyspark.sql.functions as pysF\n",
    "import pandas as pd\n",
    "import plotly.express as px\n",
    "import plotly.graph_objects as go\n",
    "\n",
    "py_file_path = os.path.join(\n",
    "    os.getcwd(),\n",
    "    \"..\",\n",
    "    \"..\"\n",
    ")\n",
    "\n",
    "sys.path.append(py_file_path)\n",
    "from app.SparkTools import MyPySpark\n",
    "\n",
    "MySpark = None\n",
    "\n",
    "#ensure only one sc and spark instance is running\n",
    "global MySpark\n",
    "MySpark = MySpark or MyPySpark(\n",
    "    master = 'local[3]', \n",
    "    logger_name = 'jupyter')"
   ]
  },
  {
   "cell_type": "code",
   "execution_count": 48,
   "metadata": {},
   "outputs": [
    {
     "data": {
      "text/plain": [
       "DataFrame[series_id: string, date: date, value: string, end: int, lat: double, lon: double, start: int, units: string, plant_name: string, fuel_type: string, plant_id: string, state: string]"
      ]
     },
     "execution_count": 48,
     "metadata": {},
     "output_type": "execute_result"
    }
   ],
   "source": [
    "electricity_dim_df = MySpark\\\n",
    "    .spark\\\n",
    "    .read\\\n",
    "    .parquet(\"/Processed/ElectricityPlantLevelDimDF\")\\\n",
    "    .filter(\n",
    "        (pysF.col(\"series_id\").rlike(\"^ELEC\\.PLANT\\.GEN\\.\")) &\n",
    "        (pysF.lower(pysF.col(\"engine_type\")) == 'all primemovers') &\n",
    "        (pysF.col(\"f\") == \"M\") &\n",
    "        (pysF.col(\"plant_id\").isNotNull()))\\\n",
    "    .withColumn(\n",
    "        \"fuel_type\",\n",
    "        pysF.regexp_replace(\n",
    "            pysF.regexp_replace(\n",
    "                pysF.col(\"fuel_type\"),\n",
    "                \"[^a-zA-Z0-9\\s]\", \n",
    "                \"\"),\n",
    "            \"\\s\",\n",
    "            \"_\"))\\\n",
    "    .filter(pysF.col(\"iso3166\").isNotNull())\\\n",
    "    .withColumn(\n",
    "        \"state\",\n",
    "        pysF.regexp_extract(\n",
    "            pysF.col(\"iso3166\"),\n",
    "            r\"^USA-([A-Z]+)\",\n",
    "            1))\\\n",
    "    .drop(\n",
    "        \"f\", \n",
    "        \"copyright\", \n",
    "        \"description\", \n",
    "        \"name\", \n",
    "        \"source\", \n",
    "        \"value_type\", \n",
    "        \"engine_type\", \n",
    "        \"frequency\", \n",
    "        \"iso3166\",\n",
    "        \"geography\",\n",
    "        \"last_updated\")\n",
    "\n",
    "electricity_fact_df = MySpark\\\n",
    "    .spark\\\n",
    "    .read\\\n",
    "    .parquet(\"/Processed/ElectricityFactDF\")\\\n",
    "    .filter(\n",
    "        (pysF.col(\"date\").isNotNull()))\n",
    "\n",
    "electricity_df = electricity_fact_df.join(\n",
    "    pysF.broadcast(electricity_dim_df),\n",
    "    on = \"series_id\",\n",
    "    how = \"right\")\\\n",
    "    .repartition(10, \"plant_id\", \"date\")\n",
    "\n",
    "electricity_df.cache()"
   ]
  },
  {
   "cell_type": "markdown",
   "metadata": {},
   "source": [
    "So now we can see the base set of columns we will start out with before any real transformations."
   ]
  },
  {
   "cell_type": "code",
   "execution_count": 51,
   "metadata": {},
   "outputs": [
    {
     "data": {
      "text/plain": [
       "['series_id',\n",
       " 'date',\n",
       " 'value',\n",
       " 'end',\n",
       " 'lat',\n",
       " 'lon',\n",
       " 'start',\n",
       " 'units',\n",
       " 'plant_name',\n",
       " 'fuel_type',\n",
       " 'plant_id',\n",
       " 'state']"
      ]
     },
     "execution_count": 51,
     "metadata": {},
     "output_type": "execute_result"
    }
   ],
   "source": [
    "electricity_df.columns"
   ]
  },
  {
   "cell_type": "code",
   "execution_count": 52,
   "metadata": {},
   "outputs": [
    {
     "data": {
      "text/html": [
       "<div>\n",
       "<style scoped>\n",
       "    .dataframe tbody tr th:only-of-type {\n",
       "        vertical-align: middle;\n",
       "    }\n",
       "\n",
       "    .dataframe tbody tr th {\n",
       "        vertical-align: top;\n",
       "    }\n",
       "\n",
       "    .dataframe thead th {\n",
       "        text-align: right;\n",
       "    }\n",
       "</style>\n",
       "<table border=\"1\" class=\"dataframe\">\n",
       "  <thead>\n",
       "    <tr style=\"text-align: right;\">\n",
       "      <th></th>\n",
       "      <th>series_id</th>\n",
       "      <th>date</th>\n",
       "      <th>value</th>\n",
       "      <th>end</th>\n",
       "      <th>lat</th>\n",
       "      <th>lon</th>\n",
       "      <th>start</th>\n",
       "      <th>units</th>\n",
       "      <th>plant_name</th>\n",
       "      <th>fuel_type</th>\n",
       "      <th>plant_id</th>\n",
       "      <th>state</th>\n",
       "    </tr>\n",
       "  </thead>\n",
       "  <tbody>\n",
       "    <tr>\n",
       "      <th>0</th>\n",
       "      <td>ELEC.PLANT.GEN.10-BIT-ALL.M</td>\n",
       "      <td>2018-03-01</td>\n",
       "      <td>0</td>\n",
       "      <td>201807</td>\n",
       "      <td>32.6017</td>\n",
       "      <td>32.6017</td>\n",
       "      <td>200101</td>\n",
       "      <td>megawatthours</td>\n",
       "      <td>Greene County (10)</td>\n",
       "      <td>bituminous_coal</td>\n",
       "      <td>10</td>\n",
       "      <td>AL</td>\n",
       "    </tr>\n",
       "    <tr>\n",
       "      <th>1</th>\n",
       "      <td>ELEC.PLANT.GEN.10-BIT-ALL.M</td>\n",
       "      <td>2016-12-01</td>\n",
       "      <td>0</td>\n",
       "      <td>201807</td>\n",
       "      <td>32.6017</td>\n",
       "      <td>32.6017</td>\n",
       "      <td>200101</td>\n",
       "      <td>megawatthours</td>\n",
       "      <td>Greene County (10)</td>\n",
       "      <td>bituminous_coal</td>\n",
       "      <td>10</td>\n",
       "      <td>AL</td>\n",
       "    </tr>\n",
       "    <tr>\n",
       "      <th>2</th>\n",
       "      <td>ELEC.PLANT.GEN.10-BIT-ALL.M</td>\n",
       "      <td>2016-09-01</td>\n",
       "      <td>0</td>\n",
       "      <td>201807</td>\n",
       "      <td>32.6017</td>\n",
       "      <td>32.6017</td>\n",
       "      <td>200101</td>\n",
       "      <td>megawatthours</td>\n",
       "      <td>Greene County (10)</td>\n",
       "      <td>bituminous_coal</td>\n",
       "      <td>10</td>\n",
       "      <td>AL</td>\n",
       "    </tr>\n",
       "    <tr>\n",
       "      <th>3</th>\n",
       "      <td>ELEC.PLANT.GEN.10-BIT-ALL.M</td>\n",
       "      <td>2016-06-01</td>\n",
       "      <td>0</td>\n",
       "      <td>201807</td>\n",
       "      <td>32.6017</td>\n",
       "      <td>32.6017</td>\n",
       "      <td>200101</td>\n",
       "      <td>megawatthours</td>\n",
       "      <td>Greene County (10)</td>\n",
       "      <td>bituminous_coal</td>\n",
       "      <td>10</td>\n",
       "      <td>AL</td>\n",
       "    </tr>\n",
       "    <tr>\n",
       "      <th>4</th>\n",
       "      <td>ELEC.PLANT.GEN.10-BIT-ALL.M</td>\n",
       "      <td>2016-04-01</td>\n",
       "      <td>0</td>\n",
       "      <td>201807</td>\n",
       "      <td>32.6017</td>\n",
       "      <td>32.6017</td>\n",
       "      <td>200101</td>\n",
       "      <td>megawatthours</td>\n",
       "      <td>Greene County (10)</td>\n",
       "      <td>bituminous_coal</td>\n",
       "      <td>10</td>\n",
       "      <td>AL</td>\n",
       "    </tr>\n",
       "  </tbody>\n",
       "</table>\n",
       "</div>"
      ],
      "text/plain": [
       "                     series_id        date value     end      lat      lon  \\\n",
       "0  ELEC.PLANT.GEN.10-BIT-ALL.M  2018-03-01     0  201807  32.6017  32.6017   \n",
       "1  ELEC.PLANT.GEN.10-BIT-ALL.M  2016-12-01     0  201807  32.6017  32.6017   \n",
       "2  ELEC.PLANT.GEN.10-BIT-ALL.M  2016-09-01     0  201807  32.6017  32.6017   \n",
       "3  ELEC.PLANT.GEN.10-BIT-ALL.M  2016-06-01     0  201807  32.6017  32.6017   \n",
       "4  ELEC.PLANT.GEN.10-BIT-ALL.M  2016-04-01     0  201807  32.6017  32.6017   \n",
       "\n",
       "    start          units          plant_name        fuel_type plant_id state  \n",
       "0  200101  megawatthours  Greene County (10)  bituminous_coal       10    AL  \n",
       "1  200101  megawatthours  Greene County (10)  bituminous_coal       10    AL  \n",
       "2  200101  megawatthours  Greene County (10)  bituminous_coal       10    AL  \n",
       "3  200101  megawatthours  Greene County (10)  bituminous_coal       10    AL  \n",
       "4  200101  megawatthours  Greene County (10)  bituminous_coal       10    AL  "
      ]
     },
     "execution_count": 52,
     "metadata": {},
     "output_type": "execute_result"
    }
   ],
   "source": [
    "electricity_df.limit(10).toPandas().head(5)"
   ]
  },
  {
   "cell_type": "markdown",
   "metadata": {},
   "source": [
    "However, before moving on, we should check a few assumptions about plants in general.  For instance, how many different fuels do plants use?  Is it usually one fuel type or are many sources used?  On a quick aggregation, we see that there are actually some plants that have used up to 10 fuels."
   ]
  },
  {
   "cell_type": "code",
   "execution_count": 53,
   "metadata": {},
   "outputs": [
    {
     "data": {
      "text/html": [
       "<div>\n",
       "<style scoped>\n",
       "    .dataframe tbody tr th:only-of-type {\n",
       "        vertical-align: middle;\n",
       "    }\n",
       "\n",
       "    .dataframe tbody tr th {\n",
       "        vertical-align: top;\n",
       "    }\n",
       "\n",
       "    .dataframe thead th {\n",
       "        text-align: right;\n",
       "    }\n",
       "</style>\n",
       "<table border=\"1\" class=\"dataframe\">\n",
       "  <thead>\n",
       "    <tr style=\"text-align: right;\">\n",
       "      <th></th>\n",
       "      <th>plant_id</th>\n",
       "      <th>number_fuel_types</th>\n",
       "    </tr>\n",
       "  </thead>\n",
       "  <tbody>\n",
       "    <tr>\n",
       "      <th>0</th>\n",
       "      <td>52152</td>\n",
       "      <td>10</td>\n",
       "    </tr>\n",
       "    <tr>\n",
       "      <th>1</th>\n",
       "      <td>50476</td>\n",
       "      <td>10</td>\n",
       "    </tr>\n",
       "    <tr>\n",
       "      <th>2</th>\n",
       "      <td>50479</td>\n",
       "      <td>9</td>\n",
       "    </tr>\n",
       "    <tr>\n",
       "      <th>3</th>\n",
       "      <td>54087</td>\n",
       "      <td>9</td>\n",
       "    </tr>\n",
       "    <tr>\n",
       "      <th>4</th>\n",
       "      <td>10244</td>\n",
       "      <td>9</td>\n",
       "    </tr>\n",
       "  </tbody>\n",
       "</table>\n",
       "</div>"
      ],
      "text/plain": [
       "  plant_id  number_fuel_types\n",
       "0    52152                 10\n",
       "1    50476                 10\n",
       "2    50479                  9\n",
       "3    54087                  9\n",
       "4    10244                  9"
      ]
     },
     "execution_count": 53,
     "metadata": {},
     "output_type": "execute_result"
    }
   ],
   "source": [
    "plant_number_fuel_types_df = electricity_df\\\n",
    "    .select(\"plant_id\", \"fuel_type\")\\\n",
    "    .filter(\n",
    "        (pysF.col(\"fuel_type\") != \"all_fuels\"))\\\n",
    "    .distinct()\\\n",
    "    .groupBy(\"plant_id\")\\\n",
    "    .count()\\\n",
    "    .withColumnRenamed(\n",
    "        \"count\",\n",
    "        \"number_fuel_types\")\n",
    "\n",
    "plant_number_fuel_types_df\\\n",
    "    .orderBy(pysF.col(\"number_fuel_types\").desc())\\\n",
    "    .limit(5)\\\n",
    "    .toPandas()"
   ]
  },
  {
   "cell_type": "markdown",
   "metadata": {},
   "source": [
    "Let's take a closer look at one of these plants.  From the initial data check, it looks like not all 10 fuels are used at once.  It might be more of an issue of phasing in and out fuels over time, so we can make a plot of usage over time for each fuel."
   ]
  },
  {
   "cell_type": "code",
   "execution_count": 39,
   "metadata": {},
   "outputs": [
    {
     "data": {
      "text/html": [
       "<div>\n",
       "<style scoped>\n",
       "    .dataframe tbody tr th:only-of-type {\n",
       "        vertical-align: middle;\n",
       "    }\n",
       "\n",
       "    .dataframe tbody tr th {\n",
       "        vertical-align: top;\n",
       "    }\n",
       "\n",
       "    .dataframe thead th {\n",
       "        text-align: right;\n",
       "    }\n",
       "</style>\n",
       "<table border=\"1\" class=\"dataframe\">\n",
       "  <thead>\n",
       "    <tr style=\"text-align: right;\">\n",
       "      <th></th>\n",
       "      <th>year</th>\n",
       "      <th>agricultural_byproducts</th>\n",
       "      <th>all_fuels</th>\n",
       "      <th>biogenic_municipal_solid_waste</th>\n",
       "      <th>bituminous_coal</th>\n",
       "      <th>black_liquour</th>\n",
       "      <th>distillate_fuel_oil</th>\n",
       "      <th>municipal_solid_waste</th>\n",
       "      <th>natural_gas</th>\n",
       "      <th>nonbiogenic_municipal_solid_waste</th>\n",
       "      <th>residual_fuel_oil</th>\n",
       "      <th>woodwood_waste_solids</th>\n",
       "    </tr>\n",
       "  </thead>\n",
       "  <tbody>\n",
       "    <tr>\n",
       "      <th>0</th>\n",
       "      <td>2019</td>\n",
       "      <td>NaN</td>\n",
       "      <td>276641.000</td>\n",
       "      <td>NaN</td>\n",
       "      <td>0.000</td>\n",
       "      <td>254218.916</td>\n",
       "      <td>NaN</td>\n",
       "      <td>NaN</td>\n",
       "      <td>22422.084</td>\n",
       "      <td>NaN</td>\n",
       "      <td>0.000</td>\n",
       "      <td>NaN</td>\n",
       "    </tr>\n",
       "    <tr>\n",
       "      <th>1</th>\n",
       "      <td>2018</td>\n",
       "      <td>NaN</td>\n",
       "      <td>237532.000</td>\n",
       "      <td>NaN</td>\n",
       "      <td>0.000</td>\n",
       "      <td>220628.436</td>\n",
       "      <td>NaN</td>\n",
       "      <td>NaN</td>\n",
       "      <td>16903.564</td>\n",
       "      <td>NaN</td>\n",
       "      <td>0.000</td>\n",
       "      <td>NaN</td>\n",
       "    </tr>\n",
       "    <tr>\n",
       "      <th>2</th>\n",
       "      <td>2017</td>\n",
       "      <td>NaN</td>\n",
       "      <td>226392.000</td>\n",
       "      <td>NaN</td>\n",
       "      <td>0.000</td>\n",
       "      <td>208504.796</td>\n",
       "      <td>NaN</td>\n",
       "      <td>NaN</td>\n",
       "      <td>17887.204</td>\n",
       "      <td>NaN</td>\n",
       "      <td>0.000</td>\n",
       "      <td>NaN</td>\n",
       "    </tr>\n",
       "    <tr>\n",
       "      <th>3</th>\n",
       "      <td>2016</td>\n",
       "      <td>NaN</td>\n",
       "      <td>243173.000</td>\n",
       "      <td>NaN</td>\n",
       "      <td>0.000</td>\n",
       "      <td>219067.346</td>\n",
       "      <td>NaN</td>\n",
       "      <td>NaN</td>\n",
       "      <td>24105.654</td>\n",
       "      <td>NaN</td>\n",
       "      <td>0.000</td>\n",
       "      <td>NaN</td>\n",
       "    </tr>\n",
       "    <tr>\n",
       "      <th>4</th>\n",
       "      <td>2015</td>\n",
       "      <td>NaN</td>\n",
       "      <td>253516.274</td>\n",
       "      <td>NaN</td>\n",
       "      <td>0.000</td>\n",
       "      <td>233796.549</td>\n",
       "      <td>NaN</td>\n",
       "      <td>NaN</td>\n",
       "      <td>19719.725</td>\n",
       "      <td>NaN</td>\n",
       "      <td>0.000</td>\n",
       "      <td>NaN</td>\n",
       "    </tr>\n",
       "    <tr>\n",
       "      <th>5</th>\n",
       "      <td>2014</td>\n",
       "      <td>NaN</td>\n",
       "      <td>252163.259</td>\n",
       "      <td>NaN</td>\n",
       "      <td>0.000</td>\n",
       "      <td>229803.324</td>\n",
       "      <td>NaN</td>\n",
       "      <td>NaN</td>\n",
       "      <td>22359.935</td>\n",
       "      <td>NaN</td>\n",
       "      <td>0.000</td>\n",
       "      <td>0.000</td>\n",
       "    </tr>\n",
       "    <tr>\n",
       "      <th>6</th>\n",
       "      <td>2013</td>\n",
       "      <td>NaN</td>\n",
       "      <td>251252.893</td>\n",
       "      <td>NaN</td>\n",
       "      <td>0.000</td>\n",
       "      <td>219867.706</td>\n",
       "      <td>NaN</td>\n",
       "      <td>NaN</td>\n",
       "      <td>31385.187</td>\n",
       "      <td>NaN</td>\n",
       "      <td>0.000</td>\n",
       "      <td>0.000</td>\n",
       "    </tr>\n",
       "    <tr>\n",
       "      <th>7</th>\n",
       "      <td>2012</td>\n",
       "      <td>NaN</td>\n",
       "      <td>181089.869</td>\n",
       "      <td>NaN</td>\n",
       "      <td>0.000</td>\n",
       "      <td>83677.098</td>\n",
       "      <td>NaN</td>\n",
       "      <td>NaN</td>\n",
       "      <td>97412.771</td>\n",
       "      <td>NaN</td>\n",
       "      <td>0.000</td>\n",
       "      <td>0.000</td>\n",
       "    </tr>\n",
       "    <tr>\n",
       "      <th>8</th>\n",
       "      <td>2011</td>\n",
       "      <td>NaN</td>\n",
       "      <td>0.000</td>\n",
       "      <td>NaN</td>\n",
       "      <td>0.000</td>\n",
       "      <td>0.000</td>\n",
       "      <td>NaN</td>\n",
       "      <td>NaN</td>\n",
       "      <td>0.000</td>\n",
       "      <td>NaN</td>\n",
       "      <td>0.000</td>\n",
       "      <td>0.000</td>\n",
       "    </tr>\n",
       "    <tr>\n",
       "      <th>9</th>\n",
       "      <td>2010</td>\n",
       "      <td>NaN</td>\n",
       "      <td>124997.421</td>\n",
       "      <td>NaN</td>\n",
       "      <td>37554.939</td>\n",
       "      <td>63204.261</td>\n",
       "      <td>NaN</td>\n",
       "      <td>NaN</td>\n",
       "      <td>10078.320</td>\n",
       "      <td>NaN</td>\n",
       "      <td>2743.257</td>\n",
       "      <td>11416.644</td>\n",
       "    </tr>\n",
       "  </tbody>\n",
       "</table>\n",
       "</div>"
      ],
      "text/plain": [
       "   year  agricultural_byproducts   all_fuels  biogenic_municipal_solid_waste  \\\n",
       "0  2019                      NaN  276641.000                             NaN   \n",
       "1  2018                      NaN  237532.000                             NaN   \n",
       "2  2017                      NaN  226392.000                             NaN   \n",
       "3  2016                      NaN  243173.000                             NaN   \n",
       "4  2015                      NaN  253516.274                             NaN   \n",
       "5  2014                      NaN  252163.259                             NaN   \n",
       "6  2013                      NaN  251252.893                             NaN   \n",
       "7  2012                      NaN  181089.869                             NaN   \n",
       "8  2011                      NaN       0.000                             NaN   \n",
       "9  2010                      NaN  124997.421                             NaN   \n",
       "\n",
       "   bituminous_coal  black_liquour  distillate_fuel_oil  municipal_solid_waste  \\\n",
       "0            0.000     254218.916                  NaN                    NaN   \n",
       "1            0.000     220628.436                  NaN                    NaN   \n",
       "2            0.000     208504.796                  NaN                    NaN   \n",
       "3            0.000     219067.346                  NaN                    NaN   \n",
       "4            0.000     233796.549                  NaN                    NaN   \n",
       "5            0.000     229803.324                  NaN                    NaN   \n",
       "6            0.000     219867.706                  NaN                    NaN   \n",
       "7            0.000      83677.098                  NaN                    NaN   \n",
       "8            0.000          0.000                  NaN                    NaN   \n",
       "9        37554.939      63204.261                  NaN                    NaN   \n",
       "\n",
       "   natural_gas  nonbiogenic_municipal_solid_waste  residual_fuel_oil  \\\n",
       "0    22422.084                                NaN              0.000   \n",
       "1    16903.564                                NaN              0.000   \n",
       "2    17887.204                                NaN              0.000   \n",
       "3    24105.654                                NaN              0.000   \n",
       "4    19719.725                                NaN              0.000   \n",
       "5    22359.935                                NaN              0.000   \n",
       "6    31385.187                                NaN              0.000   \n",
       "7    97412.771                                NaN              0.000   \n",
       "8        0.000                                NaN              0.000   \n",
       "9    10078.320                                NaN           2743.257   \n",
       "\n",
       "   woodwood_waste_solids  \n",
       "0                    NaN  \n",
       "1                    NaN  \n",
       "2                    NaN  \n",
       "3                    NaN  \n",
       "4                    NaN  \n",
       "5                  0.000  \n",
       "6                  0.000  \n",
       "7                  0.000  \n",
       "8                  0.000  \n",
       "9              11416.644  "
      ]
     },
     "execution_count": 39,
     "metadata": {},
     "output_type": "execute_result"
    }
   ],
   "source": [
    "plant_test_df = electricity_df\\\n",
    "    .filter(\n",
    "        (pysF.col(\"plant_id\") == 52152) &\n",
    "        (pysF.year(pysF.col(\"date\")) < 2020))\n",
    "\n",
    "plant_test_df\\\n",
    "    .withColumn(\n",
    "        \"year\",\n",
    "        pysF.year(pysF.col(\"date\")))\\\n",
    "    .groupBy(\"year\", \"fuel_type\")\\\n",
    "    .agg(pysF.sum(pysF.col(\"value\")).alias(\"generation\"))\\\n",
    "    .groupBy(\"year\")\\\n",
    "    .pivot(\"fuel_type\")\\\n",
    "    .agg(pysF.sum(pysF.col(\"generation\")))\\\n",
    "    .orderBy(pysF.col(\"year\").desc())\\\n",
    "    .limit(10)\\\n",
    "    .toPandas()"
   ]
  },
  {
   "cell_type": "code",
   "execution_count": 54,
   "metadata": {},
   "outputs": [
    {
     "data": {
      "text/html": [
       "<div>\n",
       "<style scoped>\n",
       "    .dataframe tbody tr th:only-of-type {\n",
       "        vertical-align: middle;\n",
       "    }\n",
       "\n",
       "    .dataframe tbody tr th {\n",
       "        vertical-align: top;\n",
       "    }\n",
       "\n",
       "    .dataframe thead th {\n",
       "        text-align: right;\n",
       "    }\n",
       "</style>\n",
       "<table border=\"1\" class=\"dataframe\">\n",
       "  <thead>\n",
       "    <tr style=\"text-align: right;\">\n",
       "      <th></th>\n",
       "      <th>fuel_type</th>\n",
       "      <th>end</th>\n",
       "    </tr>\n",
       "  </thead>\n",
       "  <tbody>\n",
       "    <tr>\n",
       "      <th>0</th>\n",
       "      <td>natural_gas</td>\n",
       "      <td>202008</td>\n",
       "    </tr>\n",
       "    <tr>\n",
       "      <th>1</th>\n",
       "      <td>woodwood_waste_solids</td>\n",
       "      <td>201404</td>\n",
       "    </tr>\n",
       "    <tr>\n",
       "      <th>2</th>\n",
       "      <td>nonbiogenic_municipal_solid_waste</td>\n",
       "      <td>200712</td>\n",
       "    </tr>\n",
       "    <tr>\n",
       "      <th>3</th>\n",
       "      <td>municipal_solid_waste</td>\n",
       "      <td>200512</td>\n",
       "    </tr>\n",
       "    <tr>\n",
       "      <th>4</th>\n",
       "      <td>all_fuels</td>\n",
       "      <td>202008</td>\n",
       "    </tr>\n",
       "    <tr>\n",
       "      <th>5</th>\n",
       "      <td>agricultural_byproducts</td>\n",
       "      <td>200306</td>\n",
       "    </tr>\n",
       "    <tr>\n",
       "      <th>6</th>\n",
       "      <td>black_liquour</td>\n",
       "      <td>202008</td>\n",
       "    </tr>\n",
       "    <tr>\n",
       "      <th>7</th>\n",
       "      <td>bituminous_coal</td>\n",
       "      <td>202008</td>\n",
       "    </tr>\n",
       "    <tr>\n",
       "      <th>8</th>\n",
       "      <td>residual_fuel_oil</td>\n",
       "      <td>202008</td>\n",
       "    </tr>\n",
       "    <tr>\n",
       "      <th>9</th>\n",
       "      <td>distillate_fuel_oil</td>\n",
       "      <td>200812</td>\n",
       "    </tr>\n",
       "    <tr>\n",
       "      <th>10</th>\n",
       "      <td>biogenic_municipal_solid_waste</td>\n",
       "      <td>200712</td>\n",
       "    </tr>\n",
       "  </tbody>\n",
       "</table>\n",
       "</div>"
      ],
      "text/plain": [
       "                            fuel_type     end\n",
       "0                         natural_gas  202008\n",
       "1               woodwood_waste_solids  201404\n",
       "2   nonbiogenic_municipal_solid_waste  200712\n",
       "3               municipal_solid_waste  200512\n",
       "4                           all_fuels  202008\n",
       "5             agricultural_byproducts  200306\n",
       "6                       black_liquour  202008\n",
       "7                     bituminous_coal  202008\n",
       "8                   residual_fuel_oil  202008\n",
       "9                 distillate_fuel_oil  200812\n",
       "10     biogenic_municipal_solid_waste  200712"
      ]
     },
     "execution_count": 54,
     "metadata": {},
     "output_type": "execute_result"
    }
   ],
   "source": [
    "plant_test_df\\\n",
    "    .select(\"fuel_type\", \"end\")\\\n",
    "    .distinct()\\\n",
    "    .toPandas()"
   ]
  },
  {
   "cell_type": "markdown",
   "metadata": {},
   "source": [
    "Note, you may need to enable WebGL to view the following graphics.  Instructions can be found by googling \"enable WebGL on (Chrome, Firefox, etc.)\"."
   ]
  },
  {
   "cell_type": "code",
   "execution_count": 55,
   "metadata": {},
   "outputs": [
    {
     "data": {
      "application/vnd.plotly.v1+json": {
       "config": {
        "plotlyServerURL": "https://plot.ly"
       },
       "data": [
        {
         "customdata": [
          [
           200512
          ],
          [
           200512
          ],
          [
           200512
          ],
          [
           200512
          ],
          [
           200512
          ],
          [
           200512
          ],
          [
           200512
          ],
          [
           200512
          ],
          [
           200512
          ],
          [
           200512
          ],
          [
           200512
          ],
          [
           200512
          ],
          [
           200512
          ],
          [
           200512
          ],
          [
           200512
          ],
          [
           200512
          ],
          [
           200512
          ],
          [
           200512
          ],
          [
           200512
          ],
          [
           200512
          ],
          [
           200512
          ],
          [
           200512
          ],
          [
           200512
          ],
          [
           200512
          ],
          [
           200512
          ],
          [
           200512
          ],
          [
           200512
          ],
          [
           200512
          ],
          [
           200512
          ],
          [
           200512
          ],
          [
           200512
          ],
          [
           200512
          ],
          [
           200512
          ],
          [
           200512
          ],
          [
           200512
          ],
          [
           200512
          ],
          [
           200512
          ],
          [
           200512
          ],
          [
           200512
          ],
          [
           200512
          ],
          [
           200512
          ],
          [
           200512
          ],
          [
           200512
          ],
          [
           200512
          ],
          [
           200512
          ],
          [
           200512
          ],
          [
           200512
          ],
          [
           200512
          ]
         ],
         "hovertemplate": "fuel_type=municipal_solid_waste<br>date=%{x}<br>value=%{y}<br>end=%{customdata[0]}<extra></extra>",
         "legendgroup": "municipal_solid_waste",
         "line": {
          "color": "#636efa",
          "dash": "solid"
         },
         "mode": "lines",
         "name": "municipal_solid_waste",
         "showlegend": true,
         "type": "scattergl",
         "x": [
          "2005-12-01",
          "2005-11-01",
          "2005-10-01",
          "2005-09-01",
          "2005-08-01",
          "2005-07-01",
          "2005-06-01",
          "2005-05-01",
          "2005-04-01",
          "2005-03-01",
          "2005-02-01",
          "2005-01-01",
          "2004-12-01",
          "2004-11-01",
          "2004-10-01",
          "2004-09-01",
          "2004-08-01",
          "2004-07-01",
          "2004-06-01",
          "2004-05-01",
          "2004-04-01",
          "2004-03-01",
          "2004-02-01",
          "2004-01-01",
          "2003-12-01",
          "2003-11-01",
          "2003-10-01",
          "2003-09-01",
          "2003-08-01",
          "2003-07-01",
          "2003-06-01",
          "2003-05-01",
          "2003-04-01",
          "2003-03-01",
          "2003-02-01",
          "2003-01-01",
          "2002-12-01",
          "2002-11-01",
          "2002-10-01",
          "2002-09-01",
          "2002-08-01",
          "2002-07-01",
          "2002-06-01",
          "2002-05-01",
          "2002-04-01",
          "2002-03-01",
          "2002-02-01",
          "2002-01-01"
         ],
         "xaxis": "x",
         "y": [
          "2867.04717",
          "3253.38139",
          "3768.95792",
          "3186.49724",
          "3081.83318",
          "3294.11452",
          "3688.15609",
          "3249.72197",
          "3278.80841",
          "3636.41163",
          "3252.32229",
          "3273.37002",
          "5273.54153",
          "4566.47328",
          "6525.71427",
          "5048.61253",
          "4994.35842",
          "4608.14286",
          "4526.97922",
          "4469.34759",
          "4346.06459",
          "4353.96976",
          "3017.14841",
          "3204.48709",
          "3616",
          "3584",
          "4419",
          "3910",
          "3900",
          "5499",
          "4629",
          "4702",
          "4457",
          "4541",
          "4814",
          "4739",
          "4677",
          "3164",
          "5276",
          "9004",
          "12139",
          "12425",
          "10852",
          "13567",
          "11264",
          "13148",
          "13128",
          "13364"
         ],
         "yaxis": "y"
        },
        {
         "customdata": [
          [
           200812
          ],
          [
           200812
          ],
          [
           200812
          ],
          [
           200812
          ],
          [
           200812
          ],
          [
           200812
          ],
          [
           200812
          ],
          [
           200812
          ],
          [
           200812
          ],
          [
           200812
          ],
          [
           200812
          ],
          [
           200812
          ],
          [
           200812
          ],
          [
           200812
          ],
          [
           200812
          ],
          [
           200812
          ],
          [
           200812
          ],
          [
           200812
          ],
          [
           200812
          ],
          [
           200812
          ],
          [
           200812
          ],
          [
           200812
          ],
          [
           200812
          ],
          [
           200812
          ],
          [
           200812
          ],
          [
           200812
          ],
          [
           200812
          ],
          [
           200812
          ],
          [
           200812
          ],
          [
           200812
          ],
          [
           200812
          ],
          [
           200812
          ],
          [
           200812
          ],
          [
           200812
          ],
          [
           200812
          ],
          [
           200812
          ],
          [
           200812
          ],
          [
           200812
          ],
          [
           200812
          ],
          [
           200812
          ],
          [
           200812
          ],
          [
           200812
          ],
          [
           200812
          ],
          [
           200812
          ],
          [
           200812
          ],
          [
           200812
          ],
          [
           200812
          ],
          [
           200812
          ],
          [
           200812
          ],
          [
           200812
          ],
          [
           200812
          ],
          [
           200812
          ],
          [
           200812
          ],
          [
           200812
          ],
          [
           200812
          ],
          [
           200812
          ],
          [
           200812
          ],
          [
           200812
          ],
          [
           200812
          ]
         ],
         "hovertemplate": "fuel_type=distillate_fuel_oil<br>date=%{x}<br>value=%{y}<br>end=%{customdata[0]}<extra></extra>",
         "legendgroup": "distillate_fuel_oil",
         "line": {
          "color": "#EF553B",
          "dash": "solid"
         },
         "mode": "lines",
         "name": "distillate_fuel_oil",
         "showlegend": true,
         "type": "scattergl",
         "x": [
          "2008-12-01",
          "2008-11-01",
          "2008-10-01",
          "2008-09-01",
          "2008-08-01",
          "2008-07-01",
          "2008-06-01",
          "2008-05-01",
          "2008-04-01",
          "2008-03-01",
          "2008-02-01",
          "2008-01-01",
          "2004-12-01",
          "2004-11-01",
          "2004-10-01",
          "2004-09-01",
          "2004-08-01",
          "2004-07-01",
          "2004-06-01",
          "2004-05-01",
          "2004-04-01",
          "2004-03-01",
          "2004-02-01",
          "2004-01-01",
          "2003-12-01",
          "2003-11-01",
          "2003-10-01",
          "2003-09-01",
          "2003-08-01",
          "2003-07-01",
          "2003-06-01",
          "2003-05-01",
          "2003-03-01",
          "2003-02-01",
          "2003-01-01",
          "2002-12-01",
          "2002-11-01",
          "2002-10-01",
          "2002-09-01",
          "2002-08-01",
          "2002-07-01",
          "2002-06-01",
          "2002-05-01",
          "2002-04-01",
          "2002-03-01",
          "2002-02-01",
          "2002-01-01",
          "2001-12-01",
          "2001-11-01",
          "2001-10-01",
          "2001-09-01",
          "2001-08-01",
          "2001-07-01",
          "2001-06-01",
          "2001-05-01",
          "2001-04-01",
          "2001-03-01",
          "2001-02-01",
          "2001-01-01"
         ],
         "xaxis": "x",
         "y": [
          "0",
          "0",
          "0",
          "0",
          "0",
          "0",
          "0",
          "0",
          "0",
          "0",
          "0",
          "0",
          "0",
          "0",
          "0",
          "0",
          "0",
          "0",
          "0",
          "0",
          "0",
          "0",
          "0",
          "0",
          "0",
          "0",
          "0",
          "0",
          "0",
          "0",
          "0",
          "0",
          "0",
          "0",
          "0",
          "0",
          "0",
          "0",
          "0",
          "0",
          "0",
          "0",
          "0",
          "0",
          "0",
          "0",
          "36",
          "158.824",
          "155.022",
          "159.558",
          "123.936",
          "144.526",
          "151.018",
          "135.464",
          "121.458",
          "107.252",
          "112.963",
          "121.741",
          "145.612"
         ],
         "yaxis": "y"
        },
        {
         "customdata": [
          [
           202008
          ],
          [
           202008
          ],
          [
           202008
          ],
          [
           202008
          ],
          [
           202008
          ],
          [
           202008
          ],
          [
           202008
          ],
          [
           202008
          ],
          [
           202008
          ],
          [
           202008
          ],
          [
           202008
          ],
          [
           202008
          ],
          [
           202008
          ],
          [
           202008
          ],
          [
           202008
          ],
          [
           202008
          ],
          [
           202008
          ],
          [
           202008
          ],
          [
           202008
          ],
          [
           202008
          ],
          [
           202008
          ],
          [
           202008
          ],
          [
           202008
          ],
          [
           202008
          ],
          [
           202008
          ],
          [
           202008
          ],
          [
           202008
          ],
          [
           202008
          ],
          [
           202008
          ],
          [
           202008
          ],
          [
           202008
          ],
          [
           202008
          ],
          [
           202008
          ],
          [
           202008
          ],
          [
           202008
          ],
          [
           202008
          ],
          [
           202008
          ],
          [
           202008
          ],
          [
           202008
          ],
          [
           202008
          ],
          [
           202008
          ],
          [
           202008
          ],
          [
           202008
          ],
          [
           202008
          ],
          [
           202008
          ],
          [
           202008
          ],
          [
           202008
          ],
          [
           202008
          ],
          [
           202008
          ],
          [
           202008
          ],
          [
           202008
          ],
          [
           202008
          ],
          [
           202008
          ],
          [
           202008
          ],
          [
           202008
          ],
          [
           202008
          ],
          [
           202008
          ],
          [
           202008
          ],
          [
           202008
          ],
          [
           202008
          ],
          [
           202008
          ],
          [
           202008
          ],
          [
           202008
          ],
          [
           202008
          ],
          [
           202008
          ],
          [
           202008
          ],
          [
           202008
          ],
          [
           202008
          ],
          [
           202008
          ],
          [
           202008
          ],
          [
           202008
          ],
          [
           202008
          ],
          [
           202008
          ],
          [
           202008
          ],
          [
           202008
          ],
          [
           202008
          ],
          [
           202008
          ],
          [
           202008
          ],
          [
           202008
          ],
          [
           202008
          ],
          [
           202008
          ],
          [
           202008
          ],
          [
           202008
          ],
          [
           202008
          ],
          [
           202008
          ],
          [
           202008
          ],
          [
           202008
          ],
          [
           202008
          ],
          [
           202008
          ],
          [
           202008
          ],
          [
           202008
          ],
          [
           202008
          ],
          [
           202008
          ],
          [
           202008
          ],
          [
           202008
          ],
          [
           202008
          ],
          [
           202008
          ],
          [
           202008
          ],
          [
           202008
          ],
          [
           202008
          ],
          [
           202008
          ],
          [
           202008
          ],
          [
           202008
          ],
          [
           202008
          ],
          [
           202008
          ],
          [
           202008
          ],
          [
           202008
          ],
          [
           202008
          ],
          [
           202008
          ],
          [
           202008
          ],
          [
           202008
          ],
          [
           202008
          ],
          [
           202008
          ],
          [
           202008
          ],
          [
           202008
          ],
          [
           202008
          ],
          [
           202008
          ],
          [
           202008
          ],
          [
           202008
          ],
          [
           202008
          ],
          [
           202008
          ],
          [
           202008
          ],
          [
           202008
          ],
          [
           202008
          ],
          [
           202008
          ],
          [
           202008
          ],
          [
           202008
          ],
          [
           202008
          ],
          [
           202008
          ],
          [
           202008
          ],
          [
           202008
          ],
          [
           202008
          ],
          [
           202008
          ],
          [
           202008
          ],
          [
           202008
          ],
          [
           202008
          ],
          [
           202008
          ],
          [
           202008
          ],
          [
           202008
          ],
          [
           202008
          ],
          [
           202008
          ],
          [
           202008
          ],
          [
           202008
          ],
          [
           202008
          ],
          [
           202008
          ],
          [
           202008
          ],
          [
           202008
          ],
          [
           202008
          ],
          [
           202008
          ],
          [
           202008
          ],
          [
           202008
          ],
          [
           202008
          ],
          [
           202008
          ],
          [
           202008
          ],
          [
           202008
          ],
          [
           202008
          ],
          [
           202008
          ],
          [
           202008
          ],
          [
           202008
          ],
          [
           202008
          ],
          [
           202008
          ],
          [
           202008
          ],
          [
           202008
          ],
          [
           202008
          ],
          [
           202008
          ],
          [
           202008
          ],
          [
           202008
          ],
          [
           202008
          ],
          [
           202008
          ],
          [
           202008
          ],
          [
           202008
          ],
          [
           202008
          ],
          [
           202008
          ],
          [
           202008
          ],
          [
           202008
          ],
          [
           202008
          ],
          [
           202008
          ],
          [
           202008
          ],
          [
           202008
          ],
          [
           202008
          ],
          [
           202008
          ],
          [
           202008
          ],
          [
           202008
          ],
          [
           202008
          ],
          [
           202008
          ],
          [
           202008
          ],
          [
           202008
          ],
          [
           202008
          ],
          [
           202008
          ],
          [
           202008
          ],
          [
           202008
          ],
          [
           202008
          ],
          [
           202008
          ],
          [
           202008
          ],
          [
           202008
          ],
          [
           202008
          ],
          [
           202008
          ],
          [
           202008
          ],
          [
           202008
          ],
          [
           202008
          ],
          [
           202008
          ],
          [
           202008
          ],
          [
           202008
          ],
          [
           202008
          ],
          [
           202008
          ],
          [
           202008
          ],
          [
           202008
          ],
          [
           202008
          ],
          [
           202008
          ],
          [
           202008
          ],
          [
           202008
          ],
          [
           202008
          ],
          [
           202008
          ],
          [
           202008
          ],
          [
           202008
          ],
          [
           202008
          ],
          [
           202008
          ],
          [
           202008
          ],
          [
           202008
          ],
          [
           202008
          ],
          [
           202008
          ],
          [
           202008
          ],
          [
           202008
          ],
          [
           202008
          ],
          [
           202008
          ]
         ],
         "hovertemplate": "fuel_type=residual_fuel_oil<br>date=%{x}<br>value=%{y}<br>end=%{customdata[0]}<extra></extra>",
         "legendgroup": "residual_fuel_oil",
         "line": {
          "color": "#00cc96",
          "dash": "solid"
         },
         "mode": "lines",
         "name": "residual_fuel_oil",
         "showlegend": true,
         "type": "scattergl",
         "x": [
          "2019-12-01",
          "2019-11-01",
          "2019-10-01",
          "2019-09-01",
          "2019-08-01",
          "2019-07-01",
          "2019-06-01",
          "2019-05-01",
          "2019-04-01",
          "2019-03-01",
          "2019-02-01",
          "2019-01-01",
          "2018-12-01",
          "2018-11-01",
          "2018-10-01",
          "2018-09-01",
          "2018-08-01",
          "2018-07-01",
          "2018-06-01",
          "2018-05-01",
          "2018-04-01",
          "2018-03-01",
          "2018-02-01",
          "2018-01-01",
          "2017-12-01",
          "2017-11-01",
          "2017-10-01",
          "2017-09-01",
          "2017-08-01",
          "2017-07-01",
          "2017-06-01",
          "2017-05-01",
          "2017-04-01",
          "2017-03-01",
          "2017-02-01",
          "2017-01-01",
          "2016-12-01",
          "2016-11-01",
          "2016-10-01",
          "2016-09-01",
          "2016-08-01",
          "2016-07-01",
          "2016-06-01",
          "2016-05-01",
          "2016-04-01",
          "2016-03-01",
          "2016-02-01",
          "2016-01-01",
          "2015-12-01",
          "2015-11-01",
          "2015-10-01",
          "2015-09-01",
          "2015-08-01",
          "2015-07-01",
          "2015-06-01",
          "2015-05-01",
          "2015-04-01",
          "2015-03-01",
          "2015-02-01",
          "2015-01-01",
          "2014-12-01",
          "2014-11-01",
          "2014-10-01",
          "2014-09-01",
          "2014-08-01",
          "2014-07-01",
          "2014-06-01",
          "2014-05-01",
          "2014-04-01",
          "2014-03-01",
          "2014-02-01",
          "2014-01-01",
          "2013-12-01",
          "2013-11-01",
          "2013-10-01",
          "2013-09-01",
          "2013-08-01",
          "2013-07-01",
          "2013-06-01",
          "2013-05-01",
          "2013-04-01",
          "2012-12-01",
          "2012-11-01",
          "2012-10-01",
          "2012-09-01",
          "2012-08-01",
          "2012-07-01",
          "2012-06-01",
          "2012-05-01",
          "2012-04-01",
          "2012-03-01",
          "2012-02-01",
          "2012-01-01",
          "2011-12-01",
          "2011-11-01",
          "2011-10-01",
          "2011-09-01",
          "2011-08-01",
          "2011-07-01",
          "2011-06-01",
          "2011-05-01",
          "2011-04-01",
          "2011-03-01",
          "2011-02-01",
          "2011-01-01",
          "2010-12-01",
          "2010-11-01",
          "2010-10-01",
          "2010-09-01",
          "2010-08-01",
          "2010-07-01",
          "2010-06-01",
          "2010-05-01",
          "2010-04-01",
          "2010-03-01",
          "2010-02-01",
          "2010-01-01",
          "2009-12-01",
          "2009-11-01",
          "2009-10-01",
          "2009-09-01",
          "2009-08-01",
          "2009-07-01",
          "2009-06-01",
          "2009-05-01",
          "2009-04-01",
          "2009-03-01",
          "2009-02-01",
          "2009-01-01",
          "2008-12-01",
          "2008-11-01",
          "2008-10-01",
          "2008-09-01",
          "2008-08-01",
          "2008-07-01",
          "2008-06-01",
          "2008-05-01",
          "2008-04-01",
          "2008-03-01",
          "2008-02-01",
          "2008-01-01",
          "2007-12-01",
          "2007-11-01",
          "2007-10-01",
          "2007-09-01",
          "2007-08-01",
          "2007-07-01",
          "2007-06-01",
          "2007-05-01",
          "2007-04-01",
          "2007-03-01",
          "2007-02-01",
          "2007-01-01",
          "2006-12-01",
          "2006-11-01",
          "2006-10-01",
          "2006-09-01",
          "2006-08-01",
          "2006-07-01",
          "2006-06-01",
          "2006-05-01",
          "2006-04-01",
          "2006-03-01",
          "2006-02-01",
          "2006-01-01",
          "2005-12-01",
          "2005-11-01",
          "2005-10-01",
          "2005-09-01",
          "2005-08-01",
          "2005-07-01",
          "2005-06-01",
          "2005-05-01",
          "2005-04-01",
          "2005-03-01",
          "2005-02-01",
          "2005-01-01",
          "2004-12-01",
          "2004-11-01",
          "2004-10-01",
          "2004-09-01",
          "2004-08-01",
          "2004-07-01",
          "2004-06-01",
          "2004-05-01",
          "2004-04-01",
          "2004-03-01",
          "2004-02-01",
          "2004-01-01",
          "2003-12-01",
          "2003-11-01",
          "2003-10-01",
          "2003-09-01",
          "2003-08-01",
          "2003-07-01",
          "2003-06-01",
          "2003-05-01",
          "2003-04-01",
          "2003-03-01",
          "2003-02-01",
          "2003-01-01",
          "2002-12-01",
          "2002-11-01",
          "2002-10-01",
          "2002-09-01",
          "2002-08-01",
          "2002-07-01",
          "2002-06-01",
          "2002-05-01",
          "2002-04-01",
          "2002-03-01",
          "2002-02-01",
          "2002-01-01",
          "2001-12-01",
          "2001-11-01",
          "2001-10-01",
          "2001-09-01",
          "2001-08-01",
          "2001-07-01",
          "2001-06-01",
          "2001-05-01",
          "2001-04-01",
          "2001-03-01",
          "2001-02-01",
          "2001-01-01"
         ],
         "xaxis": "x",
         "y": [
          "0",
          "0",
          "0",
          "0",
          "0",
          "0",
          "0",
          "0",
          "0",
          "0",
          "0",
          "0",
          "0",
          "0",
          "0",
          "0",
          "0",
          "0",
          "0",
          "0",
          "0",
          "0",
          "0",
          "0",
          "0",
          "0",
          "0",
          "0",
          "0",
          "0",
          "0",
          "0",
          "0",
          "0",
          "0",
          "0",
          "0",
          "0",
          "0",
          "0",
          "0",
          "0",
          "0",
          "0",
          "0",
          "0",
          "0",
          "0",
          "0",
          "0",
          "0",
          "0",
          "0",
          "0",
          "0",
          "0",
          "0",
          "0",
          "0",
          "0",
          "0",
          "0",
          "0",
          "0",
          "0",
          "0",
          "0",
          "0",
          "0",
          "0",
          "0",
          "0",
          "0",
          "0",
          "0",
          "0",
          "0",
          "0",
          "0",
          "0",
          "0",
          "0",
          "0",
          "0",
          "0",
          "0",
          "0",
          "0",
          "0",
          "0",
          "0",
          "0",
          "0",
          "0",
          "0",
          "0",
          "0",
          "0",
          "0",
          "0",
          "0",
          "0",
          "0",
          "0",
          "0",
          "0",
          "0",
          "0",
          "0",
          "0",
          "0",
          "0",
          "0",
          "892.406",
          "547.884",
          "709.073",
          "593.894",
          "775.062",
          "187.43",
          "48.643",
          "155.257",
          "365.816",
          "1188.2",
          "332.155",
          "14990.343",
          "770.975",
          "461.361",
          "521.022",
          "604.028",
          "358.943",
          "175.376",
          "416.635",
          "217.18",
          "218.38",
          "282.222",
          "106.332",
          "223.898",
          "237.166",
          "232.83",
          "232.25",
          "160.597",
          "3817.252",
          "3397.198",
          "2346.394",
          "3065.289",
          "3472.082",
          "3610.575",
          "3362.252",
          "4047.043",
          "3677.018",
          "4978.628",
          "4066.886",
          "4639.354",
          "4653.78508",
          "3031.41888",
          "3198.81156",
          "3699.63573",
          "3402.39995",
          "2542.24167",
          "1804.71553",
          "2079.48723",
          "2834.17139",
          "2301.34126",
          "2071.71559",
          "2198.16431",
          "2173.7779",
          "3088.66123",
          "3114.64626",
          "1992.98582",
          "2497.61177",
          "1704.95329",
          "2696.20031",
          "2843.51873",
          "2707.89629",
          "2774.97602",
          "2452.49899",
          "3340.55457",
          "4831.23419",
          "4677.01006",
          "4105.42629",
          "3303.87143",
          "4285.21693",
          "4458.19317",
          "3357.16033",
          "4298.84983",
          "4108.00024",
          "4513.41546",
          "3515.67743",
          "4721.44877",
          "2520",
          "3867",
          "4799",
          "3772",
          "4827",
          "7065",
          "1811",
          "3169",
          "1321",
          "1954",
          "1717",
          "1514",
          "2253",
          "1041",
          "882",
          "2981",
          "1900",
          "3559",
          "1829",
          "2317",
          "3022",
          "6519",
          "3076",
          "3124",
          "5602.026",
          "5467.895",
          "5627.912",
          "4371.433",
          "5097.682",
          "5326.676",
          "4778.046",
          "4284.057",
          "3782.979",
          "3984.413",
          "4294.013",
          "5135.994"
         ],
         "yaxis": "y"
        },
        {
         "customdata": [
          [
           202008
          ],
          [
           202008
          ],
          [
           202008
          ],
          [
           202008
          ],
          [
           202008
          ],
          [
           202008
          ],
          [
           202008
          ],
          [
           202008
          ],
          [
           202008
          ],
          [
           202008
          ],
          [
           202008
          ],
          [
           202008
          ],
          [
           202008
          ],
          [
           202008
          ],
          [
           202008
          ],
          [
           202008
          ],
          [
           202008
          ],
          [
           202008
          ],
          [
           202008
          ],
          [
           202008
          ],
          [
           202008
          ],
          [
           202008
          ],
          [
           202008
          ],
          [
           202008
          ],
          [
           202008
          ],
          [
           202008
          ],
          [
           202008
          ],
          [
           202008
          ],
          [
           202008
          ],
          [
           202008
          ],
          [
           202008
          ],
          [
           202008
          ],
          [
           202008
          ],
          [
           202008
          ],
          [
           202008
          ],
          [
           202008
          ],
          [
           202008
          ],
          [
           202008
          ],
          [
           202008
          ],
          [
           202008
          ],
          [
           202008
          ],
          [
           202008
          ],
          [
           202008
          ],
          [
           202008
          ],
          [
           202008
          ],
          [
           202008
          ],
          [
           202008
          ],
          [
           202008
          ],
          [
           202008
          ],
          [
           202008
          ],
          [
           202008
          ],
          [
           202008
          ],
          [
           202008
          ],
          [
           202008
          ],
          [
           202008
          ],
          [
           202008
          ],
          [
           202008
          ],
          [
           202008
          ],
          [
           202008
          ],
          [
           202008
          ],
          [
           202008
          ],
          [
           202008
          ],
          [
           202008
          ],
          [
           202008
          ],
          [
           202008
          ],
          [
           202008
          ],
          [
           202008
          ],
          [
           202008
          ],
          [
           202008
          ],
          [
           202008
          ],
          [
           202008
          ],
          [
           202008
          ],
          [
           202008
          ],
          [
           202008
          ],
          [
           202008
          ],
          [
           202008
          ],
          [
           202008
          ],
          [
           202008
          ],
          [
           202008
          ],
          [
           202008
          ],
          [
           202008
          ],
          [
           202008
          ],
          [
           202008
          ],
          [
           202008
          ],
          [
           202008
          ],
          [
           202008
          ],
          [
           202008
          ],
          [
           202008
          ],
          [
           202008
          ],
          [
           202008
          ],
          [
           202008
          ],
          [
           202008
          ],
          [
           202008
          ],
          [
           202008
          ],
          [
           202008
          ],
          [
           202008
          ],
          [
           202008
          ],
          [
           202008
          ],
          [
           202008
          ],
          [
           202008
          ],
          [
           202008
          ],
          [
           202008
          ],
          [
           202008
          ],
          [
           202008
          ],
          [
           202008
          ],
          [
           202008
          ],
          [
           202008
          ],
          [
           202008
          ],
          [
           202008
          ],
          [
           202008
          ],
          [
           202008
          ],
          [
           202008
          ],
          [
           202008
          ],
          [
           202008
          ],
          [
           202008
          ],
          [
           202008
          ],
          [
           202008
          ],
          [
           202008
          ],
          [
           202008
          ],
          [
           202008
          ],
          [
           202008
          ],
          [
           202008
          ],
          [
           202008
          ],
          [
           202008
          ],
          [
           202008
          ],
          [
           202008
          ],
          [
           202008
          ],
          [
           202008
          ],
          [
           202008
          ],
          [
           202008
          ],
          [
           202008
          ],
          [
           202008
          ],
          [
           202008
          ],
          [
           202008
          ],
          [
           202008
          ],
          [
           202008
          ],
          [
           202008
          ],
          [
           202008
          ],
          [
           202008
          ],
          [
           202008
          ],
          [
           202008
          ],
          [
           202008
          ],
          [
           202008
          ],
          [
           202008
          ],
          [
           202008
          ],
          [
           202008
          ],
          [
           202008
          ],
          [
           202008
          ],
          [
           202008
          ],
          [
           202008
          ],
          [
           202008
          ],
          [
           202008
          ],
          [
           202008
          ],
          [
           202008
          ],
          [
           202008
          ],
          [
           202008
          ],
          [
           202008
          ],
          [
           202008
          ],
          [
           202008
          ],
          [
           202008
          ],
          [
           202008
          ],
          [
           202008
          ],
          [
           202008
          ],
          [
           202008
          ],
          [
           202008
          ],
          [
           202008
          ],
          [
           202008
          ],
          [
           202008
          ],
          [
           202008
          ],
          [
           202008
          ],
          [
           202008
          ],
          [
           202008
          ],
          [
           202008
          ],
          [
           202008
          ],
          [
           202008
          ],
          [
           202008
          ],
          [
           202008
          ],
          [
           202008
          ],
          [
           202008
          ],
          [
           202008
          ],
          [
           202008
          ],
          [
           202008
          ],
          [
           202008
          ],
          [
           202008
          ],
          [
           202008
          ],
          [
           202008
          ],
          [
           202008
          ],
          [
           202008
          ],
          [
           202008
          ],
          [
           202008
          ],
          [
           202008
          ],
          [
           202008
          ],
          [
           202008
          ],
          [
           202008
          ],
          [
           202008
          ],
          [
           202008
          ],
          [
           202008
          ],
          [
           202008
          ],
          [
           202008
          ],
          [
           202008
          ],
          [
           202008
          ],
          [
           202008
          ],
          [
           202008
          ],
          [
           202008
          ],
          [
           202008
          ],
          [
           202008
          ],
          [
           202008
          ],
          [
           202008
          ],
          [
           202008
          ],
          [
           202008
          ],
          [
           202008
          ],
          [
           202008
          ],
          [
           202008
          ],
          [
           202008
          ],
          [
           202008
          ],
          [
           202008
          ],
          [
           202008
          ],
          [
           202008
          ],
          [
           202008
          ],
          [
           202008
          ],
          [
           202008
          ],
          [
           202008
          ],
          [
           202008
          ],
          [
           202008
          ],
          [
           202008
          ],
          [
           202008
          ],
          [
           202008
          ],
          [
           202008
          ]
         ],
         "hovertemplate": "fuel_type=all_fuels<br>date=%{x}<br>value=%{y}<br>end=%{customdata[0]}<extra></extra>",
         "legendgroup": "all_fuels",
         "line": {
          "color": "#ab63fa",
          "dash": "solid"
         },
         "mode": "lines",
         "name": "all_fuels",
         "showlegend": true,
         "type": "scattergl",
         "x": [
          "2019-12-01",
          "2019-11-01",
          "2019-10-01",
          "2019-09-01",
          "2019-08-01",
          "2019-07-01",
          "2019-06-01",
          "2019-05-01",
          "2019-04-01",
          "2019-03-01",
          "2019-02-01",
          "2019-01-01",
          "2018-12-01",
          "2018-11-01",
          "2018-10-01",
          "2018-09-01",
          "2018-08-01",
          "2018-07-01",
          "2018-06-01",
          "2018-05-01",
          "2018-04-01",
          "2018-03-01",
          "2018-02-01",
          "2018-01-01",
          "2017-12-01",
          "2017-11-01",
          "2017-10-01",
          "2017-09-01",
          "2017-08-01",
          "2017-07-01",
          "2017-06-01",
          "2017-05-01",
          "2017-04-01",
          "2017-03-01",
          "2017-02-01",
          "2017-01-01",
          "2016-12-01",
          "2016-11-01",
          "2016-10-01",
          "2016-09-01",
          "2016-08-01",
          "2016-07-01",
          "2016-06-01",
          "2016-05-01",
          "2016-04-01",
          "2016-03-01",
          "2016-02-01",
          "2016-01-01",
          "2015-12-01",
          "2015-11-01",
          "2015-10-01",
          "2015-09-01",
          "2015-08-01",
          "2015-07-01",
          "2015-06-01",
          "2015-05-01",
          "2015-04-01",
          "2015-03-01",
          "2015-02-01",
          "2015-01-01",
          "2014-12-01",
          "2014-11-01",
          "2014-10-01",
          "2014-09-01",
          "2014-08-01",
          "2014-07-01",
          "2014-06-01",
          "2014-05-01",
          "2014-04-01",
          "2014-03-01",
          "2014-02-01",
          "2014-01-01",
          "2013-12-01",
          "2013-11-01",
          "2013-10-01",
          "2013-09-01",
          "2013-08-01",
          "2013-07-01",
          "2013-06-01",
          "2013-05-01",
          "2013-04-01",
          "2013-03-01",
          "2013-02-01",
          "2013-01-01",
          "2012-12-01",
          "2012-11-01",
          "2012-10-01",
          "2012-09-01",
          "2012-08-01",
          "2012-07-01",
          "2012-06-01",
          "2012-05-01",
          "2012-04-01",
          "2012-03-01",
          "2012-02-01",
          "2012-01-01",
          "2011-12-01",
          "2011-11-01",
          "2011-10-01",
          "2011-09-01",
          "2011-08-01",
          "2011-07-01",
          "2011-06-01",
          "2011-05-01",
          "2011-04-01",
          "2011-03-01",
          "2011-02-01",
          "2011-01-01",
          "2010-12-01",
          "2010-11-01",
          "2010-10-01",
          "2010-09-01",
          "2010-08-01",
          "2010-07-01",
          "2010-06-01",
          "2010-05-01",
          "2010-04-01",
          "2010-03-01",
          "2010-02-01",
          "2010-01-01",
          "2009-12-01",
          "2009-11-01",
          "2009-10-01",
          "2009-09-01",
          "2009-08-01",
          "2009-07-01",
          "2009-06-01",
          "2009-05-01",
          "2009-04-01",
          "2009-03-01",
          "2009-02-01",
          "2009-01-01",
          "2008-12-01",
          "2008-11-01",
          "2008-10-01",
          "2008-09-01",
          "2008-08-01",
          "2008-07-01",
          "2008-06-01",
          "2008-05-01",
          "2008-04-01",
          "2008-03-01",
          "2008-02-01",
          "2008-01-01",
          "2007-12-01",
          "2007-11-01",
          "2007-10-01",
          "2007-09-01",
          "2007-08-01",
          "2007-07-01",
          "2007-06-01",
          "2007-05-01",
          "2007-04-01",
          "2007-03-01",
          "2007-02-01",
          "2007-01-01",
          "2006-12-01",
          "2006-11-01",
          "2006-10-01",
          "2006-09-01",
          "2006-08-01",
          "2006-07-01",
          "2006-06-01",
          "2006-05-01",
          "2006-04-01",
          "2006-03-01",
          "2006-02-01",
          "2006-01-01",
          "2005-12-01",
          "2005-11-01",
          "2005-10-01",
          "2005-09-01",
          "2005-08-01",
          "2005-07-01",
          "2005-06-01",
          "2005-05-01",
          "2005-04-01",
          "2005-03-01",
          "2005-02-01",
          "2005-01-01",
          "2004-12-01",
          "2004-11-01",
          "2004-10-01",
          "2004-09-01",
          "2004-08-01",
          "2004-07-01",
          "2004-06-01",
          "2004-05-01",
          "2004-04-01",
          "2004-03-01",
          "2004-02-01",
          "2004-01-01",
          "2003-12-01",
          "2003-11-01",
          "2003-10-01",
          "2003-09-01",
          "2003-08-01",
          "2003-07-01",
          "2003-06-01",
          "2003-05-01",
          "2003-04-01",
          "2003-03-01",
          "2003-02-01",
          "2003-01-01",
          "2002-12-01",
          "2002-11-01",
          "2002-10-01",
          "2002-09-01",
          "2002-08-01",
          "2002-07-01",
          "2002-06-01",
          "2002-05-01",
          "2002-04-01",
          "2002-03-01",
          "2002-02-01",
          "2002-01-01",
          "2001-12-01",
          "2001-11-01",
          "2001-10-01",
          "2001-09-01",
          "2001-08-01",
          "2001-07-01",
          "2001-06-01",
          "2001-05-01",
          "2001-04-01",
          "2001-03-01",
          "2001-02-01",
          "2001-01-01"
         ],
         "xaxis": "x",
         "y": [
          "25621",
          "24051",
          "25008",
          "23151",
          "25413",
          "23778",
          "23477",
          "24193",
          "18493",
          "15990",
          "22166",
          "25300",
          "25286",
          "24689",
          "24606",
          "23748",
          "24814",
          "24581",
          "23738",
          "21893",
          "16076",
          "0",
          "6217",
          "21884",
          "18911",
          "18180",
          "18089",
          "18940",
          "18040",
          "18632",
          "19539",
          "18339",
          "20078",
          "16632",
          "19598",
          "21414",
          "21367",
          "15543",
          "19985",
          "16242",
          "18823",
          "19394",
          "21053",
          "21905",
          "21403",
          "22237",
          "22761",
          "22460",
          "22440",
          "22028",
          "22883",
          "13074",
          "21542.41",
          "22280",
          "20790.495",
          "20791.455",
          "21164.052",
          "22372.109",
          "20841.391",
          "23309.362",
          "23327.608",
          "22220.382",
          "22467.179",
          "11092.425",
          "21622.115",
          "22112.828",
          "20874.041",
          "22466.219",
          "21445.42",
          "23155.714",
          "18404.15",
          "22975.178",
          "23249.823",
          "20480.318",
          "22009.116",
          "22513.273",
          "23091.374",
          "10143.649",
          "20700.227",
          "22583.375",
          "20501.445",
          "23954.684",
          "21132.362",
          "20893.247",
          "21651.884",
          "22888.903",
          "24518.708",
          "28276.4",
          "35104.379",
          "30473.595",
          "18176",
          "0",
          "0",
          "0",
          "0",
          "0",
          "0",
          "0",
          "0",
          "0",
          "0",
          "0",
          "0",
          "0",
          "0",
          "0",
          "0",
          "0",
          "0",
          "0",
          "0",
          "0",
          "0",
          "0",
          "0",
          "0",
          "18089.171",
          "34687.817",
          "33113.212",
          "39107.221",
          "42048.087",
          "40601.084",
          "56362.935",
          "42192.006",
          "56466.655",
          "47270.073",
          "35535.164",
          "34690.286",
          "44298.608",
          "34760.468",
          "36835.187",
          "44701.157",
          "45999.462",
          "52013.699",
          "49811.102",
          "50384.915",
          "52253.959",
          "57459.704",
          "57672.487",
          "53122.514",
          "54702.999",
          "60477.999",
          "54477.229",
          "60410.161",
          "54883.682",
          "49522.146",
          "44052.076",
          "49293.158",
          "51566.575",
          "49845.508",
          "46749.417",
          "59027.081",
          "52733.17",
          "58684.528",
          "56654.615",
          "53712.294",
          "50831.567",
          "52370.36001",
          "45535.648",
          "51655.94501",
          "48832.69101",
          "46639.412",
          "50901.129",
          "47520.613",
          "50030.58",
          "57732.368",
          "57410.052",
          "53878.62699",
          "57284.90901",
          "53913.63699",
          "50929.87799",
          "46800.51701",
          "63920.32701",
          "62387.14299",
          "52960.432",
          "57237.745",
          "52542.09",
          "63879.724",
          "59084.496",
          "59723.825",
          "60190.588",
          "50375.23001",
          "76916.31999",
          "62002.183",
          "63530.23699",
          "61762.16501",
          "56117.22199",
          "59759.84601",
          "53476.49799",
          "62062.55499",
          "62407.66901",
          "65296.18",
          "68152",
          "60891",
          "59407",
          "57464",
          "60256",
          "80886",
          "63578",
          "58838",
          "65113",
          "68416",
          "65391",
          "68335",
          "71929",
          "65023",
          "67361",
          "58939",
          "65498",
          "69029",
          "64606",
          "68014",
          "69114",
          "70971",
          "70742",
          "67376",
          "70333",
          "68649",
          "70657.999",
          "54883.001",
          "64001.001",
          "66876",
          "59988",
          "53785.999",
          "47495.001",
          "50024",
          "53911.001",
          "64482.001"
         ],
         "yaxis": "y"
        },
        {
         "customdata": [
          [
           202008
          ],
          [
           202008
          ],
          [
           202008
          ],
          [
           202008
          ],
          [
           202008
          ],
          [
           202008
          ],
          [
           202008
          ],
          [
           202008
          ],
          [
           202008
          ],
          [
           202008
          ],
          [
           202008
          ],
          [
           202008
          ],
          [
           202008
          ],
          [
           202008
          ],
          [
           202008
          ],
          [
           202008
          ],
          [
           202008
          ],
          [
           202008
          ],
          [
           202008
          ],
          [
           202008
          ],
          [
           202008
          ],
          [
           202008
          ],
          [
           202008
          ],
          [
           202008
          ],
          [
           202008
          ],
          [
           202008
          ],
          [
           202008
          ],
          [
           202008
          ],
          [
           202008
          ],
          [
           202008
          ],
          [
           202008
          ],
          [
           202008
          ],
          [
           202008
          ],
          [
           202008
          ],
          [
           202008
          ],
          [
           202008
          ],
          [
           202008
          ],
          [
           202008
          ],
          [
           202008
          ],
          [
           202008
          ],
          [
           202008
          ],
          [
           202008
          ],
          [
           202008
          ],
          [
           202008
          ],
          [
           202008
          ],
          [
           202008
          ],
          [
           202008
          ],
          [
           202008
          ],
          [
           202008
          ],
          [
           202008
          ],
          [
           202008
          ],
          [
           202008
          ],
          [
           202008
          ],
          [
           202008
          ],
          [
           202008
          ],
          [
           202008
          ],
          [
           202008
          ],
          [
           202008
          ],
          [
           202008
          ],
          [
           202008
          ],
          [
           202008
          ],
          [
           202008
          ],
          [
           202008
          ],
          [
           202008
          ],
          [
           202008
          ],
          [
           202008
          ],
          [
           202008
          ],
          [
           202008
          ],
          [
           202008
          ],
          [
           202008
          ],
          [
           202008
          ],
          [
           202008
          ],
          [
           202008
          ],
          [
           202008
          ],
          [
           202008
          ],
          [
           202008
          ],
          [
           202008
          ],
          [
           202008
          ],
          [
           202008
          ],
          [
           202008
          ],
          [
           202008
          ],
          [
           202008
          ],
          [
           202008
          ],
          [
           202008
          ],
          [
           202008
          ],
          [
           202008
          ],
          [
           202008
          ],
          [
           202008
          ],
          [
           202008
          ],
          [
           202008
          ],
          [
           202008
          ],
          [
           202008
          ],
          [
           202008
          ],
          [
           202008
          ],
          [
           202008
          ],
          [
           202008
          ],
          [
           202008
          ],
          [
           202008
          ],
          [
           202008
          ],
          [
           202008
          ],
          [
           202008
          ],
          [
           202008
          ],
          [
           202008
          ],
          [
           202008
          ],
          [
           202008
          ],
          [
           202008
          ],
          [
           202008
          ],
          [
           202008
          ],
          [
           202008
          ],
          [
           202008
          ],
          [
           202008
          ],
          [
           202008
          ],
          [
           202008
          ],
          [
           202008
          ],
          [
           202008
          ],
          [
           202008
          ],
          [
           202008
          ],
          [
           202008
          ],
          [
           202008
          ],
          [
           202008
          ],
          [
           202008
          ],
          [
           202008
          ],
          [
           202008
          ],
          [
           202008
          ],
          [
           202008
          ],
          [
           202008
          ],
          [
           202008
          ],
          [
           202008
          ],
          [
           202008
          ],
          [
           202008
          ],
          [
           202008
          ],
          [
           202008
          ],
          [
           202008
          ],
          [
           202008
          ],
          [
           202008
          ],
          [
           202008
          ],
          [
           202008
          ],
          [
           202008
          ],
          [
           202008
          ],
          [
           202008
          ],
          [
           202008
          ],
          [
           202008
          ],
          [
           202008
          ],
          [
           202008
          ],
          [
           202008
          ],
          [
           202008
          ],
          [
           202008
          ],
          [
           202008
          ],
          [
           202008
          ],
          [
           202008
          ],
          [
           202008
          ],
          [
           202008
          ],
          [
           202008
          ],
          [
           202008
          ],
          [
           202008
          ],
          [
           202008
          ],
          [
           202008
          ],
          [
           202008
          ],
          [
           202008
          ],
          [
           202008
          ],
          [
           202008
          ],
          [
           202008
          ],
          [
           202008
          ],
          [
           202008
          ],
          [
           202008
          ],
          [
           202008
          ],
          [
           202008
          ],
          [
           202008
          ],
          [
           202008
          ],
          [
           202008
          ],
          [
           202008
          ],
          [
           202008
          ],
          [
           202008
          ],
          [
           202008
          ],
          [
           202008
          ],
          [
           202008
          ],
          [
           202008
          ],
          [
           202008
          ],
          [
           202008
          ],
          [
           202008
          ],
          [
           202008
          ],
          [
           202008
          ],
          [
           202008
          ],
          [
           202008
          ],
          [
           202008
          ],
          [
           202008
          ],
          [
           202008
          ],
          [
           202008
          ],
          [
           202008
          ],
          [
           202008
          ],
          [
           202008
          ],
          [
           202008
          ],
          [
           202008
          ],
          [
           202008
          ],
          [
           202008
          ],
          [
           202008
          ],
          [
           202008
          ],
          [
           202008
          ],
          [
           202008
          ],
          [
           202008
          ],
          [
           202008
          ],
          [
           202008
          ],
          [
           202008
          ],
          [
           202008
          ],
          [
           202008
          ],
          [
           202008
          ],
          [
           202008
          ],
          [
           202008
          ],
          [
           202008
          ],
          [
           202008
          ],
          [
           202008
          ],
          [
           202008
          ],
          [
           202008
          ],
          [
           202008
          ],
          [
           202008
          ],
          [
           202008
          ],
          [
           202008
          ],
          [
           202008
          ],
          [
           202008
          ],
          [
           202008
          ],
          [
           202008
          ],
          [
           202008
          ],
          [
           202008
          ],
          [
           202008
          ],
          [
           202008
          ]
         ],
         "hovertemplate": "fuel_type=bituminous_coal<br>date=%{x}<br>value=%{y}<br>end=%{customdata[0]}<extra></extra>",
         "legendgroup": "bituminous_coal",
         "line": {
          "color": "#FFA15A",
          "dash": "solid"
         },
         "mode": "lines",
         "name": "bituminous_coal",
         "showlegend": true,
         "type": "scattergl",
         "x": [
          "2019-12-01",
          "2019-11-01",
          "2019-10-01",
          "2019-09-01",
          "2019-08-01",
          "2019-07-01",
          "2019-06-01",
          "2019-05-01",
          "2019-04-01",
          "2019-03-01",
          "2019-02-01",
          "2019-01-01",
          "2018-12-01",
          "2018-11-01",
          "2018-10-01",
          "2018-09-01",
          "2018-08-01",
          "2018-07-01",
          "2018-06-01",
          "2018-05-01",
          "2018-04-01",
          "2018-03-01",
          "2018-02-01",
          "2018-01-01",
          "2017-12-01",
          "2017-11-01",
          "2017-10-01",
          "2017-09-01",
          "2017-08-01",
          "2017-07-01",
          "2017-06-01",
          "2017-05-01",
          "2017-04-01",
          "2017-03-01",
          "2017-02-01",
          "2017-01-01",
          "2016-12-01",
          "2016-11-01",
          "2016-10-01",
          "2016-09-01",
          "2016-08-01",
          "2016-07-01",
          "2016-06-01",
          "2016-05-01",
          "2016-04-01",
          "2016-03-01",
          "2016-02-01",
          "2016-01-01",
          "2015-12-01",
          "2015-11-01",
          "2015-10-01",
          "2015-09-01",
          "2015-08-01",
          "2015-07-01",
          "2015-06-01",
          "2015-05-01",
          "2015-04-01",
          "2015-03-01",
          "2015-02-01",
          "2015-01-01",
          "2014-12-01",
          "2014-11-01",
          "2014-10-01",
          "2014-09-01",
          "2014-08-01",
          "2014-07-01",
          "2014-06-01",
          "2014-05-01",
          "2014-04-01",
          "2014-03-01",
          "2014-02-01",
          "2014-01-01",
          "2013-12-01",
          "2013-11-01",
          "2013-10-01",
          "2013-09-01",
          "2013-08-01",
          "2013-07-01",
          "2013-06-01",
          "2013-05-01",
          "2013-04-01",
          "2012-12-01",
          "2012-11-01",
          "2012-10-01",
          "2012-09-01",
          "2012-08-01",
          "2012-07-01",
          "2012-06-01",
          "2012-05-01",
          "2012-04-01",
          "2012-03-01",
          "2012-02-01",
          "2012-01-01",
          "2011-12-01",
          "2011-11-01",
          "2011-10-01",
          "2011-09-01",
          "2011-08-01",
          "2011-07-01",
          "2011-06-01",
          "2011-05-01",
          "2011-04-01",
          "2011-03-01",
          "2011-02-01",
          "2011-01-01",
          "2010-12-01",
          "2010-11-01",
          "2010-10-01",
          "2010-09-01",
          "2010-08-01",
          "2010-07-01",
          "2010-06-01",
          "2010-05-01",
          "2010-04-01",
          "2010-03-01",
          "2010-02-01",
          "2010-01-01",
          "2009-12-01",
          "2009-11-01",
          "2009-10-01",
          "2009-09-01",
          "2009-08-01",
          "2009-07-01",
          "2009-06-01",
          "2009-05-01",
          "2009-04-01",
          "2009-03-01",
          "2009-02-01",
          "2009-01-01",
          "2008-12-01",
          "2008-11-01",
          "2008-10-01",
          "2008-09-01",
          "2008-08-01",
          "2008-07-01",
          "2008-06-01",
          "2008-05-01",
          "2008-04-01",
          "2008-03-01",
          "2008-02-01",
          "2008-01-01",
          "2007-12-01",
          "2007-11-01",
          "2007-10-01",
          "2007-09-01",
          "2007-08-01",
          "2007-07-01",
          "2007-06-01",
          "2007-05-01",
          "2007-04-01",
          "2007-03-01",
          "2007-02-01",
          "2007-01-01",
          "2006-12-01",
          "2006-11-01",
          "2006-10-01",
          "2006-09-01",
          "2006-08-01",
          "2006-07-01",
          "2006-06-01",
          "2006-05-01",
          "2006-04-01",
          "2006-03-01",
          "2006-02-01",
          "2006-01-01",
          "2005-12-01",
          "2005-11-01",
          "2005-10-01",
          "2005-09-01",
          "2005-08-01",
          "2005-07-01",
          "2005-06-01",
          "2005-05-01",
          "2005-04-01",
          "2005-03-01",
          "2005-02-01",
          "2005-01-01",
          "2004-12-01",
          "2004-11-01",
          "2004-10-01",
          "2004-09-01",
          "2004-08-01",
          "2004-07-01",
          "2004-06-01",
          "2004-05-01",
          "2004-04-01",
          "2004-03-01",
          "2004-02-01",
          "2004-01-01",
          "2003-12-01",
          "2003-11-01",
          "2003-10-01",
          "2003-09-01",
          "2003-08-01",
          "2003-07-01",
          "2003-06-01",
          "2003-05-01",
          "2003-04-01",
          "2003-03-01",
          "2003-02-01",
          "2003-01-01",
          "2002-12-01",
          "2002-11-01",
          "2002-10-01",
          "2002-09-01",
          "2002-08-01",
          "2002-07-01",
          "2002-06-01",
          "2002-05-01",
          "2002-04-01",
          "2002-03-01",
          "2002-02-01",
          "2002-01-01",
          "2001-12-01",
          "2001-11-01",
          "2001-10-01",
          "2001-09-01",
          "2001-08-01",
          "2001-07-01",
          "2001-06-01",
          "2001-05-01",
          "2001-04-01",
          "2001-03-01",
          "2001-02-01",
          "2001-01-01"
         ],
         "xaxis": "x",
         "y": [
          "0",
          "0",
          "0",
          "0",
          "0",
          "0",
          "0",
          "0",
          "0",
          "0",
          "0",
          "0",
          "0",
          "0",
          "0",
          "0",
          "0",
          "0",
          "0",
          "0",
          "0",
          "0",
          "0",
          "0",
          "0",
          "0",
          "0",
          "0",
          "0",
          "0",
          "0",
          "0",
          "0",
          "0",
          "0",
          "0",
          "0",
          "0",
          "0",
          "0",
          "0",
          "0",
          "0",
          "0",
          "0",
          "0",
          "0",
          "0",
          "0",
          "0",
          "0",
          "0",
          "0",
          "0",
          "0",
          "0",
          "0",
          "0",
          "0",
          "0",
          "0",
          "0",
          "0",
          "0",
          "0",
          "0",
          "0",
          "0",
          "0",
          "0",
          "0",
          "0",
          "0",
          "0",
          "0",
          "0",
          "0",
          "0",
          "0",
          "0",
          "0",
          "0",
          "0",
          "0",
          "0",
          "0",
          "0",
          "0",
          "0",
          "0",
          "0",
          "0",
          "0",
          "0",
          "0",
          "0",
          "0",
          "0",
          "0",
          "0",
          "0",
          "0",
          "0",
          "0",
          "0",
          "0",
          "0",
          "0",
          "0",
          "0",
          "0",
          "0",
          "0",
          "6268.322",
          "11156.264",
          "10356.573",
          "9773.78",
          "11843.549",
          "9573.163",
          "5380.636",
          "6296.271",
          "4687.652",
          "7277.025",
          "7006.352",
          "2936.592",
          "7236.287",
          "6846.671",
          "9993.265",
          "19722.801",
          "12337.176",
          "10342.597",
          "9873.118",
          "9596.579",
          "11627.921",
          "11457.515",
          "11537.152",
          "12718.544",
          "11332.074",
          "12172.173",
          "10642.253",
          "11324.121",
          "11742.602",
          "10362.913",
          "9192.402",
          "9896.287",
          "11426.552",
          "12297.662",
          "11054.191",
          "11196.81",
          "12039.703",
          "13199.103",
          "11640.148",
          "12703.245",
          "11067.44123",
          "9601.03049",
          "8762.1098",
          "8888.13299",
          "12059.45391",
          "7403.15116",
          "6863.99537",
          "7339.82186",
          "6462.45717",
          "7432.80771",
          "6408.73971",
          "5672.01089",
          "6444.89298",
          "5375.51017",
          "6541.48414",
          "7056.79276",
          "5096.51253",
          "7467.32956",
          "6777.03611",
          "6814.95744",
          "7456.09159",
          "7305.61436",
          "6373.53768",
          "8037.80643",
          "10523.1176",
          "10913.18667",
          "17192.10322",
          "9619.26656",
          "10622.0928",
          "10342.77601",
          "11709.92104",
          "11039.79256",
          "9760.79288",
          "9744.46053",
          "16579.17521",
          "17231.56948",
          "7031",
          "6841",
          "9212",
          "10196",
          "10651",
          "15369",
          "10854",
          "12066",
          "15072",
          "13612",
          "11605",
          "13172",
          "12608",
          "6643",
          "11437",
          "23813",
          "27447",
          "25329",
          "25250",
          "26878",
          "27533",
          "23929",
          "26436",
          "25427",
          "12867.425",
          "12559.337",
          "12926.883",
          "10040.847",
          "11708.985",
          "12234.966",
          "10974.807",
          "9840.15",
          "8689.212",
          "9151.892",
          "9863.019",
          "11796.984"
         ],
         "yaxis": "y"
        },
        {
         "customdata": [
          [
           202008
          ],
          [
           202008
          ],
          [
           202008
          ],
          [
           202008
          ],
          [
           202008
          ],
          [
           202008
          ],
          [
           202008
          ],
          [
           202008
          ],
          [
           202008
          ],
          [
           202008
          ],
          [
           202008
          ],
          [
           202008
          ],
          [
           202008
          ],
          [
           202008
          ],
          [
           202008
          ],
          [
           202008
          ],
          [
           202008
          ],
          [
           202008
          ],
          [
           202008
          ],
          [
           202008
          ],
          [
           202008
          ],
          [
           202008
          ],
          [
           202008
          ],
          [
           202008
          ],
          [
           202008
          ],
          [
           202008
          ],
          [
           202008
          ],
          [
           202008
          ],
          [
           202008
          ],
          [
           202008
          ],
          [
           202008
          ],
          [
           202008
          ],
          [
           202008
          ],
          [
           202008
          ],
          [
           202008
          ],
          [
           202008
          ],
          [
           202008
          ],
          [
           202008
          ],
          [
           202008
          ],
          [
           202008
          ],
          [
           202008
          ],
          [
           202008
          ],
          [
           202008
          ],
          [
           202008
          ],
          [
           202008
          ],
          [
           202008
          ],
          [
           202008
          ],
          [
           202008
          ],
          [
           202008
          ],
          [
           202008
          ],
          [
           202008
          ],
          [
           202008
          ],
          [
           202008
          ],
          [
           202008
          ],
          [
           202008
          ],
          [
           202008
          ],
          [
           202008
          ],
          [
           202008
          ],
          [
           202008
          ],
          [
           202008
          ],
          [
           202008
          ],
          [
           202008
          ],
          [
           202008
          ],
          [
           202008
          ],
          [
           202008
          ],
          [
           202008
          ],
          [
           202008
          ],
          [
           202008
          ],
          [
           202008
          ],
          [
           202008
          ],
          [
           202008
          ],
          [
           202008
          ],
          [
           202008
          ],
          [
           202008
          ],
          [
           202008
          ],
          [
           202008
          ],
          [
           202008
          ],
          [
           202008
          ],
          [
           202008
          ],
          [
           202008
          ],
          [
           202008
          ],
          [
           202008
          ],
          [
           202008
          ],
          [
           202008
          ],
          [
           202008
          ],
          [
           202008
          ],
          [
           202008
          ],
          [
           202008
          ],
          [
           202008
          ],
          [
           202008
          ],
          [
           202008
          ],
          [
           202008
          ],
          [
           202008
          ],
          [
           202008
          ],
          [
           202008
          ],
          [
           202008
          ],
          [
           202008
          ],
          [
           202008
          ],
          [
           202008
          ],
          [
           202008
          ],
          [
           202008
          ],
          [
           202008
          ],
          [
           202008
          ],
          [
           202008
          ],
          [
           202008
          ],
          [
           202008
          ],
          [
           202008
          ],
          [
           202008
          ],
          [
           202008
          ],
          [
           202008
          ],
          [
           202008
          ],
          [
           202008
          ],
          [
           202008
          ],
          [
           202008
          ],
          [
           202008
          ],
          [
           202008
          ],
          [
           202008
          ],
          [
           202008
          ],
          [
           202008
          ],
          [
           202008
          ],
          [
           202008
          ],
          [
           202008
          ],
          [
           202008
          ],
          [
           202008
          ],
          [
           202008
          ],
          [
           202008
          ],
          [
           202008
          ],
          [
           202008
          ],
          [
           202008
          ],
          [
           202008
          ],
          [
           202008
          ],
          [
           202008
          ],
          [
           202008
          ],
          [
           202008
          ],
          [
           202008
          ],
          [
           202008
          ],
          [
           202008
          ],
          [
           202008
          ],
          [
           202008
          ],
          [
           202008
          ],
          [
           202008
          ],
          [
           202008
          ],
          [
           202008
          ],
          [
           202008
          ],
          [
           202008
          ],
          [
           202008
          ],
          [
           202008
          ],
          [
           202008
          ],
          [
           202008
          ],
          [
           202008
          ],
          [
           202008
          ],
          [
           202008
          ],
          [
           202008
          ],
          [
           202008
          ],
          [
           202008
          ],
          [
           202008
          ],
          [
           202008
          ],
          [
           202008
          ],
          [
           202008
          ],
          [
           202008
          ],
          [
           202008
          ],
          [
           202008
          ],
          [
           202008
          ],
          [
           202008
          ],
          [
           202008
          ],
          [
           202008
          ],
          [
           202008
          ],
          [
           202008
          ],
          [
           202008
          ],
          [
           202008
          ],
          [
           202008
          ],
          [
           202008
          ],
          [
           202008
          ],
          [
           202008
          ],
          [
           202008
          ],
          [
           202008
          ],
          [
           202008
          ],
          [
           202008
          ],
          [
           202008
          ],
          [
           202008
          ],
          [
           202008
          ],
          [
           202008
          ],
          [
           202008
          ],
          [
           202008
          ],
          [
           202008
          ],
          [
           202008
          ],
          [
           202008
          ],
          [
           202008
          ],
          [
           202008
          ],
          [
           202008
          ],
          [
           202008
          ],
          [
           202008
          ],
          [
           202008
          ],
          [
           202008
          ],
          [
           202008
          ],
          [
           202008
          ],
          [
           202008
          ],
          [
           202008
          ],
          [
           202008
          ],
          [
           202008
          ],
          [
           202008
          ],
          [
           202008
          ],
          [
           202008
          ],
          [
           202008
          ],
          [
           202008
          ],
          [
           202008
          ],
          [
           202008
          ],
          [
           202008
          ],
          [
           202008
          ],
          [
           202008
          ],
          [
           202008
          ],
          [
           202008
          ],
          [
           202008
          ],
          [
           202008
          ],
          [
           202008
          ],
          [
           202008
          ],
          [
           202008
          ],
          [
           202008
          ],
          [
           202008
          ]
         ],
         "hovertemplate": "fuel_type=black_liquour<br>date=%{x}<br>value=%{y}<br>end=%{customdata[0]}<extra></extra>",
         "legendgroup": "black_liquour",
         "line": {
          "color": "#19d3f3",
          "dash": "solid"
         },
         "mode": "lines",
         "name": "black_liquour",
         "showlegend": true,
         "type": "scattergl",
         "x": [
          "2019-12-01",
          "2019-11-01",
          "2019-10-01",
          "2019-09-01",
          "2019-08-01",
          "2019-07-01",
          "2019-06-01",
          "2019-05-01",
          "2019-04-01",
          "2019-03-01",
          "2019-02-01",
          "2019-01-01",
          "2018-12-01",
          "2018-11-01",
          "2018-10-01",
          "2018-09-01",
          "2018-08-01",
          "2018-07-01",
          "2018-06-01",
          "2018-05-01",
          "2018-04-01",
          "2018-03-01",
          "2018-02-01",
          "2018-01-01",
          "2017-12-01",
          "2017-11-01",
          "2017-10-01",
          "2017-09-01",
          "2017-08-01",
          "2017-07-01",
          "2017-06-01",
          "2017-05-01",
          "2017-04-01",
          "2017-03-01",
          "2017-02-01",
          "2017-01-01",
          "2016-12-01",
          "2016-11-01",
          "2016-10-01",
          "2016-09-01",
          "2016-08-01",
          "2016-07-01",
          "2016-06-01",
          "2016-05-01",
          "2016-04-01",
          "2016-03-01",
          "2016-02-01",
          "2016-01-01",
          "2015-12-01",
          "2015-11-01",
          "2015-10-01",
          "2015-09-01",
          "2015-08-01",
          "2015-07-01",
          "2015-06-01",
          "2015-05-01",
          "2015-04-01",
          "2015-03-01",
          "2015-02-01",
          "2015-01-01",
          "2014-12-01",
          "2014-11-01",
          "2014-10-01",
          "2014-09-01",
          "2014-08-01",
          "2014-07-01",
          "2014-06-01",
          "2014-05-01",
          "2014-04-01",
          "2014-03-01",
          "2014-02-01",
          "2014-01-01",
          "2013-12-01",
          "2013-11-01",
          "2013-10-01",
          "2013-09-01",
          "2013-08-01",
          "2013-07-01",
          "2013-06-01",
          "2013-05-01",
          "2013-04-01",
          "2013-03-01",
          "2013-02-01",
          "2013-01-01",
          "2012-12-01",
          "2012-11-01",
          "2012-10-01",
          "2012-09-01",
          "2012-08-01",
          "2012-07-01",
          "2012-06-01",
          "2012-05-01",
          "2012-04-01",
          "2012-03-01",
          "2012-02-01",
          "2012-01-01",
          "2011-12-01",
          "2011-11-01",
          "2011-10-01",
          "2011-09-01",
          "2011-08-01",
          "2011-07-01",
          "2011-06-01",
          "2011-05-01",
          "2011-04-01",
          "2011-03-01",
          "2011-02-01",
          "2011-01-01",
          "2010-12-01",
          "2010-11-01",
          "2010-10-01",
          "2010-09-01",
          "2010-08-01",
          "2010-07-01",
          "2010-06-01",
          "2010-05-01",
          "2010-04-01",
          "2010-03-01",
          "2010-02-01",
          "2010-01-01",
          "2009-12-01",
          "2009-11-01",
          "2009-10-01",
          "2009-09-01",
          "2009-08-01",
          "2009-07-01",
          "2009-06-01",
          "2009-05-01",
          "2009-04-01",
          "2009-03-01",
          "2009-02-01",
          "2009-01-01",
          "2008-12-01",
          "2008-11-01",
          "2008-10-01",
          "2008-09-01",
          "2008-08-01",
          "2008-07-01",
          "2008-06-01",
          "2008-05-01",
          "2008-04-01",
          "2008-03-01",
          "2008-02-01",
          "2008-01-01",
          "2007-12-01",
          "2007-11-01",
          "2007-10-01",
          "2007-09-01",
          "2007-08-01",
          "2007-07-01",
          "2007-06-01",
          "2007-05-01",
          "2007-04-01",
          "2007-03-01",
          "2007-02-01",
          "2007-01-01",
          "2006-12-01",
          "2006-11-01",
          "2006-10-01",
          "2006-09-01",
          "2006-08-01",
          "2006-07-01",
          "2006-06-01",
          "2006-05-01",
          "2006-04-01",
          "2006-03-01",
          "2006-02-01",
          "2006-01-01",
          "2005-12-01",
          "2005-11-01",
          "2005-10-01",
          "2005-09-01",
          "2005-08-01",
          "2005-07-01",
          "2005-06-01",
          "2005-05-01",
          "2005-04-01",
          "2005-03-01",
          "2005-02-01",
          "2005-01-01",
          "2004-12-01",
          "2004-11-01",
          "2004-10-01",
          "2004-09-01",
          "2004-08-01",
          "2004-07-01",
          "2004-06-01",
          "2004-05-01",
          "2004-04-01",
          "2004-03-01",
          "2004-02-01",
          "2004-01-01",
          "2003-12-01",
          "2003-11-01",
          "2003-10-01",
          "2003-09-01",
          "2003-08-01",
          "2003-07-01",
          "2003-06-01",
          "2003-05-01",
          "2003-04-01",
          "2003-03-01",
          "2003-02-01",
          "2003-01-01",
          "2002-12-01",
          "2002-11-01",
          "2002-10-01",
          "2001-12-01",
          "2001-11-01",
          "2001-10-01",
          "2001-09-01",
          "2001-08-01",
          "2001-07-01",
          "2001-06-01",
          "2001-05-01",
          "2001-04-01",
          "2001-03-01",
          "2001-02-01",
          "2001-01-01"
         ],
         "xaxis": "x",
         "y": [
          "21917.683",
          "20137.185",
          "22048.522",
          "20020.395",
          "24848.632",
          "22511.216",
          "22116.787",
          "24018.462",
          "15868.532",
          "13788.079",
          "22166",
          "24777.423",
          "24711.683",
          "24521.557",
          "24297.033",
          "23731.664",
          "24308.805",
          "22250.325",
          "22453.982",
          "18722.396",
          "9596.863",
          "0",
          "4157.797",
          "21876.331",
          "17165.251",
          "17329.556",
          "16345.042",
          "17673.707",
          "17938.602",
          "17604.245",
          "18900.794",
          "17720.406",
          "16026.712",
          "15752.102",
          "16772.244",
          "19276.135",
          "19718.636",
          "14658.18",
          "19129.663",
          "8053.875",
          "17891.083",
          "18569.706",
          "19725.678",
          "20690.379",
          "20240.743",
          "21070.53",
          "19615.646",
          "19703.227",
          "19604.662",
          "20186.793",
          "21265.448",
          "11133.742",
          "20348.897",
          "21092.968",
          "19952.403",
          "18049.903",
          "20224.05",
          "20893.763",
          "17955.246",
          "23088.674",
          "21486.15",
          "20372.378",
          "21661.689",
          "9616.318",
          "20446.148",
          "21416.297",
          "19160.159",
          "21429.51",
          "20191.043",
          "21019.479",
          "16204.559",
          "16799.594",
          "20172.632",
          "18093.216",
          "19353.155",
          "20537.196",
          "20910.516",
          "8330.157",
          "18423.403",
          "20273.746",
          "17367.545",
          "20497.188",
          "18472.969",
          "17435.983",
          "14553.907",
          "14319.1",
          "12686.807",
          "14481.112",
          "13974.941",
          "12964.845",
          "696.386",
          "0",
          "0",
          "0",
          "0",
          "0",
          "0",
          "0",
          "0",
          "0",
          "0",
          "0",
          "0",
          "0",
          "0",
          "0",
          "0",
          "0",
          "0",
          "0",
          "0",
          "0",
          "0",
          "0",
          "0",
          "0",
          "9096.209",
          "17742.157",
          "16073.984",
          "20291.911",
          "21485.374",
          "24198.594",
          "29070.933",
          "19756.432",
          "27236.386",
          "26652.036",
          "19017.025",
          "8556.409",
          "22596.335",
          "15593.746",
          "19611.538",
          "12809.187",
          "24414.06",
          "29605.796",
          "23178.052",
          "28636.477",
          "32596.335",
          "31971.94",
          "29751.601",
          "30966.242",
          "28858.68",
          "29774.865",
          "29787.665",
          "29845.296",
          "28755.802",
          "26972.633",
          "17724.371",
          "26345.041",
          "28530.27",
          "26853.079",
          "26121.116",
          "25441.97",
          "23626.281",
          "29502.697",
          "23332.734",
          "24073.195",
          "22996.29131",
          "18989.89143",
          "19926.68338",
          "22092.18598",
          "23055.96724",
          "30882.02377",
          "29797.18994",
          "29044.51037",
          "28953.16099",
          "30422.73029",
          "27347.76186",
          "27729.22079",
          "26827.37096",
          "28796.5442",
          "29078.74967",
          "25329.70119",
          "28266.12953",
          "29794.48562",
          "27718.57949",
          "29041.54686",
          "23084.13371",
          "30404.94199",
          "27987.27704",
          "29217.65398",
          "22033.43468",
          "21867.98",
          "28831.57621",
          "22751.69248",
          "21765.74884",
          "22409.07297",
          "18504.8814",
          "22018.83603",
          "21537.72028",
          "19789.58924",
          "15903.06796",
          "14599.87466",
          "28484",
          "19243",
          "21399",
          "20404",
          "19877",
          "33210",
          "24045",
          "23837",
          "24053",
          "25242",
          "22391",
          "24819",
          "23551",
          "32053",
          "23718",
          "35564.049",
          "34712.53",
          "35728.386",
          "27751.72",
          "32362.258",
          "33816.009",
          "30333.075",
          "27197.019",
          "24015.96",
          "25294.755",
          "27260.226",
          "32605.477"
         ],
         "yaxis": "y"
        },
        {
         "customdata": [
          [
           200712
          ],
          [
           200712
          ],
          [
           200712
          ],
          [
           200712
          ],
          [
           200712
          ],
          [
           200712
          ],
          [
           200712
          ],
          [
           200712
          ],
          [
           200712
          ],
          [
           200712
          ],
          [
           200712
          ],
          [
           200712
          ],
          [
           200712
          ],
          [
           200712
          ],
          [
           200712
          ],
          [
           200712
          ],
          [
           200712
          ],
          [
           200712
          ],
          [
           200712
          ],
          [
           200712
          ],
          [
           200712
          ],
          [
           200712
          ],
          [
           200712
          ],
          [
           200712
          ]
         ],
         "hovertemplate": "fuel_type=nonbiogenic_municipal_solid_waste<br>date=%{x}<br>value=%{y}<br>end=%{customdata[0]}<extra></extra>",
         "legendgroup": "nonbiogenic_municipal_solid_waste",
         "line": {
          "color": "#FF6692",
          "dash": "solid"
         },
         "mode": "lines",
         "name": "nonbiogenic_municipal_solid_waste",
         "showlegend": true,
         "type": "scattergl",
         "x": [
          "2007-12-01",
          "2007-11-01",
          "2007-10-01",
          "2007-09-01",
          "2007-08-01",
          "2007-07-01",
          "2007-06-01",
          "2007-05-01",
          "2007-04-01",
          "2007-03-01",
          "2007-02-01",
          "2007-01-01",
          "2006-12-01",
          "2006-11-01",
          "2006-10-01",
          "2006-09-01",
          "2006-08-01",
          "2006-07-01",
          "2006-06-01",
          "2006-05-01",
          "2006-04-01",
          "2006-03-01",
          "2006-02-01",
          "2006-01-01"
         ],
         "xaxis": "x",
         "y": [
          "2366.005",
          "2113.153",
          "2046.155",
          "1913.565",
          "2121.967",
          "2125.21",
          "2185.048",
          "2240.695",
          "1914.157",
          "2411.7",
          "2079.965",
          "2135.377",
          "1987.89206",
          "2057.81913",
          "1671.96106",
          "2183.72191",
          "2278.98773",
          "1347.72234",
          "1594.53429",
          "1290.81359",
          "1338.92922",
          "1383.32316",
          "1267.81164",
          "1105.68352"
         ],
         "yaxis": "y"
        },
        {
         "customdata": [
          [
           200306
          ],
          [
           200306
          ],
          [
           200306
          ],
          [
           200306
          ],
          [
           200306
          ],
          [
           200306
          ],
          [
           200306
          ],
          [
           200306
          ],
          [
           200306
          ],
          [
           200306
          ],
          [
           200306
          ],
          [
           200306
          ],
          [
           200306
          ],
          [
           200306
          ],
          [
           200306
          ],
          [
           200306
          ]
         ],
         "hovertemplate": "fuel_type=agricultural_byproducts<br>date=%{x}<br>value=%{y}<br>end=%{customdata[0]}<extra></extra>",
         "legendgroup": "agricultural_byproducts",
         "line": {
          "color": "#B6E880",
          "dash": "solid"
         },
         "mode": "lines",
         "name": "agricultural_byproducts",
         "showlegend": true,
         "type": "scattergl",
         "x": [
          "2003-06-01",
          "2003-05-01",
          "2003-02-01",
          "2003-01-01",
          "2001-12-01",
          "2001-11-01",
          "2001-10-01",
          "2001-09-01",
          "2001-08-01",
          "2001-07-01",
          "2001-06-01",
          "2001-05-01",
          "2001-04-01",
          "2001-03-01",
          "2001-02-01",
          "2001-01-01"
         ],
         "xaxis": "x",
         "y": [
          "0",
          "0",
          "0",
          "0",
          "187.822",
          "183.325",
          "188.69",
          "146.563",
          "170.913",
          "178.59",
          "160.196",
          "143.634",
          "126.834",
          "133.588",
          "143.968",
          "172.197"
         ],
         "yaxis": "y"
        },
        {
         "customdata": [
          [
           201404
          ],
          [
           201404
          ],
          [
           201404
          ],
          [
           201404
          ],
          [
           201404
          ],
          [
           201404
          ],
          [
           201404
          ],
          [
           201404
          ],
          [
           201404
          ],
          [
           201404
          ],
          [
           201404
          ],
          [
           201404
          ],
          [
           201404
          ],
          [
           201404
          ],
          [
           201404
          ],
          [
           201404
          ],
          [
           201404
          ],
          [
           201404
          ],
          [
           201404
          ],
          [
           201404
          ],
          [
           201404
          ],
          [
           201404
          ],
          [
           201404
          ],
          [
           201404
          ],
          [
           201404
          ],
          [
           201404
          ],
          [
           201404
          ],
          [
           201404
          ],
          [
           201404
          ],
          [
           201404
          ],
          [
           201404
          ],
          [
           201404
          ],
          [
           201404
          ],
          [
           201404
          ],
          [
           201404
          ],
          [
           201404
          ],
          [
           201404
          ],
          [
           201404
          ],
          [
           201404
          ],
          [
           201404
          ],
          [
           201404
          ],
          [
           201404
          ],
          [
           201404
          ],
          [
           201404
          ],
          [
           201404
          ],
          [
           201404
          ],
          [
           201404
          ],
          [
           201404
          ],
          [
           201404
          ],
          [
           201404
          ],
          [
           201404
          ],
          [
           201404
          ],
          [
           201404
          ],
          [
           201404
          ],
          [
           201404
          ],
          [
           201404
          ],
          [
           201404
          ],
          [
           201404
          ],
          [
           201404
          ],
          [
           201404
          ],
          [
           201404
          ],
          [
           201404
          ],
          [
           201404
          ],
          [
           201404
          ],
          [
           201404
          ],
          [
           201404
          ],
          [
           201404
          ],
          [
           201404
          ],
          [
           201404
          ],
          [
           201404
          ],
          [
           201404
          ],
          [
           201404
          ],
          [
           201404
          ],
          [
           201404
          ],
          [
           201404
          ],
          [
           201404
          ],
          [
           201404
          ],
          [
           201404
          ],
          [
           201404
          ],
          [
           201404
          ],
          [
           201404
          ],
          [
           201404
          ],
          [
           201404
          ],
          [
           201404
          ],
          [
           201404
          ],
          [
           201404
          ],
          [
           201404
          ],
          [
           201404
          ],
          [
           201404
          ],
          [
           201404
          ],
          [
           201404
          ],
          [
           201404
          ],
          [
           201404
          ],
          [
           201404
          ]
         ],
         "hovertemplate": "fuel_type=woodwood_waste_solids<br>date=%{x}<br>value=%{y}<br>end=%{customdata[0]}<extra></extra>",
         "legendgroup": "woodwood_waste_solids",
         "line": {
          "color": "#FF97FF",
          "dash": "solid"
         },
         "mode": "lines",
         "name": "woodwood_waste_solids",
         "showlegend": true,
         "type": "scattergl",
         "x": [
          "2014-04-01",
          "2014-03-01",
          "2014-02-01",
          "2014-01-01",
          "2013-12-01",
          "2013-11-01",
          "2013-10-01",
          "2013-09-01",
          "2013-08-01",
          "2013-07-01",
          "2013-06-01",
          "2013-05-01",
          "2013-04-01",
          "2013-03-01",
          "2013-02-01",
          "2013-01-01",
          "2012-12-01",
          "2012-11-01",
          "2012-10-01",
          "2012-09-01",
          "2012-08-01",
          "2012-07-01",
          "2012-06-01",
          "2012-05-01",
          "2012-04-01",
          "2012-03-01",
          "2012-02-01",
          "2012-01-01",
          "2011-12-01",
          "2011-11-01",
          "2011-10-01",
          "2011-09-01",
          "2011-08-01",
          "2011-07-01",
          "2011-06-01",
          "2011-05-01",
          "2011-04-01",
          "2011-03-01",
          "2011-02-01",
          "2011-01-01",
          "2010-12-01",
          "2010-11-01",
          "2010-10-01",
          "2010-09-01",
          "2010-08-01",
          "2010-07-01",
          "2010-06-01",
          "2010-05-01",
          "2010-04-01",
          "2010-03-01",
          "2010-02-01",
          "2010-01-01",
          "2009-12-01",
          "2009-11-01",
          "2009-10-01",
          "2009-09-01",
          "2009-08-01",
          "2009-07-01",
          "2009-06-01",
          "2009-05-01",
          "2009-04-01",
          "2009-03-01",
          "2009-02-01",
          "2009-01-01",
          "2008-12-01",
          "2008-11-01",
          "2008-10-01",
          "2008-09-01",
          "2008-08-01",
          "2008-07-01",
          "2008-06-01",
          "2008-05-01",
          "2008-04-01",
          "2008-03-01",
          "2008-02-01",
          "2008-01-01",
          "2003-06-01",
          "2003-05-01",
          "2003-02-01",
          "2003-01-01",
          "2002-12-01",
          "2002-10-01",
          "2001-12-01",
          "2001-11-01",
          "2001-10-01",
          "2001-09-01",
          "2001-08-01",
          "2001-07-01",
          "2001-06-01",
          "2001-05-01",
          "2001-04-01",
          "2001-03-01",
          "2001-02-01",
          "2001-01-01"
         ],
         "xaxis": "x",
         "y": [
          "0",
          "0",
          "0",
          "0",
          "0",
          "0",
          "0",
          "0",
          "0",
          "0",
          "0",
          "0",
          "0",
          "0",
          "0",
          "0",
          "0",
          "0",
          "0",
          "0",
          "0",
          "0",
          "0",
          "0",
          "0",
          "0",
          "0",
          "0",
          "0",
          "0",
          "0",
          "0",
          "0",
          "0",
          "0",
          "0",
          "0",
          "0",
          "0",
          "0",
          "0",
          "0",
          "0",
          "0",
          "0",
          "0",
          "0",
          "0",
          "1832.234",
          "3194.292",
          "3052.202",
          "3337.916",
          "3434.142",
          "4082.137",
          "4662.743",
          "4028.046",
          "4826.701",
          "6215.972",
          "5537.952",
          "2024.122",
          "5145.491",
          "4907.55",
          "6709.362",
          "8977.941",
          "6685.263",
          "5965.83",
          "6294.377",
          "6923.939",
          "7085.143",
          "7195.747",
          "6640.082",
          "7223.45",
          "6942.719",
          "7124.131",
          "6869.801",
          "7777.807",
          "0",
          "0",
          "0",
          "0",
          "0",
          "0",
          "6852.409",
          "6688.34",
          "6884.073",
          "5347.145",
          "6235.494",
          "6515.6",
          "5844.515",
          "5240.266",
          "4627.346",
          "4873.742",
          "5252.445",
          "6282.357"
         ],
         "yaxis": "y"
        },
        {
         "customdata": [
          [
           200712
          ],
          [
           200712
          ],
          [
           200712
          ],
          [
           200712
          ],
          [
           200712
          ],
          [
           200712
          ],
          [
           200712
          ],
          [
           200712
          ],
          [
           200712
          ],
          [
           200712
          ],
          [
           200712
          ],
          [
           200712
          ],
          [
           200712
          ],
          [
           200712
          ],
          [
           200712
          ],
          [
           200712
          ],
          [
           200712
          ],
          [
           200712
          ],
          [
           200712
          ],
          [
           200712
          ],
          [
           200712
          ],
          [
           200712
          ],
          [
           200712
          ],
          [
           200712
          ]
         ],
         "hovertemplate": "fuel_type=biogenic_municipal_solid_waste<br>date=%{x}<br>value=%{y}<br>end=%{customdata[0]}<extra></extra>",
         "legendgroup": "biogenic_municipal_solid_waste",
         "line": {
          "color": "#FECB52",
          "dash": "solid"
         },
         "mode": "lines",
         "name": "biogenic_municipal_solid_waste",
         "showlegend": true,
         "type": "scattergl",
         "x": [
          "2007-12-01",
          "2007-11-01",
          "2007-10-01",
          "2007-09-01",
          "2007-08-01",
          "2007-07-01",
          "2007-06-01",
          "2007-05-01",
          "2007-04-01",
          "2007-03-01",
          "2007-02-01",
          "2007-01-01",
          "2006-12-01",
          "2006-11-01",
          "2006-10-01",
          "2006-09-01",
          "2006-08-01",
          "2006-07-01",
          "2006-06-01",
          "2006-05-01",
          "2006-04-01",
          "2006-03-01",
          "2006-02-01",
          "2006-01-01"
         ],
         "xaxis": "x",
         "y": [
          "3011.941",
          "2689.609",
          "2603.674",
          "2436.016",
          "2700.364",
          "2704.982",
          "2780.25",
          "2851.943",
          "2436.491",
          "3069.12",
          "2646.902",
          "2717.043",
          "2530.17732",
          "2619.18008",
          "2128.0622",
          "2779.4284",
          "2900.68218",
          "1715.37306",
          "2029.51387",
          "1642.93995",
          "1704.18123",
          "1760.68558",
          "1613.6632",
          "1407.30748"
         ],
         "yaxis": "y"
        },
        {
         "customdata": [
          [
           202008
          ],
          [
           202008
          ],
          [
           202008
          ],
          [
           202008
          ],
          [
           202008
          ],
          [
           202008
          ],
          [
           202008
          ],
          [
           202008
          ],
          [
           202008
          ],
          [
           202008
          ],
          [
           202008
          ],
          [
           202008
          ],
          [
           202008
          ],
          [
           202008
          ],
          [
           202008
          ],
          [
           202008
          ],
          [
           202008
          ],
          [
           202008
          ],
          [
           202008
          ],
          [
           202008
          ],
          [
           202008
          ],
          [
           202008
          ],
          [
           202008
          ],
          [
           202008
          ],
          [
           202008
          ],
          [
           202008
          ],
          [
           202008
          ],
          [
           202008
          ],
          [
           202008
          ],
          [
           202008
          ],
          [
           202008
          ],
          [
           202008
          ],
          [
           202008
          ],
          [
           202008
          ],
          [
           202008
          ],
          [
           202008
          ],
          [
           202008
          ],
          [
           202008
          ],
          [
           202008
          ],
          [
           202008
          ],
          [
           202008
          ],
          [
           202008
          ],
          [
           202008
          ],
          [
           202008
          ],
          [
           202008
          ],
          [
           202008
          ],
          [
           202008
          ],
          [
           202008
          ],
          [
           202008
          ],
          [
           202008
          ],
          [
           202008
          ],
          [
           202008
          ],
          [
           202008
          ],
          [
           202008
          ],
          [
           202008
          ],
          [
           202008
          ],
          [
           202008
          ],
          [
           202008
          ],
          [
           202008
          ],
          [
           202008
          ],
          [
           202008
          ],
          [
           202008
          ],
          [
           202008
          ],
          [
           202008
          ],
          [
           202008
          ],
          [
           202008
          ],
          [
           202008
          ],
          [
           202008
          ],
          [
           202008
          ],
          [
           202008
          ],
          [
           202008
          ],
          [
           202008
          ],
          [
           202008
          ],
          [
           202008
          ],
          [
           202008
          ],
          [
           202008
          ],
          [
           202008
          ],
          [
           202008
          ],
          [
           202008
          ],
          [
           202008
          ],
          [
           202008
          ],
          [
           202008
          ],
          [
           202008
          ],
          [
           202008
          ],
          [
           202008
          ],
          [
           202008
          ],
          [
           202008
          ],
          [
           202008
          ],
          [
           202008
          ],
          [
           202008
          ],
          [
           202008
          ],
          [
           202008
          ],
          [
           202008
          ],
          [
           202008
          ],
          [
           202008
          ],
          [
           202008
          ],
          [
           202008
          ],
          [
           202008
          ],
          [
           202008
          ],
          [
           202008
          ],
          [
           202008
          ],
          [
           202008
          ],
          [
           202008
          ],
          [
           202008
          ],
          [
           202008
          ],
          [
           202008
          ],
          [
           202008
          ],
          [
           202008
          ],
          [
           202008
          ],
          [
           202008
          ],
          [
           202008
          ],
          [
           202008
          ],
          [
           202008
          ],
          [
           202008
          ],
          [
           202008
          ],
          [
           202008
          ],
          [
           202008
          ],
          [
           202008
          ],
          [
           202008
          ],
          [
           202008
          ],
          [
           202008
          ],
          [
           202008
          ],
          [
           202008
          ],
          [
           202008
          ],
          [
           202008
          ],
          [
           202008
          ],
          [
           202008
          ],
          [
           202008
          ],
          [
           202008
          ],
          [
           202008
          ],
          [
           202008
          ],
          [
           202008
          ],
          [
           202008
          ],
          [
           202008
          ],
          [
           202008
          ],
          [
           202008
          ],
          [
           202008
          ],
          [
           202008
          ],
          [
           202008
          ],
          [
           202008
          ],
          [
           202008
          ],
          [
           202008
          ],
          [
           202008
          ],
          [
           202008
          ],
          [
           202008
          ],
          [
           202008
          ],
          [
           202008
          ],
          [
           202008
          ],
          [
           202008
          ],
          [
           202008
          ],
          [
           202008
          ],
          [
           202008
          ],
          [
           202008
          ],
          [
           202008
          ],
          [
           202008
          ],
          [
           202008
          ],
          [
           202008
          ],
          [
           202008
          ],
          [
           202008
          ],
          [
           202008
          ],
          [
           202008
          ],
          [
           202008
          ],
          [
           202008
          ],
          [
           202008
          ],
          [
           202008
          ],
          [
           202008
          ],
          [
           202008
          ],
          [
           202008
          ],
          [
           202008
          ],
          [
           202008
          ],
          [
           202008
          ],
          [
           202008
          ],
          [
           202008
          ],
          [
           202008
          ],
          [
           202008
          ],
          [
           202008
          ],
          [
           202008
          ],
          [
           202008
          ],
          [
           202008
          ],
          [
           202008
          ],
          [
           202008
          ],
          [
           202008
          ],
          [
           202008
          ],
          [
           202008
          ],
          [
           202008
          ],
          [
           202008
          ],
          [
           202008
          ],
          [
           202008
          ],
          [
           202008
          ],
          [
           202008
          ],
          [
           202008
          ],
          [
           202008
          ],
          [
           202008
          ],
          [
           202008
          ],
          [
           202008
          ],
          [
           202008
          ],
          [
           202008
          ],
          [
           202008
          ],
          [
           202008
          ],
          [
           202008
          ],
          [
           202008
          ],
          [
           202008
          ],
          [
           202008
          ],
          [
           202008
          ],
          [
           202008
          ],
          [
           202008
          ],
          [
           202008
          ],
          [
           202008
          ],
          [
           202008
          ],
          [
           202008
          ],
          [
           202008
          ],
          [
           202008
          ],
          [
           202008
          ],
          [
           202008
          ],
          [
           202008
          ],
          [
           202008
          ],
          [
           202008
          ],
          [
           202008
          ],
          [
           202008
          ],
          [
           202008
          ],
          [
           202008
          ],
          [
           202008
          ],
          [
           202008
          ],
          [
           202008
          ],
          [
           202008
          ],
          [
           202008
          ],
          [
           202008
          ],
          [
           202008
          ]
         ],
         "hovertemplate": "fuel_type=natural_gas<br>date=%{x}<br>value=%{y}<br>end=%{customdata[0]}<extra></extra>",
         "legendgroup": "natural_gas",
         "line": {
          "color": "#636efa",
          "dash": "solid"
         },
         "mode": "lines",
         "name": "natural_gas",
         "showlegend": true,
         "type": "scattergl",
         "x": [
          "2019-12-01",
          "2019-11-01",
          "2019-10-01",
          "2019-09-01",
          "2019-08-01",
          "2019-07-01",
          "2019-06-01",
          "2019-05-01",
          "2019-04-01",
          "2019-03-01",
          "2019-02-01",
          "2019-01-01",
          "2018-12-01",
          "2018-11-01",
          "2018-10-01",
          "2018-09-01",
          "2018-08-01",
          "2018-07-01",
          "2018-06-01",
          "2018-05-01",
          "2018-04-01",
          "2018-03-01",
          "2018-02-01",
          "2018-01-01",
          "2017-12-01",
          "2017-11-01",
          "2017-10-01",
          "2017-09-01",
          "2017-08-01",
          "2017-07-01",
          "2017-06-01",
          "2017-05-01",
          "2017-04-01",
          "2017-03-01",
          "2017-02-01",
          "2017-01-01",
          "2016-12-01",
          "2016-11-01",
          "2016-10-01",
          "2016-09-01",
          "2016-08-01",
          "2016-07-01",
          "2016-06-01",
          "2016-05-01",
          "2016-04-01",
          "2016-03-01",
          "2016-02-01",
          "2016-01-01",
          "2015-12-01",
          "2015-11-01",
          "2015-10-01",
          "2015-09-01",
          "2015-08-01",
          "2015-07-01",
          "2015-06-01",
          "2015-05-01",
          "2015-04-01",
          "2015-03-01",
          "2015-02-01",
          "2015-01-01",
          "2014-12-01",
          "2014-11-01",
          "2014-10-01",
          "2014-09-01",
          "2014-08-01",
          "2014-07-01",
          "2014-06-01",
          "2014-05-01",
          "2014-04-01",
          "2014-03-01",
          "2014-02-01",
          "2014-01-01",
          "2013-12-01",
          "2013-11-01",
          "2013-10-01",
          "2013-09-01",
          "2013-08-01",
          "2013-07-01",
          "2013-06-01",
          "2013-05-01",
          "2013-04-01",
          "2013-03-01",
          "2013-02-01",
          "2013-01-01",
          "2012-12-01",
          "2012-11-01",
          "2012-10-01",
          "2012-09-01",
          "2012-08-01",
          "2012-07-01",
          "2012-06-01",
          "2012-05-01",
          "2012-04-01",
          "2012-03-01",
          "2012-02-01",
          "2012-01-01",
          "2011-12-01",
          "2011-11-01",
          "2011-10-01",
          "2011-09-01",
          "2011-08-01",
          "2011-07-01",
          "2011-06-01",
          "2011-05-01",
          "2011-04-01",
          "2011-03-01",
          "2011-02-01",
          "2011-01-01",
          "2010-12-01",
          "2010-11-01",
          "2010-10-01",
          "2010-09-01",
          "2010-08-01",
          "2010-07-01",
          "2010-06-01",
          "2010-05-01",
          "2010-04-01",
          "2010-03-01",
          "2010-02-01",
          "2010-01-01",
          "2009-12-01",
          "2009-11-01",
          "2009-10-01",
          "2009-09-01",
          "2009-08-01",
          "2009-07-01",
          "2009-06-01",
          "2009-05-01",
          "2009-04-01",
          "2009-03-01",
          "2009-02-01",
          "2009-01-01",
          "2008-12-01",
          "2008-11-01",
          "2008-10-01",
          "2008-09-01",
          "2008-08-01",
          "2008-07-01",
          "2008-06-01",
          "2008-05-01",
          "2008-04-01",
          "2008-03-01",
          "2008-02-01",
          "2008-01-01",
          "2007-12-01",
          "2007-11-01",
          "2007-10-01",
          "2007-09-01",
          "2007-08-01",
          "2007-07-01",
          "2007-06-01",
          "2007-05-01",
          "2007-04-01",
          "2007-03-01",
          "2007-02-01",
          "2007-01-01",
          "2006-12-01",
          "2006-11-01",
          "2006-10-01",
          "2006-09-01",
          "2006-08-01",
          "2006-07-01",
          "2006-06-01",
          "2006-05-01",
          "2006-04-01",
          "2006-03-01",
          "2006-02-01",
          "2006-01-01",
          "2005-12-01",
          "2005-11-01",
          "2005-10-01",
          "2005-09-01",
          "2005-08-01",
          "2005-07-01",
          "2005-06-01",
          "2005-05-01",
          "2005-04-01",
          "2005-03-01",
          "2005-02-01",
          "2005-01-01",
          "2004-12-01",
          "2004-11-01",
          "2004-10-01",
          "2004-09-01",
          "2004-08-01",
          "2004-07-01",
          "2004-06-01",
          "2004-05-01",
          "2004-04-01",
          "2004-03-01",
          "2004-02-01",
          "2004-01-01",
          "2003-12-01",
          "2003-11-01",
          "2003-10-01",
          "2003-09-01",
          "2003-08-01",
          "2003-07-01",
          "2003-06-01",
          "2003-05-01",
          "2003-04-01",
          "2003-03-01",
          "2003-02-01",
          "2003-01-01",
          "2002-12-01",
          "2002-11-01",
          "2002-10-01",
          "2002-09-01",
          "2002-08-01",
          "2002-07-01",
          "2002-06-01",
          "2002-05-01",
          "2002-04-01",
          "2002-03-01",
          "2002-02-01",
          "2002-01-01",
          "2001-12-01",
          "2001-11-01",
          "2001-10-01",
          "2001-09-01",
          "2001-08-01",
          "2001-07-01",
          "2001-06-01",
          "2001-05-01",
          "2001-04-01",
          "2001-03-01",
          "2001-02-01",
          "2001-01-01"
         ],
         "xaxis": "x",
         "y": [
          "3703.317",
          "3913.815",
          "2959.478",
          "3130.605",
          "564.368",
          "1266.784",
          "1360.213",
          "174.538",
          "2624.468",
          "2201.921",
          "0",
          "522.577",
          "574.317",
          "167.443",
          "308.967",
          "16.336",
          "505.195",
          "2330.675",
          "1284.018",
          "3170.604",
          "6479.137",
          "0",
          "2059.203",
          "7.669",
          "1745.749",
          "850.444",
          "1743.958",
          "1266.293",
          "101.398",
          "1027.755",
          "638.206",
          "618.594",
          "4051.288",
          "879.898",
          "2825.756",
          "2137.865",
          "1648.364",
          "884.82",
          "855.337",
          "8188.125",
          "931.917",
          "824.294",
          "1327.322",
          "1214.621",
          "1162.257",
          "1166.47",
          "3145.354",
          "2756.773",
          "2835.338",
          "1841.207",
          "1617.552",
          "1940.258",
          "1193.513",
          "1187.032",
          "838.092",
          "2741.552",
          "940.002",
          "1478.346",
          "2886.145",
          "220.688",
          "1841.458",
          "1848.004",
          "805.49",
          "1476.107",
          "1175.967",
          "696.531",
          "1713.882",
          "1036.709",
          "1254.377",
          "2136.235",
          "2199.591",
          "6175.584",
          "3077.191",
          "2387.102",
          "2655.961",
          "1976.077",
          "2180.858",
          "1813.492",
          "2276.824",
          "2309.629",
          "3133.9",
          "3457.496",
          "2659.393",
          "3457.264",
          "7097.977",
          "8569.803",
          "11831.901",
          "13795.288",
          "21129.438",
          "17508.75",
          "17479.614",
          "0",
          "0",
          "0",
          "0",
          "0",
          "0",
          "0",
          "0",
          "0",
          "0",
          "0",
          "0",
          "0",
          "0",
          "0",
          "0",
          "0",
          "0",
          "0",
          "0",
          "0",
          "0",
          "0",
          "0",
          "0",
          "0",
          "2047.22",
          "2921.38",
          "5109.72",
          "4509.96",
          "2559.76",
          "17199.98",
          "11956",
          "19350.1",
          "5936.84",
          "3641.68",
          "6182.82",
          "8549.52",
          "6951.14",
          "0",
          "2587.2",
          "2204.02",
          "5924.1",
          "10048.92",
          "5010.74",
          "726.18",
          "6552.28",
          "9637.32",
          "1990.38",
          "7332.36",
          "11174",
          "6945.26",
          "11302.34",
          "5190.08",
          "3986.64",
          "10139.08",
          "5636.96",
          "3315.34",
          "2254",
          "1246.56",
          "13248.62",
          "9039.52",
          "5523.28",
          "12887.98",
          "7444.08",
          "7595.98",
          "16071.02",
          "9848.02",
          "12012.84",
          "5135.2",
          "2748.9",
          "8811.18",
          "6123.04",
          "8737.68",
          "14431.48",
          "18700.36",
          "15766.24",
          "18971.82",
          "13399.54",
          "8426.04",
          "9234.54",
          "24978.24",
          "20126.26",
          "12080.46",
          "15288",
          "16015.16",
          "19757.78",
          "19018.86",
          "15854.44",
          "17529.26",
          "8350.58",
          "20261.5",
          "21278.74",
          "21862.82",
          "19943.98",
          "18018.28",
          "17933.02",
          "13723.92",
          "23661.12",
          "23392.6",
          "25538.8",
          "26501",
          "27356",
          "19578",
          "19182",
          "21001",
          "19743",
          "22239",
          "15064",
          "20210",
          "23067",
          "24864",
          "24091",
          "28840",
          "22122",
          "26048",
          "23141",
          "24012",
          "27716",
          "26675",
          "25252",
          "27295",
          "27375",
          "28102",
          "25425",
          "9100.445",
          "8882.551",
          "9142.497",
          "7101.357",
          "8281.143",
          "8653.141",
          "7761.897",
          "6959.415",
          "6145.418",
          "6472.647",
          "6975.589",
          "8343.38"
         ],
         "yaxis": "y"
        }
       ],
       "layout": {
        "autosize": true,
        "legend": {
         "title": {
          "text": "fuel_type"
         },
         "tracegroupgap": 0
        },
        "margin": {
         "t": 60
        },
        "template": {
         "data": {
          "bar": [
           {
            "error_x": {
             "color": "#2a3f5f"
            },
            "error_y": {
             "color": "#2a3f5f"
            },
            "marker": {
             "line": {
              "color": "#E5ECF6",
              "width": 0.5
             }
            },
            "type": "bar"
           }
          ],
          "barpolar": [
           {
            "marker": {
             "line": {
              "color": "#E5ECF6",
              "width": 0.5
             }
            },
            "type": "barpolar"
           }
          ],
          "carpet": [
           {
            "aaxis": {
             "endlinecolor": "#2a3f5f",
             "gridcolor": "white",
             "linecolor": "white",
             "minorgridcolor": "white",
             "startlinecolor": "#2a3f5f"
            },
            "baxis": {
             "endlinecolor": "#2a3f5f",
             "gridcolor": "white",
             "linecolor": "white",
             "minorgridcolor": "white",
             "startlinecolor": "#2a3f5f"
            },
            "type": "carpet"
           }
          ],
          "choropleth": [
           {
            "colorbar": {
             "outlinewidth": 0,
             "ticks": ""
            },
            "type": "choropleth"
           }
          ],
          "contour": [
           {
            "colorbar": {
             "outlinewidth": 0,
             "ticks": ""
            },
            "colorscale": [
             [
              0,
              "#0d0887"
             ],
             [
              0.1111111111111111,
              "#46039f"
             ],
             [
              0.2222222222222222,
              "#7201a8"
             ],
             [
              0.3333333333333333,
              "#9c179e"
             ],
             [
              0.4444444444444444,
              "#bd3786"
             ],
             [
              0.5555555555555556,
              "#d8576b"
             ],
             [
              0.6666666666666666,
              "#ed7953"
             ],
             [
              0.7777777777777778,
              "#fb9f3a"
             ],
             [
              0.8888888888888888,
              "#fdca26"
             ],
             [
              1,
              "#f0f921"
             ]
            ],
            "type": "contour"
           }
          ],
          "contourcarpet": [
           {
            "colorbar": {
             "outlinewidth": 0,
             "ticks": ""
            },
            "type": "contourcarpet"
           }
          ],
          "heatmap": [
           {
            "colorbar": {
             "outlinewidth": 0,
             "ticks": ""
            },
            "colorscale": [
             [
              0,
              "#0d0887"
             ],
             [
              0.1111111111111111,
              "#46039f"
             ],
             [
              0.2222222222222222,
              "#7201a8"
             ],
             [
              0.3333333333333333,
              "#9c179e"
             ],
             [
              0.4444444444444444,
              "#bd3786"
             ],
             [
              0.5555555555555556,
              "#d8576b"
             ],
             [
              0.6666666666666666,
              "#ed7953"
             ],
             [
              0.7777777777777778,
              "#fb9f3a"
             ],
             [
              0.8888888888888888,
              "#fdca26"
             ],
             [
              1,
              "#f0f921"
             ]
            ],
            "type": "heatmap"
           }
          ],
          "heatmapgl": [
           {
            "colorbar": {
             "outlinewidth": 0,
             "ticks": ""
            },
            "colorscale": [
             [
              0,
              "#0d0887"
             ],
             [
              0.1111111111111111,
              "#46039f"
             ],
             [
              0.2222222222222222,
              "#7201a8"
             ],
             [
              0.3333333333333333,
              "#9c179e"
             ],
             [
              0.4444444444444444,
              "#bd3786"
             ],
             [
              0.5555555555555556,
              "#d8576b"
             ],
             [
              0.6666666666666666,
              "#ed7953"
             ],
             [
              0.7777777777777778,
              "#fb9f3a"
             ],
             [
              0.8888888888888888,
              "#fdca26"
             ],
             [
              1,
              "#f0f921"
             ]
            ],
            "type": "heatmapgl"
           }
          ],
          "histogram": [
           {
            "marker": {
             "colorbar": {
              "outlinewidth": 0,
              "ticks": ""
             }
            },
            "type": "histogram"
           }
          ],
          "histogram2d": [
           {
            "colorbar": {
             "outlinewidth": 0,
             "ticks": ""
            },
            "colorscale": [
             [
              0,
              "#0d0887"
             ],
             [
              0.1111111111111111,
              "#46039f"
             ],
             [
              0.2222222222222222,
              "#7201a8"
             ],
             [
              0.3333333333333333,
              "#9c179e"
             ],
             [
              0.4444444444444444,
              "#bd3786"
             ],
             [
              0.5555555555555556,
              "#d8576b"
             ],
             [
              0.6666666666666666,
              "#ed7953"
             ],
             [
              0.7777777777777778,
              "#fb9f3a"
             ],
             [
              0.8888888888888888,
              "#fdca26"
             ],
             [
              1,
              "#f0f921"
             ]
            ],
            "type": "histogram2d"
           }
          ],
          "histogram2dcontour": [
           {
            "colorbar": {
             "outlinewidth": 0,
             "ticks": ""
            },
            "colorscale": [
             [
              0,
              "#0d0887"
             ],
             [
              0.1111111111111111,
              "#46039f"
             ],
             [
              0.2222222222222222,
              "#7201a8"
             ],
             [
              0.3333333333333333,
              "#9c179e"
             ],
             [
              0.4444444444444444,
              "#bd3786"
             ],
             [
              0.5555555555555556,
              "#d8576b"
             ],
             [
              0.6666666666666666,
              "#ed7953"
             ],
             [
              0.7777777777777778,
              "#fb9f3a"
             ],
             [
              0.8888888888888888,
              "#fdca26"
             ],
             [
              1,
              "#f0f921"
             ]
            ],
            "type": "histogram2dcontour"
           }
          ],
          "mesh3d": [
           {
            "colorbar": {
             "outlinewidth": 0,
             "ticks": ""
            },
            "type": "mesh3d"
           }
          ],
          "parcoords": [
           {
            "line": {
             "colorbar": {
              "outlinewidth": 0,
              "ticks": ""
             }
            },
            "type": "parcoords"
           }
          ],
          "pie": [
           {
            "automargin": true,
            "type": "pie"
           }
          ],
          "scatter": [
           {
            "marker": {
             "colorbar": {
              "outlinewidth": 0,
              "ticks": ""
             }
            },
            "type": "scatter"
           }
          ],
          "scatter3d": [
           {
            "line": {
             "colorbar": {
              "outlinewidth": 0,
              "ticks": ""
             }
            },
            "marker": {
             "colorbar": {
              "outlinewidth": 0,
              "ticks": ""
             }
            },
            "type": "scatter3d"
           }
          ],
          "scattercarpet": [
           {
            "marker": {
             "colorbar": {
              "outlinewidth": 0,
              "ticks": ""
             }
            },
            "type": "scattercarpet"
           }
          ],
          "scattergeo": [
           {
            "marker": {
             "colorbar": {
              "outlinewidth": 0,
              "ticks": ""
             }
            },
            "type": "scattergeo"
           }
          ],
          "scattergl": [
           {
            "marker": {
             "colorbar": {
              "outlinewidth": 0,
              "ticks": ""
             }
            },
            "type": "scattergl"
           }
          ],
          "scattermapbox": [
           {
            "marker": {
             "colorbar": {
              "outlinewidth": 0,
              "ticks": ""
             }
            },
            "type": "scattermapbox"
           }
          ],
          "scatterpolar": [
           {
            "marker": {
             "colorbar": {
              "outlinewidth": 0,
              "ticks": ""
             }
            },
            "type": "scatterpolar"
           }
          ],
          "scatterpolargl": [
           {
            "marker": {
             "colorbar": {
              "outlinewidth": 0,
              "ticks": ""
             }
            },
            "type": "scatterpolargl"
           }
          ],
          "scatterternary": [
           {
            "marker": {
             "colorbar": {
              "outlinewidth": 0,
              "ticks": ""
             }
            },
            "type": "scatterternary"
           }
          ],
          "surface": [
           {
            "colorbar": {
             "outlinewidth": 0,
             "ticks": ""
            },
            "colorscale": [
             [
              0,
              "#0d0887"
             ],
             [
              0.1111111111111111,
              "#46039f"
             ],
             [
              0.2222222222222222,
              "#7201a8"
             ],
             [
              0.3333333333333333,
              "#9c179e"
             ],
             [
              0.4444444444444444,
              "#bd3786"
             ],
             [
              0.5555555555555556,
              "#d8576b"
             ],
             [
              0.6666666666666666,
              "#ed7953"
             ],
             [
              0.7777777777777778,
              "#fb9f3a"
             ],
             [
              0.8888888888888888,
              "#fdca26"
             ],
             [
              1,
              "#f0f921"
             ]
            ],
            "type": "surface"
           }
          ],
          "table": [
           {
            "cells": {
             "fill": {
              "color": "#EBF0F8"
             },
             "line": {
              "color": "white"
             }
            },
            "header": {
             "fill": {
              "color": "#C8D4E3"
             },
             "line": {
              "color": "white"
             }
            },
            "type": "table"
           }
          ]
         },
         "layout": {
          "annotationdefaults": {
           "arrowcolor": "#2a3f5f",
           "arrowhead": 0,
           "arrowwidth": 1
          },
          "coloraxis": {
           "colorbar": {
            "outlinewidth": 0,
            "ticks": ""
           }
          },
          "colorscale": {
           "diverging": [
            [
             0,
             "#8e0152"
            ],
            [
             0.1,
             "#c51b7d"
            ],
            [
             0.2,
             "#de77ae"
            ],
            [
             0.3,
             "#f1b6da"
            ],
            [
             0.4,
             "#fde0ef"
            ],
            [
             0.5,
             "#f7f7f7"
            ],
            [
             0.6,
             "#e6f5d0"
            ],
            [
             0.7,
             "#b8e186"
            ],
            [
             0.8,
             "#7fbc41"
            ],
            [
             0.9,
             "#4d9221"
            ],
            [
             1,
             "#276419"
            ]
           ],
           "sequential": [
            [
             0,
             "#0d0887"
            ],
            [
             0.1111111111111111,
             "#46039f"
            ],
            [
             0.2222222222222222,
             "#7201a8"
            ],
            [
             0.3333333333333333,
             "#9c179e"
            ],
            [
             0.4444444444444444,
             "#bd3786"
            ],
            [
             0.5555555555555556,
             "#d8576b"
            ],
            [
             0.6666666666666666,
             "#ed7953"
            ],
            [
             0.7777777777777778,
             "#fb9f3a"
            ],
            [
             0.8888888888888888,
             "#fdca26"
            ],
            [
             1,
             "#f0f921"
            ]
           ],
           "sequentialminus": [
            [
             0,
             "#0d0887"
            ],
            [
             0.1111111111111111,
             "#46039f"
            ],
            [
             0.2222222222222222,
             "#7201a8"
            ],
            [
             0.3333333333333333,
             "#9c179e"
            ],
            [
             0.4444444444444444,
             "#bd3786"
            ],
            [
             0.5555555555555556,
             "#d8576b"
            ],
            [
             0.6666666666666666,
             "#ed7953"
            ],
            [
             0.7777777777777778,
             "#fb9f3a"
            ],
            [
             0.8888888888888888,
             "#fdca26"
            ],
            [
             1,
             "#f0f921"
            ]
           ]
          },
          "colorway": [
           "#636efa",
           "#EF553B",
           "#00cc96",
           "#ab63fa",
           "#FFA15A",
           "#19d3f3",
           "#FF6692",
           "#B6E880",
           "#FF97FF",
           "#FECB52"
          ],
          "font": {
           "color": "#2a3f5f"
          },
          "geo": {
           "bgcolor": "white",
           "lakecolor": "white",
           "landcolor": "#E5ECF6",
           "showlakes": true,
           "showland": true,
           "subunitcolor": "white"
          },
          "hoverlabel": {
           "align": "left"
          },
          "hovermode": "closest",
          "mapbox": {
           "style": "light"
          },
          "paper_bgcolor": "white",
          "plot_bgcolor": "#E5ECF6",
          "polar": {
           "angularaxis": {
            "gridcolor": "white",
            "linecolor": "white",
            "ticks": ""
           },
           "bgcolor": "#E5ECF6",
           "radialaxis": {
            "gridcolor": "white",
            "linecolor": "white",
            "ticks": ""
           }
          },
          "scene": {
           "xaxis": {
            "backgroundcolor": "#E5ECF6",
            "gridcolor": "white",
            "gridwidth": 2,
            "linecolor": "white",
            "showbackground": true,
            "ticks": "",
            "zerolinecolor": "white"
           },
           "yaxis": {
            "backgroundcolor": "#E5ECF6",
            "gridcolor": "white",
            "gridwidth": 2,
            "linecolor": "white",
            "showbackground": true,
            "ticks": "",
            "zerolinecolor": "white"
           },
           "zaxis": {
            "backgroundcolor": "#E5ECF6",
            "gridcolor": "white",
            "gridwidth": 2,
            "linecolor": "white",
            "showbackground": true,
            "ticks": "",
            "zerolinecolor": "white"
           }
          },
          "shapedefaults": {
           "line": {
            "color": "#2a3f5f"
           }
          },
          "ternary": {
           "aaxis": {
            "gridcolor": "white",
            "linecolor": "white",
            "ticks": ""
           },
           "baxis": {
            "gridcolor": "white",
            "linecolor": "white",
            "ticks": ""
           },
           "bgcolor": "#E5ECF6",
           "caxis": {
            "gridcolor": "white",
            "linecolor": "white",
            "ticks": ""
           }
          },
          "title": {
           "x": 0.05
          },
          "xaxis": {
           "automargin": true,
           "gridcolor": "white",
           "linecolor": "white",
           "ticks": "",
           "title": {
            "standoff": 15
           },
           "zerolinecolor": "white",
           "zerolinewidth": 2
          },
          "yaxis": {
           "automargin": true,
           "gridcolor": "white",
           "linecolor": "white",
           "ticks": "",
           "title": {
            "standoff": 15
           },
           "zerolinecolor": "white",
           "zerolinewidth": 2
          }
         }
        },
        "xaxis": {
         "anchor": "y",
         "autorange": true,
         "domain": [
          0,
          1
         ],
         "range": [
          "2001-01-01",
          "2019-12-01"
         ],
         "title": {
          "text": "date"
         },
         "type": "date"
        },
        "yaxis": {
         "anchor": "x",
         "autorange": true,
         "domain": [
          0,
          1
         ],
         "range": [
          -4493.666666666667,
          85379.66666666667
         ],
         "title": {
          "text": "value"
         },
         "type": "linear"
        }
       }
      },
      "image/png": "[encoded data removed]",
      "text/html": [
       "<div>                            <div id=\"27484e8c-0c1d-4d42-891a-c70c15ac7bc9\" class=\"plotly-graph-div\" style=\"height:525px; width:100%;\"></div>            <script type=\"text/javascript\">                require([\"plotly\"], function(Plotly) {                    window.PLOTLYENV=window.PLOTLYENV || {};                                    if (document.getElementById(\"27484e8c-0c1d-4d42-891a-c70c15ac7bc9\")) {                    Plotly.newPlot(                        \"27484e8c-0c1d-4d42-891a-c70c15ac7bc9\",                        [{\"customdata\": [[200512], [200512], [200512], [200512], [200512], [200512], [200512], [200512], [200512], [200512], [200512], [200512], [200512], [200512], [200512], [200512], [200512], [200512], [200512], [200512], [200512], [200512], [200512], [200512], [200512], [200512], [200512], [200512], [200512], [200512], [200512], [200512], [200512], [200512], [200512], [200512], [200512], [200512], [200512], [200512], [200512], [200512], [200512], [200512], [200512], [200512], [200512], [200512]], \"hovertemplate\": \"fuel_type=municipal_solid_waste<br>date=%{x}<br>value=%{y}<br>end=%{customdata[0]}<extra></extra>\", \"legendgroup\": \"municipal_solid_waste\", \"line\": {\"color\": \"#636efa\", \"dash\": \"solid\"}, \"mode\": \"lines\", \"name\": \"municipal_solid_waste\", \"showlegend\": true, \"type\": \"scattergl\", \"x\": [\"2005-12-01\", \"2005-11-01\", \"2005-10-01\", \"2005-09-01\", \"2005-08-01\", \"2005-07-01\", \"2005-06-01\", \"2005-05-01\", \"2005-04-01\", \"2005-03-01\", \"2005-02-01\", \"2005-01-01\", \"2004-12-01\", \"2004-11-01\", \"2004-10-01\", \"2004-09-01\", \"2004-08-01\", \"2004-07-01\", \"2004-06-01\", \"2004-05-01\", \"2004-04-01\", \"2004-03-01\", \"2004-02-01\", \"2004-01-01\", \"2003-12-01\", \"2003-11-01\", \"2003-10-01\", \"2003-09-01\", \"2003-08-01\", \"2003-07-01\", \"2003-06-01\", \"2003-05-01\", \"2003-04-01\", \"2003-03-01\", \"2003-02-01\", \"2003-01-01\", \"2002-12-01\", \"2002-11-01\", \"2002-10-01\", \"2002-09-01\", \"2002-08-01\", \"2002-07-01\", \"2002-06-01\", \"2002-05-01\", \"2002-04-01\", \"2002-03-01\", \"2002-02-01\", \"2002-01-01\"], \"xaxis\": \"x\", \"y\": [\"2867.04717\", \"3253.38139\", \"3768.95792\", \"3186.49724\", \"3081.83318\", \"3294.11452\", \"3688.15609\", \"3249.72197\", \"3278.80841\", \"3636.41163\", \"3252.32229\", \"3273.37002\", \"5273.54153\", \"4566.47328\", \"6525.71427\", \"5048.61253\", \"4994.35842\", \"4608.14286\", \"4526.97922\", \"4469.34759\", \"4346.06459\", \"4353.96976\", \"3017.14841\", \"3204.48709\", \"3616\", \"3584\", \"4419\", \"3910\", \"3900\", \"5499\", \"4629\", \"4702\", \"4457\", \"4541\", \"4814\", \"4739\", \"4677\", \"3164\", \"5276\", \"9004\", \"12139\", \"12425\", \"10852\", \"13567\", \"11264\", \"13148\", \"13128\", \"13364\"], \"yaxis\": \"y\"}, {\"customdata\": [[200812], [200812], [200812], [200812], [200812], [200812], [200812], [200812], [200812], [200812], [200812], [200812], [200812], [200812], [200812], [200812], [200812], [200812], [200812], [200812], [200812], [200812], [200812], [200812], [200812], [200812], [200812], [200812], [200812], [200812], [200812], [200812], [200812], [200812], [200812], [200812], [200812], [200812], [200812], [200812], [200812], [200812], [200812], [200812], [200812], [200812], [200812], [200812], [200812], [200812], [200812], [200812], [200812], [200812], [200812], [200812], [200812], [200812], [200812]], \"hovertemplate\": \"fuel_type=distillate_fuel_oil<br>date=%{x}<br>value=%{y}<br>end=%{customdata[0]}<extra></extra>\", \"legendgroup\": \"distillate_fuel_oil\", \"line\": {\"color\": \"#EF553B\", \"dash\": \"solid\"}, \"mode\": \"lines\", \"name\": \"distillate_fuel_oil\", \"showlegend\": true, \"type\": \"scattergl\", \"x\": [\"2008-12-01\", \"2008-11-01\", \"2008-10-01\", \"2008-09-01\", \"2008-08-01\", \"2008-07-01\", \"2008-06-01\", \"2008-05-01\", \"2008-04-01\", \"2008-03-01\", \"2008-02-01\", \"2008-01-01\", \"2004-12-01\", \"2004-11-01\", \"2004-10-01\", \"2004-09-01\", \"2004-08-01\", \"2004-07-01\", \"2004-06-01\", \"2004-05-01\", \"2004-04-01\", \"2004-03-01\", \"2004-02-01\", \"2004-01-01\", \"2003-12-01\", \"2003-11-01\", \"2003-10-01\", \"2003-09-01\", \"2003-08-01\", \"2003-07-01\", \"2003-06-01\", \"2003-05-01\", \"2003-03-01\", \"2003-02-01\", \"2003-01-01\", \"2002-12-01\", \"2002-11-01\", \"2002-10-01\", \"2002-09-01\", \"2002-08-01\", \"2002-07-01\", \"2002-06-01\", \"2002-05-01\", \"2002-04-01\", \"2002-03-01\", \"2002-02-01\", \"2002-01-01\", \"2001-12-01\", \"2001-11-01\", \"2001-10-01\", \"2001-09-01\", \"2001-08-01\", \"2001-07-01\", \"2001-06-01\", \"2001-05-01\", \"2001-04-01\", \"2001-03-01\", \"2001-02-01\", \"2001-01-01\"], \"xaxis\": \"x\", \"y\": [\"0\", \"0\", \"0\", \"0\", \"0\", \"0\", \"0\", \"0\", \"0\", \"0\", \"0\", \"0\", \"0\", \"0\", \"0\", \"0\", \"0\", \"0\", \"0\", \"0\", \"0\", \"0\", \"0\", \"0\", \"0\", \"0\", \"0\", \"0\", \"0\", \"0\", \"0\", \"0\", \"0\", \"0\", \"0\", \"0\", \"0\", \"0\", \"0\", \"0\", \"0\", \"0\", \"0\", \"0\", \"0\", \"0\", \"36\", \"158.824\", \"155.022\", \"159.558\", \"123.936\", \"144.526\", \"151.018\", \"135.464\", \"121.458\", \"107.252\", \"112.963\", \"121.741\", \"145.612\"], \"yaxis\": \"y\"}, {\"customdata\": [[202008], [202008], [202008], [202008], [202008], [202008], [202008], [202008], [202008], [202008], [202008], [202008], [202008], [202008], [202008], [202008], [202008], [202008], [202008], [202008], [202008], [202008], [202008], [202008], [202008], [202008], [202008], [202008], [202008], [202008], [202008], [202008], [202008], [202008], [202008], [202008], [202008], [202008], [202008], [202008], [202008], [202008], [202008], [202008], [202008], [202008], [202008], [202008], [202008], [202008], [202008], [202008], [202008], [202008], [202008], [202008], [202008], [202008], [202008], [202008], [202008], [202008], [202008], [202008], [202008], [202008], [202008], [202008], [202008], [202008], [202008], [202008], [202008], [202008], [202008], [202008], [202008], [202008], [202008], [202008], [202008], [202008], [202008], [202008], [202008], [202008], [202008], [202008], [202008], [202008], [202008], [202008], [202008], [202008], [202008], [202008], [202008], [202008], [202008], [202008], [202008], [202008], [202008], [202008], [202008], [202008], [202008], [202008], [202008], [202008], [202008], [202008], [202008], [202008], [202008], [202008], [202008], [202008], [202008], [202008], [202008], [202008], [202008], [202008], [202008], [202008], [202008], [202008], [202008], [202008], [202008], [202008], [202008], [202008], [202008], [202008], [202008], [202008], [202008], [202008], [202008], [202008], [202008], [202008], [202008], [202008], [202008], [202008], [202008], [202008], [202008], [202008], [202008], [202008], [202008], [202008], [202008], [202008], [202008], [202008], [202008], [202008], [202008], [202008], [202008], [202008], [202008], [202008], [202008], [202008], [202008], [202008], [202008], [202008], [202008], [202008], [202008], [202008], [202008], [202008], [202008], [202008], [202008], [202008], [202008], [202008], [202008], [202008], [202008], [202008], [202008], [202008], [202008], [202008], [202008], [202008], [202008], [202008], [202008], [202008], [202008], [202008], [202008], [202008], [202008], [202008], [202008], [202008], [202008], [202008], [202008], [202008], [202008], [202008], [202008], [202008], [202008], [202008], [202008], [202008], [202008], [202008], [202008], [202008], [202008]], \"hovertemplate\": \"fuel_type=residual_fuel_oil<br>date=%{x}<br>value=%{y}<br>end=%{customdata[0]}<extra></extra>\", \"legendgroup\": \"residual_fuel_oil\", \"line\": {\"color\": \"#00cc96\", \"dash\": \"solid\"}, \"mode\": \"lines\", \"name\": \"residual_fuel_oil\", \"showlegend\": true, \"type\": \"scattergl\", \"x\": [\"2019-12-01\", \"2019-11-01\", \"2019-10-01\", \"2019-09-01\", \"2019-08-01\", \"2019-07-01\", \"2019-06-01\", \"2019-05-01\", \"2019-04-01\", \"2019-03-01\", \"2019-02-01\", \"2019-01-01\", \"2018-12-01\", \"2018-11-01\", \"2018-10-01\", \"2018-09-01\", \"2018-08-01\", \"2018-07-01\", \"2018-06-01\", \"2018-05-01\", \"2018-04-01\", \"2018-03-01\", \"2018-02-01\", \"2018-01-01\", \"2017-12-01\", \"2017-11-01\", \"2017-10-01\", \"2017-09-01\", \"2017-08-01\", \"2017-07-01\", \"2017-06-01\", \"2017-05-01\", \"2017-04-01\", \"2017-03-01\", \"2017-02-01\", \"2017-01-01\", \"2016-12-01\", \"2016-11-01\", \"2016-10-01\", \"2016-09-01\", \"2016-08-01\", \"2016-07-01\", \"2016-06-01\", \"2016-05-01\", \"2016-04-01\", \"2016-03-01\", \"2016-02-01\", \"2016-01-01\", \"2015-12-01\", \"2015-11-01\", \"2015-10-01\", \"2015-09-01\", \"2015-08-01\", \"2015-07-01\", \"2015-06-01\", \"2015-05-01\", \"2015-04-01\", \"2015-03-01\", \"2015-02-01\", \"2015-01-01\", \"2014-12-01\", \"2014-11-01\", \"2014-10-01\", \"2014-09-01\", \"2014-08-01\", \"2014-07-01\", \"2014-06-01\", \"2014-05-01\", \"2014-04-01\", \"2014-03-01\", \"2014-02-01\", \"2014-01-01\", \"2013-12-01\", \"2013-11-01\", \"2013-10-01\", \"2013-09-01\", \"2013-08-01\", \"2013-07-01\", \"2013-06-01\", \"2013-05-01\", \"2013-04-01\", \"2012-12-01\", \"2012-11-01\", \"2012-10-01\", \"2012-09-01\", \"2012-08-01\", \"2012-07-01\", \"2012-06-01\", \"2012-05-01\", \"2012-04-01\", \"2012-03-01\", \"2012-02-01\", \"2012-01-01\", \"2011-12-01\", \"2011-11-01\", \"2011-10-01\", \"2011-09-01\", \"2011-08-01\", \"2011-07-01\", \"2011-06-01\", \"2011-05-01\", \"2011-04-01\", \"2011-03-01\", \"2011-02-01\", \"2011-01-01\", \"2010-12-01\", \"2010-11-01\", \"2010-10-01\", \"2010-09-01\", \"2010-08-01\", \"2010-07-01\", \"2010-06-01\", \"2010-05-01\", \"2010-04-01\", \"2010-03-01\", \"2010-02-01\", \"2010-01-01\", \"2009-12-01\", \"2009-11-01\", \"2009-10-01\", \"2009-09-01\", \"2009-08-01\", \"2009-07-01\", \"2009-06-01\", \"2009-05-01\", \"2009-04-01\", \"2009-03-01\", \"2009-02-01\", \"2009-01-01\", \"2008-12-01\", \"2008-11-01\", \"2008-10-01\", \"2008-09-01\", \"2008-08-01\", \"2008-07-01\", \"2008-06-01\", \"2008-05-01\", \"2008-04-01\", \"2008-03-01\", \"2008-02-01\", \"2008-01-01\", \"2007-12-01\", \"2007-11-01\", \"2007-10-01\", \"2007-09-01\", \"2007-08-01\", \"2007-07-01\", \"2007-06-01\", \"2007-05-01\", \"2007-04-01\", \"2007-03-01\", \"2007-02-01\", \"2007-01-01\", \"2006-12-01\", \"2006-11-01\", \"2006-10-01\", \"2006-09-01\", \"2006-08-01\", \"2006-07-01\", \"2006-06-01\", \"2006-05-01\", \"2006-04-01\", \"2006-03-01\", \"2006-02-01\", \"2006-01-01\", \"2005-12-01\", \"2005-11-01\", \"2005-10-01\", \"2005-09-01\", \"2005-08-01\", \"2005-07-01\", \"2005-06-01\", \"2005-05-01\", \"2005-04-01\", \"2005-03-01\", \"2005-02-01\", \"2005-01-01\", \"2004-12-01\", \"2004-11-01\", \"2004-10-01\", \"2004-09-01\", \"2004-08-01\", \"2004-07-01\", \"2004-06-01\", \"2004-05-01\", \"2004-04-01\", \"2004-03-01\", \"2004-02-01\", \"2004-01-01\", \"2003-12-01\", \"2003-11-01\", \"2003-10-01\", \"2003-09-01\", \"2003-08-01\", \"2003-07-01\", \"2003-06-01\", \"2003-05-01\", \"2003-04-01\", \"2003-03-01\", \"2003-02-01\", \"2003-01-01\", \"2002-12-01\", \"2002-11-01\", \"2002-10-01\", \"2002-09-01\", \"2002-08-01\", \"2002-07-01\", \"2002-06-01\", \"2002-05-01\", \"2002-04-01\", \"2002-03-01\", \"2002-02-01\", \"2002-01-01\", \"2001-12-01\", \"2001-11-01\", \"2001-10-01\", \"2001-09-01\", \"2001-08-01\", \"2001-07-01\", \"2001-06-01\", \"2001-05-01\", \"2001-04-01\", \"2001-03-01\", \"2001-02-01\", \"2001-01-01\"], \"xaxis\": \"x\", \"y\": [\"0\", \"0\", \"0\", \"0\", \"0\", \"0\", \"0\", \"0\", \"0\", \"0\", \"0\", \"0\", \"0\", \"0\", \"0\", \"0\", \"0\", \"0\", \"0\", \"0\", \"0\", \"0\", \"0\", \"0\", \"0\", \"0\", \"0\", \"0\", \"0\", \"0\", \"0\", \"0\", \"0\", \"0\", \"0\", \"0\", \"0\", \"0\", \"0\", \"0\", \"0\", \"0\", \"0\", \"0\", \"0\", \"0\", \"0\", \"0\", \"0\", \"0\", \"0\", \"0\", \"0\", \"0\", \"0\", \"0\", \"0\", \"0\", \"0\", \"0\", \"0\", \"0\", \"0\", \"0\", \"0\", \"0\", \"0\", \"0\", \"0\", \"0\", \"0\", \"0\", \"0\", \"0\", \"0\", \"0\", \"0\", \"0\", \"0\", \"0\", \"0\", \"0\", \"0\", \"0\", \"0\", \"0\", \"0\", \"0\", \"0\", \"0\", \"0\", \"0\", \"0\", \"0\", \"0\", \"0\", \"0\", \"0\", \"0\", \"0\", \"0\", \"0\", \"0\", \"0\", \"0\", \"0\", \"0\", \"0\", \"0\", \"0\", \"0\", \"0\", \"0\", \"892.406\", \"547.884\", \"709.073\", \"593.894\", \"775.062\", \"187.43\", \"48.643\", \"155.257\", \"365.816\", \"1188.2\", \"332.155\", \"14990.343\", \"770.975\", \"461.361\", \"521.022\", \"604.028\", \"358.943\", \"175.376\", \"416.635\", \"217.18\", \"218.38\", \"282.222\", \"106.332\", \"223.898\", \"237.166\", \"232.83\", \"232.25\", \"160.597\", \"3817.252\", \"3397.198\", \"2346.394\", \"3065.289\", \"3472.082\", \"3610.575\", \"3362.252\", \"4047.043\", \"3677.018\", \"4978.628\", \"4066.886\", \"4639.354\", \"4653.78508\", \"3031.41888\", \"3198.81156\", \"3699.63573\", \"3402.39995\", \"2542.24167\", \"1804.71553\", \"2079.48723\", \"2834.17139\", \"2301.34126\", \"2071.71559\", \"2198.16431\", \"2173.7779\", \"3088.66123\", \"3114.64626\", \"1992.98582\", \"2497.61177\", \"1704.95329\", \"2696.20031\", \"2843.51873\", \"2707.89629\", \"2774.97602\", \"2452.49899\", \"3340.55457\", \"4831.23419\", \"4677.01006\", \"4105.42629\", \"3303.87143\", \"4285.21693\", \"4458.19317\", \"3357.16033\", \"4298.84983\", \"4108.00024\", \"4513.41546\", \"3515.67743\", \"4721.44877\", \"2520\", \"3867\", \"4799\", \"3772\", \"4827\", \"7065\", \"1811\", \"3169\", \"1321\", \"1954\", \"1717\", \"1514\", \"2253\", \"1041\", \"882\", \"2981\", \"1900\", \"3559\", \"1829\", \"2317\", \"3022\", \"6519\", \"3076\", \"3124\", \"5602.026\", \"5467.895\", \"5627.912\", \"4371.433\", \"5097.682\", \"5326.676\", \"4778.046\", \"4284.057\", \"3782.979\", \"3984.413\", \"4294.013\", \"5135.994\"], \"yaxis\": \"y\"}, {\"customdata\": [[202008], [202008], [202008], [202008], [202008], [202008], [202008], [202008], [202008], [202008], [202008], [202008], [202008], [202008], [202008], [202008], [202008], [202008], [202008], [202008], [202008], [202008], [202008], [202008], [202008], [202008], [202008], [202008], [202008], [202008], [202008], [202008], [202008], [202008], [202008], [202008], [202008], [202008], [202008], [202008], [202008], [202008], [202008], [202008], [202008], [202008], [202008], [202008], [202008], [202008], [202008], [202008], [202008], [202008], [202008], [202008], [202008], [202008], [202008], [202008], [202008], [202008], [202008], [202008], [202008], [202008], [202008], [202008], [202008], [202008], [202008], [202008], [202008], [202008], [202008], [202008], [202008], [202008], [202008], [202008], [202008], [202008], [202008], [202008], [202008], [202008], [202008], [202008], [202008], [202008], [202008], [202008], [202008], [202008], [202008], [202008], [202008], [202008], [202008], [202008], [202008], [202008], [202008], [202008], [202008], [202008], [202008], [202008], [202008], [202008], [202008], [202008], [202008], [202008], [202008], [202008], [202008], [202008], [202008], [202008], [202008], [202008], [202008], [202008], [202008], [202008], [202008], [202008], [202008], [202008], [202008], [202008], [202008], [202008], [202008], [202008], [202008], [202008], [202008], [202008], [202008], [202008], [202008], [202008], [202008], [202008], [202008], [202008], [202008], [202008], [202008], [202008], [202008], [202008], [202008], [202008], [202008], [202008], [202008], [202008], [202008], [202008], [202008], [202008], [202008], [202008], [202008], [202008], [202008], [202008], [202008], [202008], [202008], [202008], [202008], [202008], [202008], [202008], [202008], [202008], [202008], [202008], [202008], [202008], [202008], [202008], [202008], [202008], [202008], [202008], [202008], [202008], [202008], [202008], [202008], [202008], [202008], [202008], [202008], [202008], [202008], [202008], [202008], [202008], [202008], [202008], [202008], [202008], [202008], [202008], [202008], [202008], [202008], [202008], [202008], [202008], [202008], [202008], [202008], [202008], [202008], [202008], [202008], [202008], [202008], [202008], [202008], [202008]], \"hovertemplate\": \"fuel_type=all_fuels<br>date=%{x}<br>value=%{y}<br>end=%{customdata[0]}<extra></extra>\", \"legendgroup\": \"all_fuels\", \"line\": {\"color\": \"#ab63fa\", \"dash\": \"solid\"}, \"mode\": \"lines\", \"name\": \"all_fuels\", \"showlegend\": true, \"type\": \"scattergl\", \"x\": [\"2019-12-01\", \"2019-11-01\", \"2019-10-01\", \"2019-09-01\", \"2019-08-01\", \"2019-07-01\", \"2019-06-01\", \"2019-05-01\", \"2019-04-01\", \"2019-03-01\", \"2019-02-01\", \"2019-01-01\", \"2018-12-01\", \"2018-11-01\", \"2018-10-01\", \"2018-09-01\", \"2018-08-01\", \"2018-07-01\", \"2018-06-01\", \"2018-05-01\", \"2018-04-01\", \"2018-03-01\", \"2018-02-01\", \"2018-01-01\", \"2017-12-01\", \"2017-11-01\", \"2017-10-01\", \"2017-09-01\", \"2017-08-01\", \"2017-07-01\", \"2017-06-01\", \"2017-05-01\", \"2017-04-01\", \"2017-03-01\", \"2017-02-01\", \"2017-01-01\", \"2016-12-01\", \"2016-11-01\", \"2016-10-01\", \"2016-09-01\", \"2016-08-01\", \"2016-07-01\", \"2016-06-01\", \"2016-05-01\", \"2016-04-01\", \"2016-03-01\", \"2016-02-01\", \"2016-01-01\", \"2015-12-01\", \"2015-11-01\", \"2015-10-01\", \"2015-09-01\", \"2015-08-01\", \"2015-07-01\", \"2015-06-01\", \"2015-05-01\", \"2015-04-01\", \"2015-03-01\", \"2015-02-01\", \"2015-01-01\", \"2014-12-01\", \"2014-11-01\", \"2014-10-01\", \"2014-09-01\", \"2014-08-01\", \"2014-07-01\", \"2014-06-01\", \"2014-05-01\", \"2014-04-01\", \"2014-03-01\", \"2014-02-01\", \"2014-01-01\", \"2013-12-01\", \"2013-11-01\", \"2013-10-01\", \"2013-09-01\", \"2013-08-01\", \"2013-07-01\", \"2013-06-01\", \"2013-05-01\", \"2013-04-01\", \"2013-03-01\", \"2013-02-01\", \"2013-01-01\", \"2012-12-01\", \"2012-11-01\", \"2012-10-01\", \"2012-09-01\", \"2012-08-01\", \"2012-07-01\", \"2012-06-01\", \"2012-05-01\", \"2012-04-01\", \"2012-03-01\", \"2012-02-01\", \"2012-01-01\", \"2011-12-01\", \"2011-11-01\", \"2011-10-01\", \"2011-09-01\", \"2011-08-01\", \"2011-07-01\", \"2011-06-01\", \"2011-05-01\", \"2011-04-01\", \"2011-03-01\", \"2011-02-01\", \"2011-01-01\", \"2010-12-01\", \"2010-11-01\", \"2010-10-01\", \"2010-09-01\", \"2010-08-01\", \"2010-07-01\", \"2010-06-01\", \"2010-05-01\", \"2010-04-01\", \"2010-03-01\", \"2010-02-01\", \"2010-01-01\", \"2009-12-01\", \"2009-11-01\", \"2009-10-01\", \"2009-09-01\", \"2009-08-01\", \"2009-07-01\", \"2009-06-01\", \"2009-05-01\", \"2009-04-01\", \"2009-03-01\", \"2009-02-01\", \"2009-01-01\", \"2008-12-01\", \"2008-11-01\", \"2008-10-01\", \"2008-09-01\", \"2008-08-01\", \"2008-07-01\", \"2008-06-01\", \"2008-05-01\", \"2008-04-01\", \"2008-03-01\", \"2008-02-01\", \"2008-01-01\", \"2007-12-01\", \"2007-11-01\", \"2007-10-01\", \"2007-09-01\", \"2007-08-01\", \"2007-07-01\", \"2007-06-01\", \"2007-05-01\", \"2007-04-01\", \"2007-03-01\", \"2007-02-01\", \"2007-01-01\", \"2006-12-01\", \"2006-11-01\", \"2006-10-01\", \"2006-09-01\", \"2006-08-01\", \"2006-07-01\", \"2006-06-01\", \"2006-05-01\", \"2006-04-01\", \"2006-03-01\", \"2006-02-01\", \"2006-01-01\", \"2005-12-01\", \"2005-11-01\", \"2005-10-01\", \"2005-09-01\", \"2005-08-01\", \"2005-07-01\", \"2005-06-01\", \"2005-05-01\", \"2005-04-01\", \"2005-03-01\", \"2005-02-01\", \"2005-01-01\", \"2004-12-01\", \"2004-11-01\", \"2004-10-01\", \"2004-09-01\", \"2004-08-01\", \"2004-07-01\", \"2004-06-01\", \"2004-05-01\", \"2004-04-01\", \"2004-03-01\", \"2004-02-01\", \"2004-01-01\", \"2003-12-01\", \"2003-11-01\", \"2003-10-01\", \"2003-09-01\", \"2003-08-01\", \"2003-07-01\", \"2003-06-01\", \"2003-05-01\", \"2003-04-01\", \"2003-03-01\", \"2003-02-01\", \"2003-01-01\", \"2002-12-01\", \"2002-11-01\", \"2002-10-01\", \"2002-09-01\", \"2002-08-01\", \"2002-07-01\", \"2002-06-01\", \"2002-05-01\", \"2002-04-01\", \"2002-03-01\", \"2002-02-01\", \"2002-01-01\", \"2001-12-01\", \"2001-11-01\", \"2001-10-01\", \"2001-09-01\", \"2001-08-01\", \"2001-07-01\", \"2001-06-01\", \"2001-05-01\", \"2001-04-01\", \"2001-03-01\", \"2001-02-01\", \"2001-01-01\"], \"xaxis\": \"x\", \"y\": [\"25621\", \"24051\", \"25008\", \"23151\", \"25413\", \"23778\", \"23477\", \"24193\", \"18493\", \"15990\", \"22166\", \"25300\", \"25286\", \"24689\", \"24606\", \"23748\", \"24814\", \"24581\", \"23738\", \"21893\", \"16076\", \"0\", \"6217\", \"21884\", \"18911\", \"18180\", \"18089\", \"18940\", \"18040\", \"18632\", \"19539\", \"18339\", \"20078\", \"16632\", \"19598\", \"21414\", \"21367\", \"15543\", \"19985\", \"16242\", \"18823\", \"19394\", \"21053\", \"21905\", \"21403\", \"22237\", \"22761\", \"22460\", \"22440\", \"22028\", \"22883\", \"13074\", \"21542.41\", \"22280\", \"20790.495\", \"20791.455\", \"21164.052\", \"22372.109\", \"20841.391\", \"23309.362\", \"23327.608\", \"22220.382\", \"22467.179\", \"11092.425\", \"21622.115\", \"22112.828\", \"20874.041\", \"22466.219\", \"21445.42\", \"23155.714\", \"18404.15\", \"22975.178\", \"23249.823\", \"20480.318\", \"22009.116\", \"22513.273\", \"23091.374\", \"10143.649\", \"20700.227\", \"22583.375\", \"20501.445\", \"23954.684\", \"21132.362\", \"20893.247\", \"21651.884\", \"22888.903\", \"24518.708\", \"28276.4\", \"35104.379\", \"30473.595\", \"18176\", \"0\", \"0\", \"0\", \"0\", \"0\", \"0\", \"0\", \"0\", \"0\", \"0\", \"0\", \"0\", \"0\", \"0\", \"0\", \"0\", \"0\", \"0\", \"0\", \"0\", \"0\", \"0\", \"0\", \"0\", \"0\", \"18089.171\", \"34687.817\", \"33113.212\", \"39107.221\", \"42048.087\", \"40601.084\", \"56362.935\", \"42192.006\", \"56466.655\", \"47270.073\", \"35535.164\", \"34690.286\", \"44298.608\", \"34760.468\", \"36835.187\", \"44701.157\", \"45999.462\", \"52013.699\", \"49811.102\", \"50384.915\", \"52253.959\", \"57459.704\", \"57672.487\", \"53122.514\", \"54702.999\", \"60477.999\", \"54477.229\", \"60410.161\", \"54883.682\", \"49522.146\", \"44052.076\", \"49293.158\", \"51566.575\", \"49845.508\", \"46749.417\", \"59027.081\", \"52733.17\", \"58684.528\", \"56654.615\", \"53712.294\", \"50831.567\", \"52370.36001\", \"45535.648\", \"51655.94501\", \"48832.69101\", \"46639.412\", \"50901.129\", \"47520.613\", \"50030.58\", \"57732.368\", \"57410.052\", \"53878.62699\", \"57284.90901\", \"53913.63699\", \"50929.87799\", \"46800.51701\", \"63920.32701\", \"62387.14299\", \"52960.432\", \"57237.745\", \"52542.09\", \"63879.724\", \"59084.496\", \"59723.825\", \"60190.588\", \"50375.23001\", \"76916.31999\", \"62002.183\", \"63530.23699\", \"61762.16501\", \"56117.22199\", \"59759.84601\", \"53476.49799\", \"62062.55499\", \"62407.66901\", \"65296.18\", \"68152\", \"60891\", \"59407\", \"57464\", \"60256\", \"80886\", \"63578\", \"58838\", \"65113\", \"68416\", \"65391\", \"68335\", \"71929\", \"65023\", \"67361\", \"58939\", \"65498\", \"69029\", \"64606\", \"68014\", \"69114\", \"70971\", \"70742\", \"67376\", \"70333\", \"68649\", \"70657.999\", \"54883.001\", \"64001.001\", \"66876\", \"59988\", \"53785.999\", \"47495.001\", \"50024\", \"53911.001\", \"64482.001\"], \"yaxis\": \"y\"}, {\"customdata\": [[202008], [202008], [202008], [202008], [202008], [202008], [202008], [202008], [202008], [202008], [202008], [202008], [202008], [202008], [202008], [202008], [202008], [202008], [202008], [202008], [202008], [202008], [202008], [202008], [202008], [202008], [202008], [202008], [202008], [202008], [202008], [202008], [202008], [202008], [202008], [202008], [202008], [202008], [202008], [202008], [202008], [202008], [202008], [202008], [202008], [202008], [202008], [202008], [202008], [202008], [202008], [202008], [202008], [202008], [202008], [202008], [202008], [202008], [202008], [202008], [202008], [202008], [202008], [202008], [202008], [202008], [202008], [202008], [202008], [202008], [202008], [202008], [202008], [202008], [202008], [202008], [202008], [202008], [202008], [202008], [202008], [202008], [202008], [202008], [202008], [202008], [202008], [202008], [202008], [202008], [202008], [202008], [202008], [202008], [202008], [202008], [202008], [202008], [202008], [202008], [202008], [202008], [202008], [202008], [202008], [202008], [202008], [202008], [202008], [202008], [202008], [202008], [202008], [202008], [202008], [202008], [202008], [202008], [202008], [202008], [202008], [202008], [202008], [202008], [202008], [202008], [202008], [202008], [202008], [202008], [202008], [202008], [202008], [202008], [202008], [202008], [202008], [202008], [202008], [202008], [202008], [202008], [202008], [202008], [202008], [202008], [202008], [202008], [202008], [202008], [202008], [202008], [202008], [202008], [202008], [202008], [202008], [202008], [202008], [202008], [202008], [202008], [202008], [202008], [202008], [202008], [202008], [202008], [202008], [202008], [202008], [202008], [202008], [202008], [202008], [202008], [202008], [202008], [202008], [202008], [202008], [202008], [202008], [202008], [202008], [202008], [202008], [202008], [202008], [202008], [202008], [202008], [202008], [202008], [202008], [202008], [202008], [202008], [202008], [202008], [202008], [202008], [202008], [202008], [202008], [202008], [202008], [202008], [202008], [202008], [202008], [202008], [202008], [202008], [202008], [202008], [202008], [202008], [202008], [202008], [202008], [202008], [202008], [202008], [202008]], \"hovertemplate\": \"fuel_type=bituminous_coal<br>date=%{x}<br>value=%{y}<br>end=%{customdata[0]}<extra></extra>\", \"legendgroup\": \"bituminous_coal\", \"line\": {\"color\": \"#FFA15A\", \"dash\": \"solid\"}, \"mode\": \"lines\", \"name\": \"bituminous_coal\", \"showlegend\": true, \"type\": \"scattergl\", \"x\": [\"2019-12-01\", \"2019-11-01\", \"2019-10-01\", \"2019-09-01\", \"2019-08-01\", \"2019-07-01\", \"2019-06-01\", \"2019-05-01\", \"2019-04-01\", \"2019-03-01\", \"2019-02-01\", \"2019-01-01\", \"2018-12-01\", \"2018-11-01\", \"2018-10-01\", \"2018-09-01\", \"2018-08-01\", \"2018-07-01\", \"2018-06-01\", \"2018-05-01\", \"2018-04-01\", \"2018-03-01\", \"2018-02-01\", \"2018-01-01\", \"2017-12-01\", \"2017-11-01\", \"2017-10-01\", \"2017-09-01\", \"2017-08-01\", \"2017-07-01\", \"2017-06-01\", \"2017-05-01\", \"2017-04-01\", \"2017-03-01\", \"2017-02-01\", \"2017-01-01\", \"2016-12-01\", \"2016-11-01\", \"2016-10-01\", \"2016-09-01\", \"2016-08-01\", \"2016-07-01\", \"2016-06-01\", \"2016-05-01\", \"2016-04-01\", \"2016-03-01\", \"2016-02-01\", \"2016-01-01\", \"2015-12-01\", \"2015-11-01\", \"2015-10-01\", \"2015-09-01\", \"2015-08-01\", \"2015-07-01\", \"2015-06-01\", \"2015-05-01\", \"2015-04-01\", \"2015-03-01\", \"2015-02-01\", \"2015-01-01\", \"2014-12-01\", \"2014-11-01\", \"2014-10-01\", \"2014-09-01\", \"2014-08-01\", \"2014-07-01\", \"2014-06-01\", \"2014-05-01\", \"2014-04-01\", \"2014-03-01\", \"2014-02-01\", \"2014-01-01\", \"2013-12-01\", \"2013-11-01\", \"2013-10-01\", \"2013-09-01\", \"2013-08-01\", \"2013-07-01\", \"2013-06-01\", \"2013-05-01\", \"2013-04-01\", \"2012-12-01\", \"2012-11-01\", \"2012-10-01\", \"2012-09-01\", \"2012-08-01\", \"2012-07-01\", \"2012-06-01\", \"2012-05-01\", \"2012-04-01\", \"2012-03-01\", \"2012-02-01\", \"2012-01-01\", \"2011-12-01\", \"2011-11-01\", \"2011-10-01\", \"2011-09-01\", \"2011-08-01\", \"2011-07-01\", \"2011-06-01\", \"2011-05-01\", \"2011-04-01\", \"2011-03-01\", \"2011-02-01\", \"2011-01-01\", \"2010-12-01\", \"2010-11-01\", \"2010-10-01\", \"2010-09-01\", \"2010-08-01\", \"2010-07-01\", \"2010-06-01\", \"2010-05-01\", \"2010-04-01\", \"2010-03-01\", \"2010-02-01\", \"2010-01-01\", \"2009-12-01\", \"2009-11-01\", \"2009-10-01\", \"2009-09-01\", \"2009-08-01\", \"2009-07-01\", \"2009-06-01\", \"2009-05-01\", \"2009-04-01\", \"2009-03-01\", \"2009-02-01\", \"2009-01-01\", \"2008-12-01\", \"2008-11-01\", \"2008-10-01\", \"2008-09-01\", \"2008-08-01\", \"2008-07-01\", \"2008-06-01\", \"2008-05-01\", \"2008-04-01\", \"2008-03-01\", \"2008-02-01\", \"2008-01-01\", \"2007-12-01\", \"2007-11-01\", \"2007-10-01\", \"2007-09-01\", \"2007-08-01\", \"2007-07-01\", \"2007-06-01\", \"2007-05-01\", \"2007-04-01\", \"2007-03-01\", \"2007-02-01\", \"2007-01-01\", \"2006-12-01\", \"2006-11-01\", \"2006-10-01\", \"2006-09-01\", \"2006-08-01\", \"2006-07-01\", \"2006-06-01\", \"2006-05-01\", \"2006-04-01\", \"2006-03-01\", \"2006-02-01\", \"2006-01-01\", \"2005-12-01\", \"2005-11-01\", \"2005-10-01\", \"2005-09-01\", \"2005-08-01\", \"2005-07-01\", \"2005-06-01\", \"2005-05-01\", \"2005-04-01\", \"2005-03-01\", \"2005-02-01\", \"2005-01-01\", \"2004-12-01\", \"2004-11-01\", \"2004-10-01\", \"2004-09-01\", \"2004-08-01\", \"2004-07-01\", \"2004-06-01\", \"2004-05-01\", \"2004-04-01\", \"2004-03-01\", \"2004-02-01\", \"2004-01-01\", \"2003-12-01\", \"2003-11-01\", \"2003-10-01\", \"2003-09-01\", \"2003-08-01\", \"2003-07-01\", \"2003-06-01\", \"2003-05-01\", \"2003-04-01\", \"2003-03-01\", \"2003-02-01\", \"2003-01-01\", \"2002-12-01\", \"2002-11-01\", \"2002-10-01\", \"2002-09-01\", \"2002-08-01\", \"2002-07-01\", \"2002-06-01\", \"2002-05-01\", \"2002-04-01\", \"2002-03-01\", \"2002-02-01\", \"2002-01-01\", \"2001-12-01\", \"2001-11-01\", \"2001-10-01\", \"2001-09-01\", \"2001-08-01\", \"2001-07-01\", \"2001-06-01\", \"2001-05-01\", \"2001-04-01\", \"2001-03-01\", \"2001-02-01\", \"2001-01-01\"], \"xaxis\": \"x\", \"y\": [\"0\", \"0\", \"0\", \"0\", \"0\", \"0\", \"0\", \"0\", \"0\", \"0\", \"0\", \"0\", \"0\", \"0\", \"0\", \"0\", \"0\", \"0\", \"0\", \"0\", \"0\", \"0\", \"0\", \"0\", \"0\", \"0\", \"0\", \"0\", \"0\", \"0\", \"0\", \"0\", \"0\", \"0\", \"0\", \"0\", \"0\", \"0\", \"0\", \"0\", \"0\", \"0\", \"0\", \"0\", \"0\", \"0\", \"0\", \"0\", \"0\", \"0\", \"0\", \"0\", \"0\", \"0\", \"0\", \"0\", \"0\", \"0\", \"0\", \"0\", \"0\", \"0\", \"0\", \"0\", \"0\", \"0\", \"0\", \"0\", \"0\", \"0\", \"0\", \"0\", \"0\", \"0\", \"0\", \"0\", \"0\", \"0\", \"0\", \"0\", \"0\", \"0\", \"0\", \"0\", \"0\", \"0\", \"0\", \"0\", \"0\", \"0\", \"0\", \"0\", \"0\", \"0\", \"0\", \"0\", \"0\", \"0\", \"0\", \"0\", \"0\", \"0\", \"0\", \"0\", \"0\", \"0\", \"0\", \"0\", \"0\", \"0\", \"0\", \"0\", \"0\", \"6268.322\", \"11156.264\", \"10356.573\", \"9773.78\", \"11843.549\", \"9573.163\", \"5380.636\", \"6296.271\", \"4687.652\", \"7277.025\", \"7006.352\", \"2936.592\", \"7236.287\", \"6846.671\", \"9993.265\", \"19722.801\", \"12337.176\", \"10342.597\", \"9873.118\", \"9596.579\", \"11627.921\", \"11457.515\", \"11537.152\", \"12718.544\", \"11332.074\", \"12172.173\", \"10642.253\", \"11324.121\", \"11742.602\", \"10362.913\", \"9192.402\", \"9896.287\", \"11426.552\", \"12297.662\", \"11054.191\", \"11196.81\", \"12039.703\", \"13199.103\", \"11640.148\", \"12703.245\", \"11067.44123\", \"9601.03049\", \"8762.1098\", \"8888.13299\", \"12059.45391\", \"7403.15116\", \"6863.99537\", \"7339.82186\", \"6462.45717\", \"7432.80771\", \"6408.73971\", \"5672.01089\", \"6444.89298\", \"5375.51017\", \"6541.48414\", \"7056.79276\", \"5096.51253\", \"7467.32956\", \"6777.03611\", \"6814.95744\", \"7456.09159\", \"7305.61436\", \"6373.53768\", \"8037.80643\", \"10523.1176\", \"10913.18667\", \"17192.10322\", \"9619.26656\", \"10622.0928\", \"10342.77601\", \"11709.92104\", \"11039.79256\", \"9760.79288\", \"9744.46053\", \"16579.17521\", \"17231.56948\", \"7031\", \"6841\", \"9212\", \"10196\", \"10651\", \"15369\", \"10854\", \"12066\", \"15072\", \"13612\", \"11605\", \"13172\", \"12608\", \"6643\", \"11437\", \"23813\", \"27447\", \"25329\", \"25250\", \"26878\", \"27533\", \"23929\", \"26436\", \"25427\", \"12867.425\", \"12559.337\", \"12926.883\", \"10040.847\", \"11708.985\", \"12234.966\", \"10974.807\", \"9840.15\", \"8689.212\", \"9151.892\", \"9863.019\", \"11796.984\"], \"yaxis\": \"y\"}, {\"customdata\": [[202008], [202008], [202008], [202008], [202008], [202008], [202008], [202008], [202008], [202008], [202008], [202008], [202008], [202008], [202008], [202008], [202008], [202008], [202008], [202008], [202008], [202008], [202008], [202008], [202008], [202008], [202008], [202008], [202008], [202008], [202008], [202008], [202008], [202008], [202008], [202008], [202008], [202008], [202008], [202008], [202008], [202008], [202008], [202008], [202008], [202008], [202008], [202008], [202008], [202008], [202008], [202008], [202008], [202008], [202008], [202008], [202008], [202008], [202008], [202008], [202008], [202008], [202008], [202008], [202008], [202008], [202008], [202008], [202008], [202008], [202008], [202008], [202008], [202008], [202008], [202008], [202008], [202008], [202008], [202008], [202008], [202008], [202008], [202008], [202008], [202008], [202008], [202008], [202008], [202008], [202008], [202008], [202008], [202008], [202008], [202008], [202008], [202008], [202008], [202008], [202008], [202008], [202008], [202008], [202008], [202008], [202008], [202008], [202008], [202008], [202008], [202008], [202008], [202008], [202008], [202008], [202008], [202008], [202008], [202008], [202008], [202008], [202008], [202008], [202008], [202008], [202008], [202008], [202008], [202008], [202008], [202008], [202008], [202008], [202008], [202008], [202008], [202008], [202008], [202008], [202008], [202008], [202008], [202008], [202008], [202008], [202008], [202008], [202008], [202008], [202008], [202008], [202008], [202008], [202008], [202008], [202008], [202008], [202008], [202008], [202008], [202008], [202008], [202008], [202008], [202008], [202008], [202008], [202008], [202008], [202008], [202008], [202008], [202008], [202008], [202008], [202008], [202008], [202008], [202008], [202008], [202008], [202008], [202008], [202008], [202008], [202008], [202008], [202008], [202008], [202008], [202008], [202008], [202008], [202008], [202008], [202008], [202008], [202008], [202008], [202008], [202008], [202008], [202008], [202008], [202008], [202008], [202008], [202008], [202008], [202008], [202008], [202008], [202008], [202008], [202008], [202008], [202008], [202008]], \"hovertemplate\": \"fuel_type=black_liquour<br>date=%{x}<br>value=%{y}<br>end=%{customdata[0]}<extra></extra>\", \"legendgroup\": \"black_liquour\", \"line\": {\"color\": \"#19d3f3\", \"dash\": \"solid\"}, \"mode\": \"lines\", \"name\": \"black_liquour\", \"showlegend\": true, \"type\": \"scattergl\", \"x\": [\"2019-12-01\", \"2019-11-01\", \"2019-10-01\", \"2019-09-01\", \"2019-08-01\", \"2019-07-01\", \"2019-06-01\", \"2019-05-01\", \"2019-04-01\", \"2019-03-01\", \"2019-02-01\", \"2019-01-01\", \"2018-12-01\", \"2018-11-01\", \"2018-10-01\", \"2018-09-01\", \"2018-08-01\", \"2018-07-01\", \"2018-06-01\", \"2018-05-01\", \"2018-04-01\", \"2018-03-01\", \"2018-02-01\", \"2018-01-01\", \"2017-12-01\", \"2017-11-01\", \"2017-10-01\", \"2017-09-01\", \"2017-08-01\", \"2017-07-01\", \"2017-06-01\", \"2017-05-01\", \"2017-04-01\", \"2017-03-01\", \"2017-02-01\", \"2017-01-01\", \"2016-12-01\", \"2016-11-01\", \"2016-10-01\", \"2016-09-01\", \"2016-08-01\", \"2016-07-01\", \"2016-06-01\", \"2016-05-01\", \"2016-04-01\", \"2016-03-01\", \"2016-02-01\", \"2016-01-01\", \"2015-12-01\", \"2015-11-01\", \"2015-10-01\", \"2015-09-01\", \"2015-08-01\", \"2015-07-01\", \"2015-06-01\", \"2015-05-01\", \"2015-04-01\", \"2015-03-01\", \"2015-02-01\", \"2015-01-01\", \"2014-12-01\", \"2014-11-01\", \"2014-10-01\", \"2014-09-01\", \"2014-08-01\", \"2014-07-01\", \"2014-06-01\", \"2014-05-01\", \"2014-04-01\", \"2014-03-01\", \"2014-02-01\", \"2014-01-01\", \"2013-12-01\", \"2013-11-01\", \"2013-10-01\", \"2013-09-01\", \"2013-08-01\", \"2013-07-01\", \"2013-06-01\", \"2013-05-01\", \"2013-04-01\", \"2013-03-01\", \"2013-02-01\", \"2013-01-01\", \"2012-12-01\", \"2012-11-01\", \"2012-10-01\", \"2012-09-01\", \"2012-08-01\", \"2012-07-01\", \"2012-06-01\", \"2012-05-01\", \"2012-04-01\", \"2012-03-01\", \"2012-02-01\", \"2012-01-01\", \"2011-12-01\", \"2011-11-01\", \"2011-10-01\", \"2011-09-01\", \"2011-08-01\", \"2011-07-01\", \"2011-06-01\", \"2011-05-01\", \"2011-04-01\", \"2011-03-01\", \"2011-02-01\", \"2011-01-01\", \"2010-12-01\", \"2010-11-01\", \"2010-10-01\", \"2010-09-01\", \"2010-08-01\", \"2010-07-01\", \"2010-06-01\", \"2010-05-01\", \"2010-04-01\", \"2010-03-01\", \"2010-02-01\", \"2010-01-01\", \"2009-12-01\", \"2009-11-01\", \"2009-10-01\", \"2009-09-01\", \"2009-08-01\", \"2009-07-01\", \"2009-06-01\", \"2009-05-01\", \"2009-04-01\", \"2009-03-01\", \"2009-02-01\", \"2009-01-01\", \"2008-12-01\", \"2008-11-01\", \"2008-10-01\", \"2008-09-01\", \"2008-08-01\", \"2008-07-01\", \"2008-06-01\", \"2008-05-01\", \"2008-04-01\", \"2008-03-01\", \"2008-02-01\", \"2008-01-01\", \"2007-12-01\", \"2007-11-01\", \"2007-10-01\", \"2007-09-01\", \"2007-08-01\", \"2007-07-01\", \"2007-06-01\", \"2007-05-01\", \"2007-04-01\", \"2007-03-01\", \"2007-02-01\", \"2007-01-01\", \"2006-12-01\", \"2006-11-01\", \"2006-10-01\", \"2006-09-01\", \"2006-08-01\", \"2006-07-01\", \"2006-06-01\", \"2006-05-01\", \"2006-04-01\", \"2006-03-01\", \"2006-02-01\", \"2006-01-01\", \"2005-12-01\", \"2005-11-01\", \"2005-10-01\", \"2005-09-01\", \"2005-08-01\", \"2005-07-01\", \"2005-06-01\", \"2005-05-01\", \"2005-04-01\", \"2005-03-01\", \"2005-02-01\", \"2005-01-01\", \"2004-12-01\", \"2004-11-01\", \"2004-10-01\", \"2004-09-01\", \"2004-08-01\", \"2004-07-01\", \"2004-06-01\", \"2004-05-01\", \"2004-04-01\", \"2004-03-01\", \"2004-02-01\", \"2004-01-01\", \"2003-12-01\", \"2003-11-01\", \"2003-10-01\", \"2003-09-01\", \"2003-08-01\", \"2003-07-01\", \"2003-06-01\", \"2003-05-01\", \"2003-04-01\", \"2003-03-01\", \"2003-02-01\", \"2003-01-01\", \"2002-12-01\", \"2002-11-01\", \"2002-10-01\", \"2001-12-01\", \"2001-11-01\", \"2001-10-01\", \"2001-09-01\", \"2001-08-01\", \"2001-07-01\", \"2001-06-01\", \"2001-05-01\", \"2001-04-01\", \"2001-03-01\", \"2001-02-01\", \"2001-01-01\"], \"xaxis\": \"x\", \"y\": [\"21917.683\", \"20137.185\", \"22048.522\", \"20020.395\", \"24848.632\", \"22511.216\", \"22116.787\", \"24018.462\", \"15868.532\", \"13788.079\", \"22166\", \"24777.423\", \"24711.683\", \"24521.557\", \"24297.033\", \"23731.664\", \"24308.805\", \"22250.325\", \"22453.982\", \"18722.396\", \"9596.863\", \"0\", \"4157.797\", \"21876.331\", \"17165.251\", \"17329.556\", \"16345.042\", \"17673.707\", \"17938.602\", \"17604.245\", \"18900.794\", \"17720.406\", \"16026.712\", \"15752.102\", \"16772.244\", \"19276.135\", \"19718.636\", \"14658.18\", \"19129.663\", \"8053.875\", \"17891.083\", \"18569.706\", \"19725.678\", \"20690.379\", \"20240.743\", \"21070.53\", \"19615.646\", \"19703.227\", \"19604.662\", \"20186.793\", \"21265.448\", \"11133.742\", \"20348.897\", \"21092.968\", \"19952.403\", \"18049.903\", \"20224.05\", \"20893.763\", \"17955.246\", \"23088.674\", \"21486.15\", \"20372.378\", \"21661.689\", \"9616.318\", \"20446.148\", \"21416.297\", \"19160.159\", \"21429.51\", \"20191.043\", \"21019.479\", \"16204.559\", \"16799.594\", \"20172.632\", \"18093.216\", \"19353.155\", \"20537.196\", \"20910.516\", \"8330.157\", \"18423.403\", \"20273.746\", \"17367.545\", \"20497.188\", \"18472.969\", \"17435.983\", \"14553.907\", \"14319.1\", \"12686.807\", \"14481.112\", \"13974.941\", \"12964.845\", \"696.386\", \"0\", \"0\", \"0\", \"0\", \"0\", \"0\", \"0\", \"0\", \"0\", \"0\", \"0\", \"0\", \"0\", \"0\", \"0\", \"0\", \"0\", \"0\", \"0\", \"0\", \"0\", \"0\", \"0\", \"0\", \"0\", \"9096.209\", \"17742.157\", \"16073.984\", \"20291.911\", \"21485.374\", \"24198.594\", \"29070.933\", \"19756.432\", \"27236.386\", \"26652.036\", \"19017.025\", \"8556.409\", \"22596.335\", \"15593.746\", \"19611.538\", \"12809.187\", \"24414.06\", \"29605.796\", \"23178.052\", \"28636.477\", \"32596.335\", \"31971.94\", \"29751.601\", \"30966.242\", \"28858.68\", \"29774.865\", \"29787.665\", \"29845.296\", \"28755.802\", \"26972.633\", \"17724.371\", \"26345.041\", \"28530.27\", \"26853.079\", \"26121.116\", \"25441.97\", \"23626.281\", \"29502.697\", \"23332.734\", \"24073.195\", \"22996.29131\", \"18989.89143\", \"19926.68338\", \"22092.18598\", \"23055.96724\", \"30882.02377\", \"29797.18994\", \"29044.51037\", \"28953.16099\", \"30422.73029\", \"27347.76186\", \"27729.22079\", \"26827.37096\", \"28796.5442\", \"29078.74967\", \"25329.70119\", \"28266.12953\", \"29794.48562\", \"27718.57949\", \"29041.54686\", \"23084.13371\", \"30404.94199\", \"27987.27704\", \"29217.65398\", \"22033.43468\", \"21867.98\", \"28831.57621\", \"22751.69248\", \"21765.74884\", \"22409.07297\", \"18504.8814\", \"22018.83603\", \"21537.72028\", \"19789.58924\", \"15903.06796\", \"14599.87466\", \"28484\", \"19243\", \"21399\", \"20404\", \"19877\", \"33210\", \"24045\", \"23837\", \"24053\", \"25242\", \"22391\", \"24819\", \"23551\", \"32053\", \"23718\", \"35564.049\", \"34712.53\", \"35728.386\", \"27751.72\", \"32362.258\", \"33816.009\", \"30333.075\", \"27197.019\", \"24015.96\", \"25294.755\", \"27260.226\", \"32605.477\"], \"yaxis\": \"y\"}, {\"customdata\": [[200712], [200712], [200712], [200712], [200712], [200712], [200712], [200712], [200712], [200712], [200712], [200712], [200712], [200712], [200712], [200712], [200712], [200712], [200712], [200712], [200712], [200712], [200712], [200712]], \"hovertemplate\": \"fuel_type=nonbiogenic_municipal_solid_waste<br>date=%{x}<br>value=%{y}<br>end=%{customdata[0]}<extra></extra>\", \"legendgroup\": \"nonbiogenic_municipal_solid_waste\", \"line\": {\"color\": \"#FF6692\", \"dash\": \"solid\"}, \"mode\": \"lines\", \"name\": \"nonbiogenic_municipal_solid_waste\", \"showlegend\": true, \"type\": \"scattergl\", \"x\": [\"2007-12-01\", \"2007-11-01\", \"2007-10-01\", \"2007-09-01\", \"2007-08-01\", \"2007-07-01\", \"2007-06-01\", \"2007-05-01\", \"2007-04-01\", \"2007-03-01\", \"2007-02-01\", \"2007-01-01\", \"2006-12-01\", \"2006-11-01\", \"2006-10-01\", \"2006-09-01\", \"2006-08-01\", \"2006-07-01\", \"2006-06-01\", \"2006-05-01\", \"2006-04-01\", \"2006-03-01\", \"2006-02-01\", \"2006-01-01\"], \"xaxis\": \"x\", \"y\": [\"2366.005\", \"2113.153\", \"2046.155\", \"1913.565\", \"2121.967\", \"2125.21\", \"2185.048\", \"2240.695\", \"1914.157\", \"2411.7\", \"2079.965\", \"2135.377\", \"1987.89206\", \"2057.81913\", \"1671.96106\", \"2183.72191\", \"2278.98773\", \"1347.72234\", \"1594.53429\", \"1290.81359\", \"1338.92922\", \"1383.32316\", \"1267.81164\", \"1105.68352\"], \"yaxis\": \"y\"}, {\"customdata\": [[200306], [200306], [200306], [200306], [200306], [200306], [200306], [200306], [200306], [200306], [200306], [200306], [200306], [200306], [200306], [200306]], \"hovertemplate\": \"fuel_type=agricultural_byproducts<br>date=%{x}<br>value=%{y}<br>end=%{customdata[0]}<extra></extra>\", \"legendgroup\": \"agricultural_byproducts\", \"line\": {\"color\": \"#B6E880\", \"dash\": \"solid\"}, \"mode\": \"lines\", \"name\": \"agricultural_byproducts\", \"showlegend\": true, \"type\": \"scattergl\", \"x\": [\"2003-06-01\", \"2003-05-01\", \"2003-02-01\", \"2003-01-01\", \"2001-12-01\", \"2001-11-01\", \"2001-10-01\", \"2001-09-01\", \"2001-08-01\", \"2001-07-01\", \"2001-06-01\", \"2001-05-01\", \"2001-04-01\", \"2001-03-01\", \"2001-02-01\", \"2001-01-01\"], \"xaxis\": \"x\", \"y\": [\"0\", \"0\", \"0\", \"0\", \"187.822\", \"183.325\", \"188.69\", \"146.563\", \"170.913\", \"178.59\", \"160.196\", \"143.634\", \"126.834\", \"133.588\", \"143.968\", \"172.197\"], \"yaxis\": \"y\"}, {\"customdata\": [[201404], [201404], [201404], [201404], [201404], [201404], [201404], [201404], [201404], [201404], [201404], [201404], [201404], [201404], [201404], [201404], [201404], [201404], [201404], [201404], [201404], [201404], [201404], [201404], [201404], [201404], [201404], [201404], [201404], [201404], [201404], [201404], [201404], [201404], [201404], [201404], [201404], [201404], [201404], [201404], [201404], [201404], [201404], [201404], [201404], [201404], [201404], [201404], [201404], [201404], [201404], [201404], [201404], [201404], [201404], [201404], [201404], [201404], [201404], [201404], [201404], [201404], [201404], [201404], [201404], [201404], [201404], [201404], [201404], [201404], [201404], [201404], [201404], [201404], [201404], [201404], [201404], [201404], [201404], [201404], [201404], [201404], [201404], [201404], [201404], [201404], [201404], [201404], [201404], [201404], [201404], [201404], [201404], [201404]], \"hovertemplate\": \"fuel_type=woodwood_waste_solids<br>date=%{x}<br>value=%{y}<br>end=%{customdata[0]}<extra></extra>\", \"legendgroup\": \"woodwood_waste_solids\", \"line\": {\"color\": \"#FF97FF\", \"dash\": \"solid\"}, \"mode\": \"lines\", \"name\": \"woodwood_waste_solids\", \"showlegend\": true, \"type\": \"scattergl\", \"x\": [\"2014-04-01\", \"2014-03-01\", \"2014-02-01\", \"2014-01-01\", \"2013-12-01\", \"2013-11-01\", \"2013-10-01\", \"2013-09-01\", \"2013-08-01\", \"2013-07-01\", \"2013-06-01\", \"2013-05-01\", \"2013-04-01\", \"2013-03-01\", \"2013-02-01\", \"2013-01-01\", \"2012-12-01\", \"2012-11-01\", \"2012-10-01\", \"2012-09-01\", \"2012-08-01\", \"2012-07-01\", \"2012-06-01\", \"2012-05-01\", \"2012-04-01\", \"2012-03-01\", \"2012-02-01\", \"2012-01-01\", \"2011-12-01\", \"2011-11-01\", \"2011-10-01\", \"2011-09-01\", \"2011-08-01\", \"2011-07-01\", \"2011-06-01\", \"2011-05-01\", \"2011-04-01\", \"2011-03-01\", \"2011-02-01\", \"2011-01-01\", \"2010-12-01\", \"2010-11-01\", \"2010-10-01\", \"2010-09-01\", \"2010-08-01\", \"2010-07-01\", \"2010-06-01\", \"2010-05-01\", \"2010-04-01\", \"2010-03-01\", \"2010-02-01\", \"2010-01-01\", \"2009-12-01\", \"2009-11-01\", \"2009-10-01\", \"2009-09-01\", \"2009-08-01\", \"2009-07-01\", \"2009-06-01\", \"2009-05-01\", \"2009-04-01\", \"2009-03-01\", \"2009-02-01\", \"2009-01-01\", \"2008-12-01\", \"2008-11-01\", \"2008-10-01\", \"2008-09-01\", \"2008-08-01\", \"2008-07-01\", \"2008-06-01\", \"2008-05-01\", \"2008-04-01\", \"2008-03-01\", \"2008-02-01\", \"2008-01-01\", \"2003-06-01\", \"2003-05-01\", \"2003-02-01\", \"2003-01-01\", \"2002-12-01\", \"2002-10-01\", \"2001-12-01\", \"2001-11-01\", \"2001-10-01\", \"2001-09-01\", \"2001-08-01\", \"2001-07-01\", \"2001-06-01\", \"2001-05-01\", \"2001-04-01\", \"2001-03-01\", \"2001-02-01\", \"2001-01-01\"], \"xaxis\": \"x\", \"y\": [\"0\", \"0\", \"0\", \"0\", \"0\", \"0\", \"0\", \"0\", \"0\", \"0\", \"0\", \"0\", \"0\", \"0\", \"0\", \"0\", \"0\", \"0\", \"0\", \"0\", \"0\", \"0\", \"0\", \"0\", \"0\", \"0\", \"0\", \"0\", \"0\", \"0\", \"0\", \"0\", \"0\", \"0\", \"0\", \"0\", \"0\", \"0\", \"0\", \"0\", \"0\", \"0\", \"0\", \"0\", \"0\", \"0\", \"0\", \"0\", \"1832.234\", \"3194.292\", \"3052.202\", \"3337.916\", \"3434.142\", \"4082.137\", \"4662.743\", \"4028.046\", \"4826.701\", \"6215.972\", \"5537.952\", \"2024.122\", \"5145.491\", \"4907.55\", \"6709.362\", \"8977.941\", \"6685.263\", \"5965.83\", \"6294.377\", \"6923.939\", \"7085.143\", \"7195.747\", \"6640.082\", \"7223.45\", \"6942.719\", \"7124.131\", \"6869.801\", \"7777.807\", \"0\", \"0\", \"0\", \"0\", \"0\", \"0\", \"6852.409\", \"6688.34\", \"6884.073\", \"5347.145\", \"6235.494\", \"6515.6\", \"5844.515\", \"5240.266\", \"4627.346\", \"4873.742\", \"5252.445\", \"6282.357\"], \"yaxis\": \"y\"}, {\"customdata\": [[200712], [200712], [200712], [200712], [200712], [200712], [200712], [200712], [200712], [200712], [200712], [200712], [200712], [200712], [200712], [200712], [200712], [200712], [200712], [200712], [200712], [200712], [200712], [200712]], \"hovertemplate\": \"fuel_type=biogenic_municipal_solid_waste<br>date=%{x}<br>value=%{y}<br>end=%{customdata[0]}<extra></extra>\", \"legendgroup\": \"biogenic_municipal_solid_waste\", \"line\": {\"color\": \"#FECB52\", \"dash\": \"solid\"}, \"mode\": \"lines\", \"name\": \"biogenic_municipal_solid_waste\", \"showlegend\": true, \"type\": \"scattergl\", \"x\": [\"2007-12-01\", \"2007-11-01\", \"2007-10-01\", \"2007-09-01\", \"2007-08-01\", \"2007-07-01\", \"2007-06-01\", \"2007-05-01\", \"2007-04-01\", \"2007-03-01\", \"2007-02-01\", \"2007-01-01\", \"2006-12-01\", \"2006-11-01\", \"2006-10-01\", \"2006-09-01\", \"2006-08-01\", \"2006-07-01\", \"2006-06-01\", \"2006-05-01\", \"2006-04-01\", \"2006-03-01\", \"2006-02-01\", \"2006-01-01\"], \"xaxis\": \"x\", \"y\": [\"3011.941\", \"2689.609\", \"2603.674\", \"2436.016\", \"2700.364\", \"2704.982\", \"2780.25\", \"2851.943\", \"2436.491\", \"3069.12\", \"2646.902\", \"2717.043\", \"2530.17732\", \"2619.18008\", \"2128.0622\", \"2779.4284\", \"2900.68218\", \"1715.37306\", \"2029.51387\", \"1642.93995\", \"1704.18123\", \"1760.68558\", \"1613.6632\", \"1407.30748\"], \"yaxis\": \"y\"}, {\"customdata\": [[202008], [202008], [202008], [202008], [202008], [202008], [202008], [202008], [202008], [202008], [202008], [202008], [202008], [202008], [202008], [202008], [202008], [202008], [202008], [202008], [202008], [202008], [202008], [202008], [202008], [202008], [202008], [202008], [202008], [202008], [202008], [202008], [202008], [202008], [202008], [202008], [202008], [202008], [202008], [202008], [202008], [202008], [202008], [202008], [202008], [202008], [202008], [202008], [202008], [202008], [202008], [202008], [202008], [202008], [202008], [202008], [202008], [202008], [202008], [202008], [202008], [202008], [202008], [202008], [202008], [202008], [202008], [202008], [202008], [202008], [202008], [202008], [202008], [202008], [202008], [202008], [202008], [202008], [202008], [202008], [202008], [202008], [202008], [202008], [202008], [202008], [202008], [202008], [202008], [202008], [202008], [202008], [202008], [202008], [202008], [202008], [202008], [202008], [202008], [202008], [202008], [202008], [202008], [202008], [202008], [202008], [202008], [202008], [202008], [202008], [202008], [202008], [202008], [202008], [202008], [202008], [202008], [202008], [202008], [202008], [202008], [202008], [202008], [202008], [202008], [202008], [202008], [202008], [202008], [202008], [202008], [202008], [202008], [202008], [202008], [202008], [202008], [202008], [202008], [202008], [202008], [202008], [202008], [202008], [202008], [202008], [202008], [202008], [202008], [202008], [202008], [202008], [202008], [202008], [202008], [202008], [202008], [202008], [202008], [202008], [202008], [202008], [202008], [202008], [202008], [202008], [202008], [202008], [202008], [202008], [202008], [202008], [202008], [202008], [202008], [202008], [202008], [202008], [202008], [202008], [202008], [202008], [202008], [202008], [202008], [202008], [202008], [202008], [202008], [202008], [202008], [202008], [202008], [202008], [202008], [202008], [202008], [202008], [202008], [202008], [202008], [202008], [202008], [202008], [202008], [202008], [202008], [202008], [202008], [202008], [202008], [202008], [202008], [202008], [202008], [202008], [202008], [202008], [202008], [202008], [202008], [202008], [202008], [202008], [202008], [202008], [202008], [202008]], \"hovertemplate\": \"fuel_type=natural_gas<br>date=%{x}<br>value=%{y}<br>end=%{customdata[0]}<extra></extra>\", \"legendgroup\": \"natural_gas\", \"line\": {\"color\": \"#636efa\", \"dash\": \"solid\"}, \"mode\": \"lines\", \"name\": \"natural_gas\", \"showlegend\": true, \"type\": \"scattergl\", \"x\": [\"2019-12-01\", \"2019-11-01\", \"2019-10-01\", \"2019-09-01\", \"2019-08-01\", \"2019-07-01\", \"2019-06-01\", \"2019-05-01\", \"2019-04-01\", \"2019-03-01\", \"2019-02-01\", \"2019-01-01\", \"2018-12-01\", \"2018-11-01\", \"2018-10-01\", \"2018-09-01\", \"2018-08-01\", \"2018-07-01\", \"2018-06-01\", \"2018-05-01\", \"2018-04-01\", \"2018-03-01\", \"2018-02-01\", \"2018-01-01\", \"2017-12-01\", \"2017-11-01\", \"2017-10-01\", \"2017-09-01\", \"2017-08-01\", \"2017-07-01\", \"2017-06-01\", \"2017-05-01\", \"2017-04-01\", \"2017-03-01\", \"2017-02-01\", \"2017-01-01\", \"2016-12-01\", \"2016-11-01\", \"2016-10-01\", \"2016-09-01\", \"2016-08-01\", \"2016-07-01\", \"2016-06-01\", \"2016-05-01\", \"2016-04-01\", \"2016-03-01\", \"2016-02-01\", \"2016-01-01\", \"2015-12-01\", \"2015-11-01\", \"2015-10-01\", \"2015-09-01\", \"2015-08-01\", \"2015-07-01\", \"2015-06-01\", \"2015-05-01\", \"2015-04-01\", \"2015-03-01\", \"2015-02-01\", \"2015-01-01\", \"2014-12-01\", \"2014-11-01\", \"2014-10-01\", \"2014-09-01\", \"2014-08-01\", \"2014-07-01\", \"2014-06-01\", \"2014-05-01\", \"2014-04-01\", \"2014-03-01\", \"2014-02-01\", \"2014-01-01\", \"2013-12-01\", \"2013-11-01\", \"2013-10-01\", \"2013-09-01\", \"2013-08-01\", \"2013-07-01\", \"2013-06-01\", \"2013-05-01\", \"2013-04-01\", \"2013-03-01\", \"2013-02-01\", \"2013-01-01\", \"2012-12-01\", \"2012-11-01\", \"2012-10-01\", \"2012-09-01\", \"2012-08-01\", \"2012-07-01\", \"2012-06-01\", \"2012-05-01\", \"2012-04-01\", \"2012-03-01\", \"2012-02-01\", \"2012-01-01\", \"2011-12-01\", \"2011-11-01\", \"2011-10-01\", \"2011-09-01\", \"2011-08-01\", \"2011-07-01\", \"2011-06-01\", \"2011-05-01\", \"2011-04-01\", \"2011-03-01\", \"2011-02-01\", \"2011-01-01\", \"2010-12-01\", \"2010-11-01\", \"2010-10-01\", \"2010-09-01\", \"2010-08-01\", \"2010-07-01\", \"2010-06-01\", \"2010-05-01\", \"2010-04-01\", \"2010-03-01\", \"2010-02-01\", \"2010-01-01\", \"2009-12-01\", \"2009-11-01\", \"2009-10-01\", \"2009-09-01\", \"2009-08-01\", \"2009-07-01\", \"2009-06-01\", \"2009-05-01\", \"2009-04-01\", \"2009-03-01\", \"2009-02-01\", \"2009-01-01\", \"2008-12-01\", \"2008-11-01\", \"2008-10-01\", \"2008-09-01\", \"2008-08-01\", \"2008-07-01\", \"2008-06-01\", \"2008-05-01\", \"2008-04-01\", \"2008-03-01\", \"2008-02-01\", \"2008-01-01\", \"2007-12-01\", \"2007-11-01\", \"2007-10-01\", \"2007-09-01\", \"2007-08-01\", \"2007-07-01\", \"2007-06-01\", \"2007-05-01\", \"2007-04-01\", \"2007-03-01\", \"2007-02-01\", \"2007-01-01\", \"2006-12-01\", \"2006-11-01\", \"2006-10-01\", \"2006-09-01\", \"2006-08-01\", \"2006-07-01\", \"2006-06-01\", \"2006-05-01\", \"2006-04-01\", \"2006-03-01\", \"2006-02-01\", \"2006-01-01\", \"2005-12-01\", \"2005-11-01\", \"2005-10-01\", \"2005-09-01\", \"2005-08-01\", \"2005-07-01\", \"2005-06-01\", \"2005-05-01\", \"2005-04-01\", \"2005-03-01\", \"2005-02-01\", \"2005-01-01\", \"2004-12-01\", \"2004-11-01\", \"2004-10-01\", \"2004-09-01\", \"2004-08-01\", \"2004-07-01\", \"2004-06-01\", \"2004-05-01\", \"2004-04-01\", \"2004-03-01\", \"2004-02-01\", \"2004-01-01\", \"2003-12-01\", \"2003-11-01\", \"2003-10-01\", \"2003-09-01\", \"2003-08-01\", \"2003-07-01\", \"2003-06-01\", \"2003-05-01\", \"2003-04-01\", \"2003-03-01\", \"2003-02-01\", \"2003-01-01\", \"2002-12-01\", \"2002-11-01\", \"2002-10-01\", \"2002-09-01\", \"2002-08-01\", \"2002-07-01\", \"2002-06-01\", \"2002-05-01\", \"2002-04-01\", \"2002-03-01\", \"2002-02-01\", \"2002-01-01\", \"2001-12-01\", \"2001-11-01\", \"2001-10-01\", \"2001-09-01\", \"2001-08-01\", \"2001-07-01\", \"2001-06-01\", \"2001-05-01\", \"2001-04-01\", \"2001-03-01\", \"2001-02-01\", \"2001-01-01\"], \"xaxis\": \"x\", \"y\": [\"3703.317\", \"3913.815\", \"2959.478\", \"3130.605\", \"564.368\", \"1266.784\", \"1360.213\", \"174.538\", \"2624.468\", \"2201.921\", \"0\", \"522.577\", \"574.317\", \"167.443\", \"308.967\", \"16.336\", \"505.195\", \"2330.675\", \"1284.018\", \"3170.604\", \"6479.137\", \"0\", \"2059.203\", \"7.669\", \"1745.749\", \"850.444\", \"1743.958\", \"1266.293\", \"101.398\", \"1027.755\", \"638.206\", \"618.594\", \"4051.288\", \"879.898\", \"2825.756\", \"2137.865\", \"1648.364\", \"884.82\", \"855.337\", \"8188.125\", \"931.917\", \"824.294\", \"1327.322\", \"1214.621\", \"1162.257\", \"1166.47\", \"3145.354\", \"2756.773\", \"2835.338\", \"1841.207\", \"1617.552\", \"1940.258\", \"1193.513\", \"1187.032\", \"838.092\", \"2741.552\", \"940.002\", \"1478.346\", \"2886.145\", \"220.688\", \"1841.458\", \"1848.004\", \"805.49\", \"1476.107\", \"1175.967\", \"696.531\", \"1713.882\", \"1036.709\", \"1254.377\", \"2136.235\", \"2199.591\", \"6175.584\", \"3077.191\", \"2387.102\", \"2655.961\", \"1976.077\", \"2180.858\", \"1813.492\", \"2276.824\", \"2309.629\", \"3133.9\", \"3457.496\", \"2659.393\", \"3457.264\", \"7097.977\", \"8569.803\", \"11831.901\", \"13795.288\", \"21129.438\", \"17508.75\", \"17479.614\", \"0\", \"0\", \"0\", \"0\", \"0\", \"0\", \"0\", \"0\", \"0\", \"0\", \"0\", \"0\", \"0\", \"0\", \"0\", \"0\", \"0\", \"0\", \"0\", \"0\", \"0\", \"0\", \"0\", \"0\", \"0\", \"0\", \"2047.22\", \"2921.38\", \"5109.72\", \"4509.96\", \"2559.76\", \"17199.98\", \"11956\", \"19350.1\", \"5936.84\", \"3641.68\", \"6182.82\", \"8549.52\", \"6951.14\", \"0\", \"2587.2\", \"2204.02\", \"5924.1\", \"10048.92\", \"5010.74\", \"726.18\", \"6552.28\", \"9637.32\", \"1990.38\", \"7332.36\", \"11174\", \"6945.26\", \"11302.34\", \"5190.08\", \"3986.64\", \"10139.08\", \"5636.96\", \"3315.34\", \"2254\", \"1246.56\", \"13248.62\", \"9039.52\", \"5523.28\", \"12887.98\", \"7444.08\", \"7595.98\", \"16071.02\", \"9848.02\", \"12012.84\", \"5135.2\", \"2748.9\", \"8811.18\", \"6123.04\", \"8737.68\", \"14431.48\", \"18700.36\", \"15766.24\", \"18971.82\", \"13399.54\", \"8426.04\", \"9234.54\", \"24978.24\", \"20126.26\", \"12080.46\", \"15288\", \"16015.16\", \"19757.78\", \"19018.86\", \"15854.44\", \"17529.26\", \"8350.58\", \"20261.5\", \"21278.74\", \"21862.82\", \"19943.98\", \"18018.28\", \"17933.02\", \"13723.92\", \"23661.12\", \"23392.6\", \"25538.8\", \"26501\", \"27356\", \"19578\", \"19182\", \"21001\", \"19743\", \"22239\", \"15064\", \"20210\", \"23067\", \"24864\", \"24091\", \"28840\", \"22122\", \"26048\", \"23141\", \"24012\", \"27716\", \"26675\", \"25252\", \"27295\", \"27375\", \"28102\", \"25425\", \"9100.445\", \"8882.551\", \"9142.497\", \"7101.357\", \"8281.143\", \"8653.141\", \"7761.897\", \"6959.415\", \"6145.418\", \"6472.647\", \"6975.589\", \"8343.38\"], \"yaxis\": \"y\"}],                        {\"legend\": {\"title\": {\"text\": \"fuel_type\"}, \"tracegroupgap\": 0}, \"margin\": {\"t\": 60}, \"template\": {\"data\": {\"bar\": [{\"error_x\": {\"color\": \"#2a3f5f\"}, \"error_y\": {\"color\": \"#2a3f5f\"}, \"marker\": {\"line\": {\"color\": \"#E5ECF6\", \"width\": 0.5}}, \"type\": \"bar\"}], \"barpolar\": [{\"marker\": {\"line\": {\"color\": \"#E5ECF6\", \"width\": 0.5}}, \"type\": \"barpolar\"}], \"carpet\": [{\"aaxis\": {\"endlinecolor\": \"#2a3f5f\", \"gridcolor\": \"white\", \"linecolor\": \"white\", \"minorgridcolor\": \"white\", \"startlinecolor\": \"#2a3f5f\"}, \"baxis\": {\"endlinecolor\": \"#2a3f5f\", \"gridcolor\": \"white\", \"linecolor\": \"white\", \"minorgridcolor\": \"white\", \"startlinecolor\": \"#2a3f5f\"}, \"type\": \"carpet\"}], \"choropleth\": [{\"colorbar\": {\"outlinewidth\": 0, \"ticks\": \"\"}, \"type\": \"choropleth\"}], \"contour\": [{\"colorbar\": {\"outlinewidth\": 0, \"ticks\": \"\"}, \"colorscale\": [[0.0, \"#0d0887\"], [0.1111111111111111, \"#46039f\"], [0.2222222222222222, \"#7201a8\"], [0.3333333333333333, \"#9c179e\"], [0.4444444444444444, \"#bd3786\"], [0.5555555555555556, \"#d8576b\"], [0.6666666666666666, \"#ed7953\"], [0.7777777777777778, \"#fb9f3a\"], [0.8888888888888888, \"#fdca26\"], [1.0, \"#f0f921\"]], \"type\": \"contour\"}], \"contourcarpet\": [{\"colorbar\": {\"outlinewidth\": 0, \"ticks\": \"\"}, \"type\": \"contourcarpet\"}], \"heatmap\": [{\"colorbar\": {\"outlinewidth\": 0, \"ticks\": \"\"}, \"colorscale\": [[0.0, \"#0d0887\"], [0.1111111111111111, \"#46039f\"], [0.2222222222222222, \"#7201a8\"], [0.3333333333333333, \"#9c179e\"], [0.4444444444444444, \"#bd3786\"], [0.5555555555555556, \"#d8576b\"], [0.6666666666666666, \"#ed7953\"], [0.7777777777777778, \"#fb9f3a\"], [0.8888888888888888, \"#fdca26\"], [1.0, \"#f0f921\"]], \"type\": \"heatmap\"}], \"heatmapgl\": [{\"colorbar\": {\"outlinewidth\": 0, \"ticks\": \"\"}, \"colorscale\": [[0.0, \"#0d0887\"], [0.1111111111111111, \"#46039f\"], [0.2222222222222222, \"#7201a8\"], [0.3333333333333333, \"#9c179e\"], [0.4444444444444444, \"#bd3786\"], [0.5555555555555556, \"#d8576b\"], [0.6666666666666666, \"#ed7953\"], [0.7777777777777778, \"#fb9f3a\"], [0.8888888888888888, \"#fdca26\"], [1.0, \"#f0f921\"]], \"type\": \"heatmapgl\"}], \"histogram\": [{\"marker\": {\"colorbar\": {\"outlinewidth\": 0, \"ticks\": \"\"}}, \"type\": \"histogram\"}], \"histogram2d\": [{\"colorbar\": {\"outlinewidth\": 0, \"ticks\": \"\"}, \"colorscale\": [[0.0, \"#0d0887\"], [0.1111111111111111, \"#46039f\"], [0.2222222222222222, \"#7201a8\"], [0.3333333333333333, \"#9c179e\"], [0.4444444444444444, \"#bd3786\"], [0.5555555555555556, \"#d8576b\"], [0.6666666666666666, \"#ed7953\"], [0.7777777777777778, \"#fb9f3a\"], [0.8888888888888888, \"#fdca26\"], [1.0, \"#f0f921\"]], \"type\": \"histogram2d\"}], \"histogram2dcontour\": [{\"colorbar\": {\"outlinewidth\": 0, \"ticks\": \"\"}, \"colorscale\": [[0.0, \"#0d0887\"], [0.1111111111111111, \"#46039f\"], [0.2222222222222222, \"#7201a8\"], [0.3333333333333333, \"#9c179e\"], [0.4444444444444444, \"#bd3786\"], [0.5555555555555556, \"#d8576b\"], [0.6666666666666666, \"#ed7953\"], [0.7777777777777778, \"#fb9f3a\"], [0.8888888888888888, \"#fdca26\"], [1.0, \"#f0f921\"]], \"type\": \"histogram2dcontour\"}], \"mesh3d\": [{\"colorbar\": {\"outlinewidth\": 0, \"ticks\": \"\"}, \"type\": \"mesh3d\"}], \"parcoords\": [{\"line\": {\"colorbar\": {\"outlinewidth\": 0, \"ticks\": \"\"}}, \"type\": \"parcoords\"}], \"pie\": [{\"automargin\": true, \"type\": \"pie\"}], \"scatter\": [{\"marker\": {\"colorbar\": {\"outlinewidth\": 0, \"ticks\": \"\"}}, \"type\": \"scatter\"}], \"scatter3d\": [{\"line\": {\"colorbar\": {\"outlinewidth\": 0, \"ticks\": \"\"}}, \"marker\": {\"colorbar\": {\"outlinewidth\": 0, \"ticks\": \"\"}}, \"type\": \"scatter3d\"}], \"scattercarpet\": [{\"marker\": {\"colorbar\": {\"outlinewidth\": 0, \"ticks\": \"\"}}, \"type\": \"scattercarpet\"}], \"scattergeo\": [{\"marker\": {\"colorbar\": {\"outlinewidth\": 0, \"ticks\": \"\"}}, \"type\": \"scattergeo\"}], \"scattergl\": [{\"marker\": {\"colorbar\": {\"outlinewidth\": 0, \"ticks\": \"\"}}, \"type\": \"scattergl\"}], \"scattermapbox\": [{\"marker\": {\"colorbar\": {\"outlinewidth\": 0, \"ticks\": \"\"}}, \"type\": \"scattermapbox\"}], \"scatterpolar\": [{\"marker\": {\"colorbar\": {\"outlinewidth\": 0, \"ticks\": \"\"}}, \"type\": \"scatterpolar\"}], \"scatterpolargl\": [{\"marker\": {\"colorbar\": {\"outlinewidth\": 0, \"ticks\": \"\"}}, \"type\": \"scatterpolargl\"}], \"scatterternary\": [{\"marker\": {\"colorbar\": {\"outlinewidth\": 0, \"ticks\": \"\"}}, \"type\": \"scatterternary\"}], \"surface\": [{\"colorbar\": {\"outlinewidth\": 0, \"ticks\": \"\"}, \"colorscale\": [[0.0, \"#0d0887\"], [0.1111111111111111, \"#46039f\"], [0.2222222222222222, \"#7201a8\"], [0.3333333333333333, \"#9c179e\"], [0.4444444444444444, \"#bd3786\"], [0.5555555555555556, \"#d8576b\"], [0.6666666666666666, \"#ed7953\"], [0.7777777777777778, \"#fb9f3a\"], [0.8888888888888888, \"#fdca26\"], [1.0, \"#f0f921\"]], \"type\": \"surface\"}], \"table\": [{\"cells\": {\"fill\": {\"color\": \"#EBF0F8\"}, \"line\": {\"color\": \"white\"}}, \"header\": {\"fill\": {\"color\": \"#C8D4E3\"}, \"line\": {\"color\": \"white\"}}, \"type\": \"table\"}]}, \"layout\": {\"annotationdefaults\": {\"arrowcolor\": \"#2a3f5f\", \"arrowhead\": 0, \"arrowwidth\": 1}, \"coloraxis\": {\"colorbar\": {\"outlinewidth\": 0, \"ticks\": \"\"}}, \"colorscale\": {\"diverging\": [[0, \"#8e0152\"], [0.1, \"#c51b7d\"], [0.2, \"#de77ae\"], [0.3, \"#f1b6da\"], [0.4, \"#fde0ef\"], [0.5, \"#f7f7f7\"], [0.6, \"#e6f5d0\"], [0.7, \"#b8e186\"], [0.8, \"#7fbc41\"], [0.9, \"#4d9221\"], [1, \"#276419\"]], \"sequential\": [[0.0, \"#0d0887\"], [0.1111111111111111, \"#46039f\"], [0.2222222222222222, \"#7201a8\"], [0.3333333333333333, \"#9c179e\"], [0.4444444444444444, \"#bd3786\"], [0.5555555555555556, \"#d8576b\"], [0.6666666666666666, \"#ed7953\"], [0.7777777777777778, \"#fb9f3a\"], [0.8888888888888888, \"#fdca26\"], [1.0, \"#f0f921\"]], \"sequentialminus\": [[0.0, \"#0d0887\"], [0.1111111111111111, \"#46039f\"], [0.2222222222222222, \"#7201a8\"], [0.3333333333333333, \"#9c179e\"], [0.4444444444444444, \"#bd3786\"], [0.5555555555555556, \"#d8576b\"], [0.6666666666666666, \"#ed7953\"], [0.7777777777777778, \"#fb9f3a\"], [0.8888888888888888, \"#fdca26\"], [1.0, \"#f0f921\"]]}, \"colorway\": [\"#636efa\", \"#EF553B\", \"#00cc96\", \"#ab63fa\", \"#FFA15A\", \"#19d3f3\", \"#FF6692\", \"#B6E880\", \"#FF97FF\", \"#FECB52\"], \"font\": {\"color\": \"#2a3f5f\"}, \"geo\": {\"bgcolor\": \"white\", \"lakecolor\": \"white\", \"landcolor\": \"#E5ECF6\", \"showlakes\": true, \"showland\": true, \"subunitcolor\": \"white\"}, \"hoverlabel\": {\"align\": \"left\"}, \"hovermode\": \"closest\", \"mapbox\": {\"style\": \"light\"}, \"paper_bgcolor\": \"white\", \"plot_bgcolor\": \"#E5ECF6\", \"polar\": {\"angularaxis\": {\"gridcolor\": \"white\", \"linecolor\": \"white\", \"ticks\": \"\"}, \"bgcolor\": \"#E5ECF6\", \"radialaxis\": {\"gridcolor\": \"white\", \"linecolor\": \"white\", \"ticks\": \"\"}}, \"scene\": {\"xaxis\": {\"backgroundcolor\": \"#E5ECF6\", \"gridcolor\": \"white\", \"gridwidth\": 2, \"linecolor\": \"white\", \"showbackground\": true, \"ticks\": \"\", \"zerolinecolor\": \"white\"}, \"yaxis\": {\"backgroundcolor\": \"#E5ECF6\", \"gridcolor\": \"white\", \"gridwidth\": 2, \"linecolor\": \"white\", \"showbackground\": true, \"ticks\": \"\", \"zerolinecolor\": \"white\"}, \"zaxis\": {\"backgroundcolor\": \"#E5ECF6\", \"gridcolor\": \"white\", \"gridwidth\": 2, \"linecolor\": \"white\", \"showbackground\": true, \"ticks\": \"\", \"zerolinecolor\": \"white\"}}, \"shapedefaults\": {\"line\": {\"color\": \"#2a3f5f\"}}, \"ternary\": {\"aaxis\": {\"gridcolor\": \"white\", \"linecolor\": \"white\", \"ticks\": \"\"}, \"baxis\": {\"gridcolor\": \"white\", \"linecolor\": \"white\", \"ticks\": \"\"}, \"bgcolor\": \"#E5ECF6\", \"caxis\": {\"gridcolor\": \"white\", \"linecolor\": \"white\", \"ticks\": \"\"}}, \"title\": {\"x\": 0.05}, \"xaxis\": {\"automargin\": true, \"gridcolor\": \"white\", \"linecolor\": \"white\", \"ticks\": \"\", \"title\": {\"standoff\": 15}, \"zerolinecolor\": \"white\", \"zerolinewidth\": 2}, \"yaxis\": {\"automargin\": true, \"gridcolor\": \"white\", \"linecolor\": \"white\", \"ticks\": \"\", \"title\": {\"standoff\": 15}, \"zerolinecolor\": \"white\", \"zerolinewidth\": 2}}}, \"xaxis\": {\"anchor\": \"y\", \"domain\": [0.0, 1.0], \"title\": {\"text\": \"date\"}}, \"yaxis\": {\"anchor\": \"x\", \"domain\": [0.0, 1.0], \"title\": {\"text\": \"value\"}}},                        {\"responsive\": true}                    ).then(function(){\n",
       "                            \n",
       "var gd = document.getElementById('27484e8c-0c1d-4d42-891a-c70c15ac7bc9');\n",
       "var x = new MutationObserver(function (mutations, observer) {{\n",
       "        var display = window.getComputedStyle(gd).display;\n",
       "        if (!display || display === 'none') {{\n",
       "            console.log([gd, 'removed!']);\n",
       "            Plotly.purge(gd);\n",
       "            observer.disconnect();\n",
       "        }}\n",
       "}});\n",
       "\n",
       "// Listen for the removal of the full notebook cells\n",
       "var notebookContainer = gd.closest('#notebook-container');\n",
       "if (notebookContainer) {{\n",
       "    x.observe(notebookContainer, {childList: true});\n",
       "}}\n",
       "\n",
       "// Listen for the clearing of the current output cell\n",
       "var outputEl = gd.closest('.output');\n",
       "if (outputEl) {{\n",
       "    x.observe(outputEl, {childList: true});\n",
       "}}\n",
       "\n",
       "                        })                };                });            </script>        </div>"
      ]
     },
     "metadata": {},
     "output_type": "display_data"
    }
   ],
   "source": [
    "fig = px.line(\n",
    "    plant_test_df.toPandas(), \n",
    "    x=\"date\", \n",
    "    y=\"value\", \n",
    "    color=\"fuel_type\",\n",
    "    hover_data=[\"end\"])\n",
    "fig.show()"
   ]
  },
  {
   "cell_type": "markdown",
   "metadata": {},
   "source": [
    "So, fuel usage type can vary significantly based on time.  It might be worthwhile to make separate attributes for each fuel type by averaged bins, say every five years.  This plant in particular appears to have either a gap in data or shut down for a period of time to undergo modifications.  We can see that many fuel types either decreased or ceased altogether after production starting showing up again.  Either way, this type of information could provide insight on some characteristics that change over time, possibly by shifts in the energy industry.  However, let's first perform a little cleansing and formatting to the dataframe so that it is ready for machine learning models.  Note, the grain will be one row per plant, with additional columns representing time lags for each fuel."
   ]
  },
  {
   "cell_type": "code",
   "execution_count": 56,
   "metadata": {},
   "outputs": [],
   "source": [
    "#Pivot data and create an 'other' column that captures the \n",
    "#difference between total and the sum of the fuel_type categories\n",
    "fuel_types_l = electricity_df\\\n",
    "    .select(\"fuel_type\")\\\n",
    "    .distinct()\\\n",
    "    .rdd.map(lambda x: x[0])\\\n",
    "    .collect()\n",
    "\n",
    "electricity_pivoted_summary_df = electricity_df\\\n",
    "    .groupBy(\"date\", \"plant_id\")\\\n",
    "    .pivot(\"fuel_type\")\\\n",
    "    .agg(pysF.sum(\"value\"))\\\n",
    "    .fillna(\n",
    "        0, \n",
    "        subset=[i for i in fuel_types_l if i])\\\n",
    "    .drop(\"null\")\\\n",
    "    .withColumn(\n",
    "        \"other\",\n",
    "        pysF.col(\"all_fuels\") - sum(pysF.col(i) for i in fuel_types_l if i and i != \"all_fuels\"))"
   ]
  },
  {
   "cell_type": "code",
   "execution_count": 57,
   "metadata": {},
   "outputs": [],
   "source": [
    "#Unpivot back to original format\n",
    "electricity_formatted_df = MySpark.melt(\n",
    "    df = electricity_pivoted_summary_df,\n",
    "    id_vars = [\"date\", \"plant_id\"],\n",
    "    value_vars = [i for i in fuel_types_l if i and i != \"all_fuels\"],\n",
    "    var_name = 'fuel_type')"
   ]
  },
  {
   "cell_type": "code",
   "execution_count": 58,
   "metadata": {},
   "outputs": [
    {
     "data": {
      "text/html": [
       "<div>\n",
       "<style scoped>\n",
       "    .dataframe tbody tr th:only-of-type {\n",
       "        vertical-align: middle;\n",
       "    }\n",
       "\n",
       "    .dataframe tbody tr th {\n",
       "        vertical-align: top;\n",
       "    }\n",
       "\n",
       "    .dataframe thead th {\n",
       "        text-align: right;\n",
       "    }\n",
       "</style>\n",
       "<table border=\"1\" class=\"dataframe\">\n",
       "  <thead>\n",
       "    <tr style=\"text-align: right;\">\n",
       "      <th></th>\n",
       "      <th>date</th>\n",
       "      <th>plant_id</th>\n",
       "      <th>fuel_type</th>\n",
       "      <th>value</th>\n",
       "    </tr>\n",
       "  </thead>\n",
       "  <tbody>\n",
       "    <tr>\n",
       "      <th>0</th>\n",
       "      <td>2018-03-01</td>\n",
       "      <td>10</td>\n",
       "      <td>blast_furnace_gas</td>\n",
       "      <td>0.0</td>\n",
       "    </tr>\n",
       "    <tr>\n",
       "      <th>1</th>\n",
       "      <td>2018-03-01</td>\n",
       "      <td>10</td>\n",
       "      <td>other_biomass_liquids</td>\n",
       "      <td>0.0</td>\n",
       "    </tr>\n",
       "    <tr>\n",
       "      <th>2</th>\n",
       "      <td>2018-03-01</td>\n",
       "      <td>10</td>\n",
       "      <td>geothermal</td>\n",
       "      <td>0.0</td>\n",
       "    </tr>\n",
       "    <tr>\n",
       "      <th>3</th>\n",
       "      <td>2018-03-01</td>\n",
       "      <td>10</td>\n",
       "      <td>other_gas</td>\n",
       "      <td>0.0</td>\n",
       "    </tr>\n",
       "    <tr>\n",
       "      <th>4</th>\n",
       "      <td>2018-03-01</td>\n",
       "      <td>10</td>\n",
       "      <td>solar</td>\n",
       "      <td>0.0</td>\n",
       "    </tr>\n",
       "    <tr>\n",
       "      <th>5</th>\n",
       "      <td>2018-03-01</td>\n",
       "      <td>10</td>\n",
       "      <td>tirederived_fuels</td>\n",
       "      <td>0.0</td>\n",
       "    </tr>\n",
       "    <tr>\n",
       "      <th>6</th>\n",
       "      <td>2018-03-01</td>\n",
       "      <td>10</td>\n",
       "      <td>agricultural_byproducts</td>\n",
       "      <td>0.0</td>\n",
       "    </tr>\n",
       "    <tr>\n",
       "      <th>7</th>\n",
       "      <td>2018-03-01</td>\n",
       "      <td>10</td>\n",
       "      <td>nuclear</td>\n",
       "      <td>0.0</td>\n",
       "    </tr>\n",
       "    <tr>\n",
       "      <th>8</th>\n",
       "      <td>2018-03-01</td>\n",
       "      <td>10</td>\n",
       "      <td>jet_fuel</td>\n",
       "      <td>0.0</td>\n",
       "    </tr>\n",
       "    <tr>\n",
       "      <th>9</th>\n",
       "      <td>2018-03-01</td>\n",
       "      <td>10</td>\n",
       "      <td>synthetic_coal</td>\n",
       "      <td>0.0</td>\n",
       "    </tr>\n",
       "    <tr>\n",
       "      <th>10</th>\n",
       "      <td>2018-03-01</td>\n",
       "      <td>10</td>\n",
       "      <td>gaseous_propane</td>\n",
       "      <td>0.0</td>\n",
       "    </tr>\n",
       "    <tr>\n",
       "      <th>11</th>\n",
       "      <td>2018-03-01</td>\n",
       "      <td>10</td>\n",
       "      <td>subbituminous_coal</td>\n",
       "      <td>0.0</td>\n",
       "    </tr>\n",
       "    <tr>\n",
       "      <th>12</th>\n",
       "      <td>2018-03-01</td>\n",
       "      <td>10</td>\n",
       "      <td>other_biomass_solids</td>\n",
       "      <td>0.0</td>\n",
       "    </tr>\n",
       "    <tr>\n",
       "      <th>13</th>\n",
       "      <td>2018-03-01</td>\n",
       "      <td>10</td>\n",
       "      <td>waste_heat</td>\n",
       "      <td>0.0</td>\n",
       "    </tr>\n",
       "    <tr>\n",
       "      <th>14</th>\n",
       "      <td>2018-03-01</td>\n",
       "      <td>10</td>\n",
       "      <td>other</td>\n",
       "      <td>0.0</td>\n",
       "    </tr>\n",
       "    <tr>\n",
       "      <th>15</th>\n",
       "      <td>2018-03-01</td>\n",
       "      <td>10</td>\n",
       "      <td>sludge_waste</td>\n",
       "      <td>0.0</td>\n",
       "    </tr>\n",
       "    <tr>\n",
       "      <th>16</th>\n",
       "      <td>2018-03-01</td>\n",
       "      <td>10</td>\n",
       "      <td>nonbiogenic_municipal_solid_waste</td>\n",
       "      <td>0.0</td>\n",
       "    </tr>\n",
       "    <tr>\n",
       "      <th>17</th>\n",
       "      <td>2018-03-01</td>\n",
       "      <td>10</td>\n",
       "      <td>bituminous_coal</td>\n",
       "      <td>0.0</td>\n",
       "    </tr>\n",
       "    <tr>\n",
       "      <th>18</th>\n",
       "      <td>2018-03-01</td>\n",
       "      <td>10</td>\n",
       "      <td>conventional_hydroelectric</td>\n",
       "      <td>0.0</td>\n",
       "    </tr>\n",
       "    <tr>\n",
       "      <th>19</th>\n",
       "      <td>2018-03-01</td>\n",
       "      <td>10</td>\n",
       "      <td>lignite_coal</td>\n",
       "      <td>0.0</td>\n",
       "    </tr>\n",
       "  </tbody>\n",
       "</table>\n",
       "</div>"
      ],
      "text/plain": [
       "          date plant_id                          fuel_type  value\n",
       "0   2018-03-01       10                  blast_furnace_gas    0.0\n",
       "1   2018-03-01       10              other_biomass_liquids    0.0\n",
       "2   2018-03-01       10                         geothermal    0.0\n",
       "3   2018-03-01       10                          other_gas    0.0\n",
       "4   2018-03-01       10                              solar    0.0\n",
       "5   2018-03-01       10                  tirederived_fuels    0.0\n",
       "6   2018-03-01       10            agricultural_byproducts    0.0\n",
       "7   2018-03-01       10                            nuclear    0.0\n",
       "8   2018-03-01       10                           jet_fuel    0.0\n",
       "9   2018-03-01       10                     synthetic_coal    0.0\n",
       "10  2018-03-01       10                    gaseous_propane    0.0\n",
       "11  2018-03-01       10                 subbituminous_coal    0.0\n",
       "12  2018-03-01       10               other_biomass_solids    0.0\n",
       "13  2018-03-01       10                         waste_heat    0.0\n",
       "14  2018-03-01       10                              other    0.0\n",
       "15  2018-03-01       10                       sludge_waste    0.0\n",
       "16  2018-03-01       10  nonbiogenic_municipal_solid_waste    0.0\n",
       "17  2018-03-01       10                    bituminous_coal    0.0\n",
       "18  2018-03-01       10         conventional_hydroelectric    0.0\n",
       "19  2018-03-01       10                       lignite_coal    0.0"
      ]
     },
     "execution_count": 58,
     "metadata": {},
     "output_type": "execute_result"
    }
   ],
   "source": [
    "electricity_formatted_df.limit(20).toPandas()"
   ]
  },
  {
   "cell_type": "code",
   "execution_count": 59,
   "metadata": {},
   "outputs": [],
   "source": [
    "from pyspark.sql.window import Window as pysW\n",
    "generation_lag1_windowspec = pysW\\\n",
    "    .partitionBy(\"plant_id\", \"fuel_type\")\\\n",
    "    .orderBy(\"year\")\\\n",
    "    .rangeBetween(pysW.currentRow - 1, pysW.currentRow - 1)\n",
    "\n",
    "generation_lag2_windowspec = pysW\\\n",
    "    .partitionBy(\"plant_id\", \"fuel_type\")\\\n",
    "    .orderBy(\"year\")\\\n",
    "    .rangeBetween(pysW.currentRow - 2, pysW.currentRow - 2)\n",
    "\n",
    "generation_lag5_windowspec = pysW\\\n",
    "    .partitionBy(\"plant_id\", \"fuel_type\")\\\n",
    "    .orderBy(\"year\")\\\n",
    "    .rangeBetween(pysW.currentRow - 5, pysW.currentRow - 5)\n",
    "\n",
    "generation_lag10_windowspec = pysW\\\n",
    "    .partitionBy(\"plant_id\", \"fuel_type\")\\\n",
    "    .orderBy(\"year\")\\\n",
    "    .rangeBetween(pysW.currentRow - 10, pysW.currentRow - 10)"
   ]
  },
  {
   "cell_type": "code",
   "execution_count": 63,
   "metadata": {},
   "outputs": [
    {
     "data": {
      "text/plain": [
       "DataFrame[plant_id: string, agricultural_byproducts_generation: double, agricultural_byproducts_generation_1y: double, agricultural_byproducts_generation_2y: double, agricultural_byproducts_generation_5y: double, agricultural_byproducts_generation_10y: double, batteries_or_other_use_of_electricity_as_an_energy_source_generation: double, batteries_or_other_use_of_electricity_as_an_energy_source_generation_1y: double, batteries_or_other_use_of_electricity_as_an_energy_source_generation_2y: double, batteries_or_other_use_of_electricity_as_an_energy_source_generation_5y: double, batteries_or_other_use_of_electricity_as_an_energy_source_generation_10y: double, biogenic_municipal_solid_waste_generation: double, biogenic_municipal_solid_waste_generation_1y: double, biogenic_municipal_solid_waste_generation_2y: double, biogenic_municipal_solid_waste_generation_5y: double, biogenic_municipal_solid_waste_generation_10y: double, bituminous_coal_generation: double, bituminous_coal_generation_1y: double, bituminous_coal_generation_2y: double, bituminous_coal_generation_5y: double, bituminous_coal_generation_10y: double, black_liquour_generation: double, black_liquour_generation_1y: double, black_liquour_generation_2y: double, black_liquour_generation_5y: double, black_liquour_generation_10y: double, blast_furnace_gas_generation: double, blast_furnace_gas_generation_1y: double, blast_furnace_gas_generation_2y: double, blast_furnace_gas_generation_5y: double, blast_furnace_gas_generation_10y: double, coalderived_synthetic_gas_generation: double, coalderived_synthetic_gas_generation_1y: double, coalderived_synthetic_gas_generation_2y: double, coalderived_synthetic_gas_generation_5y: double, coalderived_synthetic_gas_generation_10y: double, conventional_hydroelectric_generation: double, conventional_hydroelectric_generation_1y: double, conventional_hydroelectric_generation_2y: double, conventional_hydroelectric_generation_5y: double, conventional_hydroelectric_generation_10y: double, distillate_fuel_oil_generation: double, distillate_fuel_oil_generation_1y: double, distillate_fuel_oil_generation_2y: double, distillate_fuel_oil_generation_5y: double, distillate_fuel_oil_generation_10y: double, gaseous_propane_generation: double, gaseous_propane_generation_1y: double, gaseous_propane_generation_2y: double, gaseous_propane_generation_5y: double, gaseous_propane_generation_10y: double, geothermal_generation: double, geothermal_generation_1y: double, geothermal_generation_2y: double, geothermal_generation_5y: double, geothermal_generation_10y: double, jet_fuel_generation: double, jet_fuel_generation_1y: double, jet_fuel_generation_2y: double, jet_fuel_generation_5y: double, jet_fuel_generation_10y: double, kerosene_generation: double, kerosene_generation_1y: double, kerosene_generation_2y: double, kerosene_generation_5y: double, kerosene_generation_10y: double, landfill_gas_generation: double, landfill_gas_generation_1y: double, landfill_gas_generation_2y: double, landfill_gas_generation_5y: double, landfill_gas_generation_10y: double, lignite_coal_generation: double, lignite_coal_generation_1y: double, lignite_coal_generation_2y: double, lignite_coal_generation_5y: double, lignite_coal_generation_10y: double, municipal_solid_waste_generation: double, municipal_solid_waste_generation_1y: double, municipal_solid_waste_generation_2y: double, municipal_solid_waste_generation_5y: double, municipal_solid_waste_generation_10y: double, natural_gas_generation: double, natural_gas_generation_1y: double, natural_gas_generation_2y: double, natural_gas_generation_5y: double, natural_gas_generation_10y: double, nonbiogenic_municipal_solid_waste_generation: double, nonbiogenic_municipal_solid_waste_generation_1y: double, nonbiogenic_municipal_solid_waste_generation_2y: double, nonbiogenic_municipal_solid_waste_generation_5y: double, nonbiogenic_municipal_solid_waste_generation_10y: double, nuclear_generation: double, nuclear_generation_1y: double, nuclear_generation_2y: double, nuclear_generation_5y: double, nuclear_generation_10y: double, other_generation: double, other_generation_1y: double, other_generation_2y: double, other_generation_5y: double, other_generation_10y: double, other_biomass_gas_generation: double, other_biomass_gas_generation_1y: double, other_biomass_gas_generation_2y: double, other_biomass_gas_generation_5y: double, other_biomass_gas_generation_10y: double, other_biomass_liquids_generation: double, other_biomass_liquids_generation_1y: double, other_biomass_liquids_generation_2y: double, other_biomass_liquids_generation_5y: double, other_biomass_liquids_generation_10y: double, other_biomass_solids_generation: double, other_biomass_solids_generation_1y: double, other_biomass_solids_generation_2y: double, other_biomass_solids_generation_5y: double, other_biomass_solids_generation_10y: double, other_gas_generation: double, other_gas_generation_1y: double, other_gas_generation_2y: double, other_gas_generation_5y: double, other_gas_generation_10y: double, petroleum_coke_generation: double, petroleum_coke_generation_1y: double, petroleum_coke_generation_2y: double, petroleum_coke_generation_5y: double, petroleum_coke_generation_10y: double, purchased_steam_generation: double, purchased_steam_generation_1y: double, purchased_steam_generation_2y: double, purchased_steam_generation_5y: double, purchased_steam_generation_10y: double, refined_coal_generation: double, refined_coal_generation_1y: double, refined_coal_generation_2y: double, refined_coal_generation_5y: double, refined_coal_generation_10y: double, residual_fuel_oil_generation: double, residual_fuel_oil_generation_1y: double, residual_fuel_oil_generation_2y: double, residual_fuel_oil_generation_5y: double, residual_fuel_oil_generation_10y: double, sludge_waste_generation: double, sludge_waste_generation_1y: double, sludge_waste_generation_2y: double, sludge_waste_generation_5y: double, sludge_waste_generation_10y: double, solar_generation: double, solar_generation_1y: double, solar_generation_2y: double, solar_generation_5y: double, solar_generation_10y: double, subbituminous_coal_generation: double, subbituminous_coal_generation_1y: double, subbituminous_coal_generation_2y: double, subbituminous_coal_generation_5y: double, subbituminous_coal_generation_10y: double, synthetic_coal_generation: double, synthetic_coal_generation_1y: double, synthetic_coal_generation_2y: double, synthetic_coal_generation_5y: double, synthetic_coal_generation_10y: double, tirederived_fuels_generation: double, tirederived_fuels_generation_1y: double, tirederived_fuels_generation_2y: double, tirederived_fuels_generation_5y: double, tirederived_fuels_generation_10y: double, waste_heat_generation: double, waste_heat_generation_1y: double, waste_heat_generation_2y: double, waste_heat_generation_5y: double, waste_heat_generation_10y: double, wasteother_coal_generation: double, wasteother_coal_generation_1y: double, wasteother_coal_generation_2y: double, wasteother_coal_generation_5y: double, wasteother_coal_generation_10y: double, wasteother_oil_generation: double, wasteother_oil_generation_1y: double, wasteother_oil_generation_2y: double, wasteother_oil_generation_5y: double, wasteother_oil_generation_10y: double, wind_generation: double, wind_generation_1y: double, wind_generation_2y: double, wind_generation_5y: double, wind_generation_10y: double, wood_waste_liquids_ex_black_liqour_generation: double, wood_waste_liquids_ex_black_liqour_generation_1y: double, wood_waste_liquids_ex_black_liqour_generation_2y: double, wood_waste_liquids_ex_black_liqour_generation_5y: double, wood_waste_liquids_ex_black_liqour_generation_10y: double, woodwood_waste_solids_generation: double, woodwood_waste_solids_generation_1y: double, woodwood_waste_solids_generation_2y: double, woodwood_waste_solids_generation_5y: double, woodwood_waste_solids_generation_10y: double]"
      ]
     },
     "execution_count": 63,
     "metadata": {},
     "output_type": "execute_result"
    }
   ],
   "source": [
    "electricity_ml_formatted_df = electricity_formatted_df\\\n",
    "    .withColumn(\n",
    "        \"year\",\n",
    "        pysF.year(pysF.col(\"date\")))\\\n",
    "    .groupBy(\"plant_id\", \"year\", \"fuel_type\")\\\n",
    "    .agg(pysF.sum(pysF.col(\"value\")).alias(\"generation\"))\\\n",
    "    .withColumn(\n",
    "        \"generation_1y\",\n",
    "        pysF.avg(pysF.col(\"generation\")).over(generation_lag1_windowspec))\\\n",
    "    .withColumn(\n",
    "        \"generation_2y\",\n",
    "        pysF.avg(pysF.col(\"generation\")).over(generation_lag2_windowspec))\\\n",
    "    .withColumn(\n",
    "        \"generation_5y\",\n",
    "        pysF.avg(pysF.col(\"generation\")).over(generation_lag5_windowspec))\\\n",
    "    .withColumn(\n",
    "        \"generation_10y\",\n",
    "        pysF.avg(pysF.col(\"generation\")).over(generation_lag10_windowspec))\\\n",
    "    .filter(\n",
    "        pysF.col(\"year\") == 2019)\\\n",
    "    .groupBy(\"plant_id\")\\\n",
    "    .pivot('fuel_type')\\\n",
    "    .agg(\n",
    "        pysF.sum(pysF.col(\"generation\")).alias(\"generation\"),\n",
    "        pysF.sum(pysF.col(\"generation_1y\")).alias(\"generation_1y\"),\n",
    "        pysF.sum(pysF.col(\"generation_2y\")).alias(\"generation_2y\"),\n",
    "        pysF.sum(pysF.col(\"generation_5y\")).alias(\"generation_5y\"),\n",
    "        pysF.sum(pysF.col(\"generation_10y\")).alias(\"generation_10y\"))\\\n",
    "    .fillna(0)\n",
    "\n",
    "electricity_ml_formatted_df.cache()"
   ]
  },
  {
   "cell_type": "code",
   "execution_count": 64,
   "metadata": {},
   "outputs": [
    {
     "data": {
      "text/html": [
       "<div>\n",
       "<style scoped>\n",
       "    .dataframe tbody tr th:only-of-type {\n",
       "        vertical-align: middle;\n",
       "    }\n",
       "\n",
       "    .dataframe tbody tr th {\n",
       "        vertical-align: top;\n",
       "    }\n",
       "\n",
       "    .dataframe thead th {\n",
       "        text-align: right;\n",
       "    }\n",
       "</style>\n",
       "<table border=\"1\" class=\"dataframe\">\n",
       "  <thead>\n",
       "    <tr style=\"text-align: right;\">\n",
       "      <th></th>\n",
       "      <th>plant_id</th>\n",
       "      <th>agricultural_byproducts_generation</th>\n",
       "      <th>agricultural_byproducts_generation_1y</th>\n",
       "      <th>agricultural_byproducts_generation_2y</th>\n",
       "      <th>agricultural_byproducts_generation_5y</th>\n",
       "      <th>agricultural_byproducts_generation_10y</th>\n",
       "      <th>batteries_or_other_use_of_electricity_as_an_energy_source_generation</th>\n",
       "      <th>batteries_or_other_use_of_electricity_as_an_energy_source_generation_1y</th>\n",
       "      <th>batteries_or_other_use_of_electricity_as_an_energy_source_generation_2y</th>\n",
       "      <th>batteries_or_other_use_of_electricity_as_an_energy_source_generation_5y</th>\n",
       "      <th>...</th>\n",
       "      <th>wood_waste_liquids_ex_black_liqour_generation</th>\n",
       "      <th>wood_waste_liquids_ex_black_liqour_generation_1y</th>\n",
       "      <th>wood_waste_liquids_ex_black_liqour_generation_2y</th>\n",
       "      <th>wood_waste_liquids_ex_black_liqour_generation_5y</th>\n",
       "      <th>wood_waste_liquids_ex_black_liqour_generation_10y</th>\n",
       "      <th>woodwood_waste_solids_generation</th>\n",
       "      <th>woodwood_waste_solids_generation_1y</th>\n",
       "      <th>woodwood_waste_solids_generation_2y</th>\n",
       "      <th>woodwood_waste_solids_generation_5y</th>\n",
       "      <th>woodwood_waste_solids_generation_10y</th>\n",
       "    </tr>\n",
       "  </thead>\n",
       "  <tbody>\n",
       "    <tr>\n",
       "      <th>0</th>\n",
       "      <td>56525</td>\n",
       "      <td>0.0</td>\n",
       "      <td>0.0</td>\n",
       "      <td>0.0</td>\n",
       "      <td>0.0</td>\n",
       "      <td>0.0</td>\n",
       "      <td>0.0</td>\n",
       "      <td>0.0</td>\n",
       "      <td>0.0</td>\n",
       "      <td>0.0</td>\n",
       "      <td>...</td>\n",
       "      <td>0.0</td>\n",
       "      <td>0.0</td>\n",
       "      <td>0.0</td>\n",
       "      <td>0.0</td>\n",
       "      <td>0.0</td>\n",
       "      <td>0.0</td>\n",
       "      <td>0.0</td>\n",
       "      <td>0.0</td>\n",
       "      <td>0.0</td>\n",
       "      <td>0.0</td>\n",
       "    </tr>\n",
       "    <tr>\n",
       "      <th>1</th>\n",
       "      <td>57483</td>\n",
       "      <td>0.0</td>\n",
       "      <td>0.0</td>\n",
       "      <td>0.0</td>\n",
       "      <td>0.0</td>\n",
       "      <td>0.0</td>\n",
       "      <td>0.0</td>\n",
       "      <td>0.0</td>\n",
       "      <td>0.0</td>\n",
       "      <td>0.0</td>\n",
       "      <td>...</td>\n",
       "      <td>0.0</td>\n",
       "      <td>0.0</td>\n",
       "      <td>0.0</td>\n",
       "      <td>0.0</td>\n",
       "      <td>0.0</td>\n",
       "      <td>0.0</td>\n",
       "      <td>0.0</td>\n",
       "      <td>0.0</td>\n",
       "      <td>0.0</td>\n",
       "      <td>0.0</td>\n",
       "    </tr>\n",
       "    <tr>\n",
       "      <th>2</th>\n",
       "      <td>59169</td>\n",
       "      <td>0.0</td>\n",
       "      <td>0.0</td>\n",
       "      <td>0.0</td>\n",
       "      <td>0.0</td>\n",
       "      <td>0.0</td>\n",
       "      <td>0.0</td>\n",
       "      <td>0.0</td>\n",
       "      <td>0.0</td>\n",
       "      <td>0.0</td>\n",
       "      <td>...</td>\n",
       "      <td>0.0</td>\n",
       "      <td>0.0</td>\n",
       "      <td>0.0</td>\n",
       "      <td>0.0</td>\n",
       "      <td>0.0</td>\n",
       "      <td>0.0</td>\n",
       "      <td>0.0</td>\n",
       "      <td>0.0</td>\n",
       "      <td>0.0</td>\n",
       "      <td>0.0</td>\n",
       "    </tr>\n",
       "    <tr>\n",
       "      <th>3</th>\n",
       "      <td>59318</td>\n",
       "      <td>0.0</td>\n",
       "      <td>0.0</td>\n",
       "      <td>0.0</td>\n",
       "      <td>0.0</td>\n",
       "      <td>0.0</td>\n",
       "      <td>0.0</td>\n",
       "      <td>0.0</td>\n",
       "      <td>0.0</td>\n",
       "      <td>0.0</td>\n",
       "      <td>...</td>\n",
       "      <td>0.0</td>\n",
       "      <td>0.0</td>\n",
       "      <td>0.0</td>\n",
       "      <td>0.0</td>\n",
       "      <td>0.0</td>\n",
       "      <td>0.0</td>\n",
       "      <td>0.0</td>\n",
       "      <td>0.0</td>\n",
       "      <td>0.0</td>\n",
       "      <td>0.0</td>\n",
       "    </tr>\n",
       "    <tr>\n",
       "      <th>4</th>\n",
       "      <td>59370</td>\n",
       "      <td>0.0</td>\n",
       "      <td>0.0</td>\n",
       "      <td>0.0</td>\n",
       "      <td>0.0</td>\n",
       "      <td>0.0</td>\n",
       "      <td>0.0</td>\n",
       "      <td>0.0</td>\n",
       "      <td>0.0</td>\n",
       "      <td>0.0</td>\n",
       "      <td>...</td>\n",
       "      <td>0.0</td>\n",
       "      <td>0.0</td>\n",
       "      <td>0.0</td>\n",
       "      <td>0.0</td>\n",
       "      <td>0.0</td>\n",
       "      <td>0.0</td>\n",
       "      <td>0.0</td>\n",
       "      <td>0.0</td>\n",
       "      <td>0.0</td>\n",
       "      <td>0.0</td>\n",
       "    </tr>\n",
       "    <tr>\n",
       "      <th>5</th>\n",
       "      <td>60053</td>\n",
       "      <td>0.0</td>\n",
       "      <td>0.0</td>\n",
       "      <td>0.0</td>\n",
       "      <td>0.0</td>\n",
       "      <td>0.0</td>\n",
       "      <td>0.0</td>\n",
       "      <td>0.0</td>\n",
       "      <td>0.0</td>\n",
       "      <td>0.0</td>\n",
       "      <td>...</td>\n",
       "      <td>0.0</td>\n",
       "      <td>0.0</td>\n",
       "      <td>0.0</td>\n",
       "      <td>0.0</td>\n",
       "      <td>0.0</td>\n",
       "      <td>0.0</td>\n",
       "      <td>0.0</td>\n",
       "      <td>0.0</td>\n",
       "      <td>0.0</td>\n",
       "      <td>0.0</td>\n",
       "    </tr>\n",
       "    <tr>\n",
       "      <th>6</th>\n",
       "      <td>60132</td>\n",
       "      <td>0.0</td>\n",
       "      <td>0.0</td>\n",
       "      <td>0.0</td>\n",
       "      <td>0.0</td>\n",
       "      <td>0.0</td>\n",
       "      <td>0.0</td>\n",
       "      <td>0.0</td>\n",
       "      <td>0.0</td>\n",
       "      <td>0.0</td>\n",
       "      <td>...</td>\n",
       "      <td>0.0</td>\n",
       "      <td>0.0</td>\n",
       "      <td>0.0</td>\n",
       "      <td>0.0</td>\n",
       "      <td>0.0</td>\n",
       "      <td>0.0</td>\n",
       "      <td>0.0</td>\n",
       "      <td>0.0</td>\n",
       "      <td>0.0</td>\n",
       "      <td>0.0</td>\n",
       "    </tr>\n",
       "    <tr>\n",
       "      <th>7</th>\n",
       "      <td>60351</td>\n",
       "      <td>0.0</td>\n",
       "      <td>0.0</td>\n",
       "      <td>0.0</td>\n",
       "      <td>0.0</td>\n",
       "      <td>0.0</td>\n",
       "      <td>0.0</td>\n",
       "      <td>0.0</td>\n",
       "      <td>0.0</td>\n",
       "      <td>0.0</td>\n",
       "      <td>...</td>\n",
       "      <td>0.0</td>\n",
       "      <td>0.0</td>\n",
       "      <td>0.0</td>\n",
       "      <td>0.0</td>\n",
       "      <td>0.0</td>\n",
       "      <td>0.0</td>\n",
       "      <td>0.0</td>\n",
       "      <td>0.0</td>\n",
       "      <td>0.0</td>\n",
       "      <td>0.0</td>\n",
       "    </tr>\n",
       "    <tr>\n",
       "      <th>8</th>\n",
       "      <td>60822</td>\n",
       "      <td>0.0</td>\n",
       "      <td>0.0</td>\n",
       "      <td>0.0</td>\n",
       "      <td>0.0</td>\n",
       "      <td>0.0</td>\n",
       "      <td>0.0</td>\n",
       "      <td>0.0</td>\n",
       "      <td>0.0</td>\n",
       "      <td>0.0</td>\n",
       "      <td>...</td>\n",
       "      <td>0.0</td>\n",
       "      <td>0.0</td>\n",
       "      <td>0.0</td>\n",
       "      <td>0.0</td>\n",
       "      <td>0.0</td>\n",
       "      <td>0.0</td>\n",
       "      <td>0.0</td>\n",
       "      <td>0.0</td>\n",
       "      <td>0.0</td>\n",
       "      <td>0.0</td>\n",
       "    </tr>\n",
       "    <tr>\n",
       "      <th>9</th>\n",
       "      <td>63702</td>\n",
       "      <td>0.0</td>\n",
       "      <td>0.0</td>\n",
       "      <td>0.0</td>\n",
       "      <td>0.0</td>\n",
       "      <td>0.0</td>\n",
       "      <td>0.0</td>\n",
       "      <td>0.0</td>\n",
       "      <td>0.0</td>\n",
       "      <td>0.0</td>\n",
       "      <td>...</td>\n",
       "      <td>0.0</td>\n",
       "      <td>0.0</td>\n",
       "      <td>0.0</td>\n",
       "      <td>0.0</td>\n",
       "      <td>0.0</td>\n",
       "      <td>0.0</td>\n",
       "      <td>0.0</td>\n",
       "      <td>0.0</td>\n",
       "      <td>0.0</td>\n",
       "      <td>0.0</td>\n",
       "    </tr>\n",
       "  </tbody>\n",
       "</table>\n",
       "<p>10 rows × 196 columns</p>\n",
       "</div>"
      ],
      "text/plain": [
       "  plant_id  agricultural_byproducts_generation  \\\n",
       "0    56525                                 0.0   \n",
       "1    57483                                 0.0   \n",
       "2    59169                                 0.0   \n",
       "3    59318                                 0.0   \n",
       "4    59370                                 0.0   \n",
       "5    60053                                 0.0   \n",
       "6    60132                                 0.0   \n",
       "7    60351                                 0.0   \n",
       "8    60822                                 0.0   \n",
       "9    63702                                 0.0   \n",
       "\n",
       "   agricultural_byproducts_generation_1y  \\\n",
       "0                                    0.0   \n",
       "1                                    0.0   \n",
       "2                                    0.0   \n",
       "3                                    0.0   \n",
       "4                                    0.0   \n",
       "5                                    0.0   \n",
       "6                                    0.0   \n",
       "7                                    0.0   \n",
       "8                                    0.0   \n",
       "9                                    0.0   \n",
       "\n",
       "   agricultural_byproducts_generation_2y  \\\n",
       "0                                    0.0   \n",
       "1                                    0.0   \n",
       "2                                    0.0   \n",
       "3                                    0.0   \n",
       "4                                    0.0   \n",
       "5                                    0.0   \n",
       "6                                    0.0   \n",
       "7                                    0.0   \n",
       "8                                    0.0   \n",
       "9                                    0.0   \n",
       "\n",
       "   agricultural_byproducts_generation_5y  \\\n",
       "0                                    0.0   \n",
       "1                                    0.0   \n",
       "2                                    0.0   \n",
       "3                                    0.0   \n",
       "4                                    0.0   \n",
       "5                                    0.0   \n",
       "6                                    0.0   \n",
       "7                                    0.0   \n",
       "8                                    0.0   \n",
       "9                                    0.0   \n",
       "\n",
       "   agricultural_byproducts_generation_10y  \\\n",
       "0                                     0.0   \n",
       "1                                     0.0   \n",
       "2                                     0.0   \n",
       "3                                     0.0   \n",
       "4                                     0.0   \n",
       "5                                     0.0   \n",
       "6                                     0.0   \n",
       "7                                     0.0   \n",
       "8                                     0.0   \n",
       "9                                     0.0   \n",
       "\n",
       "   batteries_or_other_use_of_electricity_as_an_energy_source_generation  \\\n",
       "0                                                0.0                      \n",
       "1                                                0.0                      \n",
       "2                                                0.0                      \n",
       "3                                                0.0                      \n",
       "4                                                0.0                      \n",
       "5                                                0.0                      \n",
       "6                                                0.0                      \n",
       "7                                                0.0                      \n",
       "8                                                0.0                      \n",
       "9                                                0.0                      \n",
       "\n",
       "   batteries_or_other_use_of_electricity_as_an_energy_source_generation_1y  \\\n",
       "0                                                0.0                         \n",
       "1                                                0.0                         \n",
       "2                                                0.0                         \n",
       "3                                                0.0                         \n",
       "4                                                0.0                         \n",
       "5                                                0.0                         \n",
       "6                                                0.0                         \n",
       "7                                                0.0                         \n",
       "8                                                0.0                         \n",
       "9                                                0.0                         \n",
       "\n",
       "   batteries_or_other_use_of_electricity_as_an_energy_source_generation_2y  \\\n",
       "0                                                0.0                         \n",
       "1                                                0.0                         \n",
       "2                                                0.0                         \n",
       "3                                                0.0                         \n",
       "4                                                0.0                         \n",
       "5                                                0.0                         \n",
       "6                                                0.0                         \n",
       "7                                                0.0                         \n",
       "8                                                0.0                         \n",
       "9                                                0.0                         \n",
       "\n",
       "   batteries_or_other_use_of_electricity_as_an_energy_source_generation_5y  \\\n",
       "0                                                0.0                         \n",
       "1                                                0.0                         \n",
       "2                                                0.0                         \n",
       "3                                                0.0                         \n",
       "4                                                0.0                         \n",
       "5                                                0.0                         \n",
       "6                                                0.0                         \n",
       "7                                                0.0                         \n",
       "8                                                0.0                         \n",
       "9                                                0.0                         \n",
       "\n",
       "   ...  wood_waste_liquids_ex_black_liqour_generation  \\\n",
       "0  ...                                            0.0   \n",
       "1  ...                                            0.0   \n",
       "2  ...                                            0.0   \n",
       "3  ...                                            0.0   \n",
       "4  ...                                            0.0   \n",
       "5  ...                                            0.0   \n",
       "6  ...                                            0.0   \n",
       "7  ...                                            0.0   \n",
       "8  ...                                            0.0   \n",
       "9  ...                                            0.0   \n",
       "\n",
       "   wood_waste_liquids_ex_black_liqour_generation_1y  \\\n",
       "0                                               0.0   \n",
       "1                                               0.0   \n",
       "2                                               0.0   \n",
       "3                                               0.0   \n",
       "4                                               0.0   \n",
       "5                                               0.0   \n",
       "6                                               0.0   \n",
       "7                                               0.0   \n",
       "8                                               0.0   \n",
       "9                                               0.0   \n",
       "\n",
       "   wood_waste_liquids_ex_black_liqour_generation_2y  \\\n",
       "0                                               0.0   \n",
       "1                                               0.0   \n",
       "2                                               0.0   \n",
       "3                                               0.0   \n",
       "4                                               0.0   \n",
       "5                                               0.0   \n",
       "6                                               0.0   \n",
       "7                                               0.0   \n",
       "8                                               0.0   \n",
       "9                                               0.0   \n",
       "\n",
       "   wood_waste_liquids_ex_black_liqour_generation_5y  \\\n",
       "0                                               0.0   \n",
       "1                                               0.0   \n",
       "2                                               0.0   \n",
       "3                                               0.0   \n",
       "4                                               0.0   \n",
       "5                                               0.0   \n",
       "6                                               0.0   \n",
       "7                                               0.0   \n",
       "8                                               0.0   \n",
       "9                                               0.0   \n",
       "\n",
       "   wood_waste_liquids_ex_black_liqour_generation_10y  \\\n",
       "0                                                0.0   \n",
       "1                                                0.0   \n",
       "2                                                0.0   \n",
       "3                                                0.0   \n",
       "4                                                0.0   \n",
       "5                                                0.0   \n",
       "6                                                0.0   \n",
       "7                                                0.0   \n",
       "8                                                0.0   \n",
       "9                                                0.0   \n",
       "\n",
       "   woodwood_waste_solids_generation  woodwood_waste_solids_generation_1y  \\\n",
       "0                               0.0                                  0.0   \n",
       "1                               0.0                                  0.0   \n",
       "2                               0.0                                  0.0   \n",
       "3                               0.0                                  0.0   \n",
       "4                               0.0                                  0.0   \n",
       "5                               0.0                                  0.0   \n",
       "6                               0.0                                  0.0   \n",
       "7                               0.0                                  0.0   \n",
       "8                               0.0                                  0.0   \n",
       "9                               0.0                                  0.0   \n",
       "\n",
       "   woodwood_waste_solids_generation_2y  woodwood_waste_solids_generation_5y  \\\n",
       "0                                  0.0                                  0.0   \n",
       "1                                  0.0                                  0.0   \n",
       "2                                  0.0                                  0.0   \n",
       "3                                  0.0                                  0.0   \n",
       "4                                  0.0                                  0.0   \n",
       "5                                  0.0                                  0.0   \n",
       "6                                  0.0                                  0.0   \n",
       "7                                  0.0                                  0.0   \n",
       "8                                  0.0                                  0.0   \n",
       "9                                  0.0                                  0.0   \n",
       "\n",
       "   woodwood_waste_solids_generation_10y  \n",
       "0                                   0.0  \n",
       "1                                   0.0  \n",
       "2                                   0.0  \n",
       "3                                   0.0  \n",
       "4                                   0.0  \n",
       "5                                   0.0  \n",
       "6                                   0.0  \n",
       "7                                   0.0  \n",
       "8                                   0.0  \n",
       "9                                   0.0  \n",
       "\n",
       "[10 rows x 196 columns]"
      ]
     },
     "execution_count": 64,
     "metadata": {},
     "output_type": "execute_result"
    }
   ],
   "source": [
    "electricity_ml_formatted_df.limit(10).toPandas()"
   ]
  },
  {
   "cell_type": "code",
   "execution_count": 65,
   "metadata": {},
   "outputs": [
    {
     "data": {
      "text/plain": [
       "['plant_id',\n",
       " 'agricultural_byproducts_generation',\n",
       " 'agricultural_byproducts_generation_1y',\n",
       " 'agricultural_byproducts_generation_2y',\n",
       " 'agricultural_byproducts_generation_5y',\n",
       " 'agricultural_byproducts_generation_10y',\n",
       " 'batteries_or_other_use_of_electricity_as_an_energy_source_generation',\n",
       " 'batteries_or_other_use_of_electricity_as_an_energy_source_generation_1y',\n",
       " 'batteries_or_other_use_of_electricity_as_an_energy_source_generation_2y',\n",
       " 'batteries_or_other_use_of_electricity_as_an_energy_source_generation_5y',\n",
       " 'batteries_or_other_use_of_electricity_as_an_energy_source_generation_10y',\n",
       " 'biogenic_municipal_solid_waste_generation',\n",
       " 'biogenic_municipal_solid_waste_generation_1y',\n",
       " 'biogenic_municipal_solid_waste_generation_2y',\n",
       " 'biogenic_municipal_solid_waste_generation_5y',\n",
       " 'biogenic_municipal_solid_waste_generation_10y',\n",
       " 'bituminous_coal_generation',\n",
       " 'bituminous_coal_generation_1y',\n",
       " 'bituminous_coal_generation_2y',\n",
       " 'bituminous_coal_generation_5y',\n",
       " 'bituminous_coal_generation_10y',\n",
       " 'black_liquour_generation',\n",
       " 'black_liquour_generation_1y',\n",
       " 'black_liquour_generation_2y',\n",
       " 'black_liquour_generation_5y',\n",
       " 'black_liquour_generation_10y',\n",
       " 'blast_furnace_gas_generation',\n",
       " 'blast_furnace_gas_generation_1y',\n",
       " 'blast_furnace_gas_generation_2y',\n",
       " 'blast_furnace_gas_generation_5y',\n",
       " 'blast_furnace_gas_generation_10y',\n",
       " 'coalderived_synthetic_gas_generation',\n",
       " 'coalderived_synthetic_gas_generation_1y',\n",
       " 'coalderived_synthetic_gas_generation_2y',\n",
       " 'coalderived_synthetic_gas_generation_5y',\n",
       " 'coalderived_synthetic_gas_generation_10y',\n",
       " 'conventional_hydroelectric_generation',\n",
       " 'conventional_hydroelectric_generation_1y',\n",
       " 'conventional_hydroelectric_generation_2y',\n",
       " 'conventional_hydroelectric_generation_5y',\n",
       " 'conventional_hydroelectric_generation_10y',\n",
       " 'distillate_fuel_oil_generation',\n",
       " 'distillate_fuel_oil_generation_1y',\n",
       " 'distillate_fuel_oil_generation_2y',\n",
       " 'distillate_fuel_oil_generation_5y',\n",
       " 'distillate_fuel_oil_generation_10y',\n",
       " 'gaseous_propane_generation',\n",
       " 'gaseous_propane_generation_1y',\n",
       " 'gaseous_propane_generation_2y',\n",
       " 'gaseous_propane_generation_5y',\n",
       " 'gaseous_propane_generation_10y',\n",
       " 'geothermal_generation',\n",
       " 'geothermal_generation_1y',\n",
       " 'geothermal_generation_2y',\n",
       " 'geothermal_generation_5y',\n",
       " 'geothermal_generation_10y',\n",
       " 'jet_fuel_generation',\n",
       " 'jet_fuel_generation_1y',\n",
       " 'jet_fuel_generation_2y',\n",
       " 'jet_fuel_generation_5y',\n",
       " 'jet_fuel_generation_10y',\n",
       " 'kerosene_generation',\n",
       " 'kerosene_generation_1y',\n",
       " 'kerosene_generation_2y',\n",
       " 'kerosene_generation_5y',\n",
       " 'kerosene_generation_10y',\n",
       " 'landfill_gas_generation',\n",
       " 'landfill_gas_generation_1y',\n",
       " 'landfill_gas_generation_2y',\n",
       " 'landfill_gas_generation_5y',\n",
       " 'landfill_gas_generation_10y',\n",
       " 'lignite_coal_generation',\n",
       " 'lignite_coal_generation_1y',\n",
       " 'lignite_coal_generation_2y',\n",
       " 'lignite_coal_generation_5y',\n",
       " 'lignite_coal_generation_10y',\n",
       " 'municipal_solid_waste_generation',\n",
       " 'municipal_solid_waste_generation_1y',\n",
       " 'municipal_solid_waste_generation_2y',\n",
       " 'municipal_solid_waste_generation_5y',\n",
       " 'municipal_solid_waste_generation_10y',\n",
       " 'natural_gas_generation',\n",
       " 'natural_gas_generation_1y',\n",
       " 'natural_gas_generation_2y',\n",
       " 'natural_gas_generation_5y',\n",
       " 'natural_gas_generation_10y',\n",
       " 'nonbiogenic_municipal_solid_waste_generation',\n",
       " 'nonbiogenic_municipal_solid_waste_generation_1y',\n",
       " 'nonbiogenic_municipal_solid_waste_generation_2y',\n",
       " 'nonbiogenic_municipal_solid_waste_generation_5y',\n",
       " 'nonbiogenic_municipal_solid_waste_generation_10y',\n",
       " 'nuclear_generation',\n",
       " 'nuclear_generation_1y',\n",
       " 'nuclear_generation_2y',\n",
       " 'nuclear_generation_5y',\n",
       " 'nuclear_generation_10y',\n",
       " 'other_generation',\n",
       " 'other_generation_1y',\n",
       " 'other_generation_2y',\n",
       " 'other_generation_5y',\n",
       " 'other_generation_10y',\n",
       " 'other_biomass_gas_generation',\n",
       " 'other_biomass_gas_generation_1y',\n",
       " 'other_biomass_gas_generation_2y',\n",
       " 'other_biomass_gas_generation_5y',\n",
       " 'other_biomass_gas_generation_10y',\n",
       " 'other_biomass_liquids_generation',\n",
       " 'other_biomass_liquids_generation_1y',\n",
       " 'other_biomass_liquids_generation_2y',\n",
       " 'other_biomass_liquids_generation_5y',\n",
       " 'other_biomass_liquids_generation_10y',\n",
       " 'other_biomass_solids_generation',\n",
       " 'other_biomass_solids_generation_1y',\n",
       " 'other_biomass_solids_generation_2y',\n",
       " 'other_biomass_solids_generation_5y',\n",
       " 'other_biomass_solids_generation_10y',\n",
       " 'other_gas_generation',\n",
       " 'other_gas_generation_1y',\n",
       " 'other_gas_generation_2y',\n",
       " 'other_gas_generation_5y',\n",
       " 'other_gas_generation_10y',\n",
       " 'petroleum_coke_generation',\n",
       " 'petroleum_coke_generation_1y',\n",
       " 'petroleum_coke_generation_2y',\n",
       " 'petroleum_coke_generation_5y',\n",
       " 'petroleum_coke_generation_10y',\n",
       " 'purchased_steam_generation',\n",
       " 'purchased_steam_generation_1y',\n",
       " 'purchased_steam_generation_2y',\n",
       " 'purchased_steam_generation_5y',\n",
       " 'purchased_steam_generation_10y',\n",
       " 'refined_coal_generation',\n",
       " 'refined_coal_generation_1y',\n",
       " 'refined_coal_generation_2y',\n",
       " 'refined_coal_generation_5y',\n",
       " 'refined_coal_generation_10y',\n",
       " 'residual_fuel_oil_generation',\n",
       " 'residual_fuel_oil_generation_1y',\n",
       " 'residual_fuel_oil_generation_2y',\n",
       " 'residual_fuel_oil_generation_5y',\n",
       " 'residual_fuel_oil_generation_10y',\n",
       " 'sludge_waste_generation',\n",
       " 'sludge_waste_generation_1y',\n",
       " 'sludge_waste_generation_2y',\n",
       " 'sludge_waste_generation_5y',\n",
       " 'sludge_waste_generation_10y',\n",
       " 'solar_generation',\n",
       " 'solar_generation_1y',\n",
       " 'solar_generation_2y',\n",
       " 'solar_generation_5y',\n",
       " 'solar_generation_10y',\n",
       " 'subbituminous_coal_generation',\n",
       " 'subbituminous_coal_generation_1y',\n",
       " 'subbituminous_coal_generation_2y',\n",
       " 'subbituminous_coal_generation_5y',\n",
       " 'subbituminous_coal_generation_10y',\n",
       " 'synthetic_coal_generation',\n",
       " 'synthetic_coal_generation_1y',\n",
       " 'synthetic_coal_generation_2y',\n",
       " 'synthetic_coal_generation_5y',\n",
       " 'synthetic_coal_generation_10y',\n",
       " 'tirederived_fuels_generation',\n",
       " 'tirederived_fuels_generation_1y',\n",
       " 'tirederived_fuels_generation_2y',\n",
       " 'tirederived_fuels_generation_5y',\n",
       " 'tirederived_fuels_generation_10y',\n",
       " 'waste_heat_generation',\n",
       " 'waste_heat_generation_1y',\n",
       " 'waste_heat_generation_2y',\n",
       " 'waste_heat_generation_5y',\n",
       " 'waste_heat_generation_10y',\n",
       " 'wasteother_coal_generation',\n",
       " 'wasteother_coal_generation_1y',\n",
       " 'wasteother_coal_generation_2y',\n",
       " 'wasteother_coal_generation_5y',\n",
       " 'wasteother_coal_generation_10y',\n",
       " 'wasteother_oil_generation',\n",
       " 'wasteother_oil_generation_1y',\n",
       " 'wasteother_oil_generation_2y',\n",
       " 'wasteother_oil_generation_5y',\n",
       " 'wasteother_oil_generation_10y',\n",
       " 'wind_generation',\n",
       " 'wind_generation_1y',\n",
       " 'wind_generation_2y',\n",
       " 'wind_generation_5y',\n",
       " 'wind_generation_10y',\n",
       " 'wood_waste_liquids_ex_black_liqour_generation',\n",
       " 'wood_waste_liquids_ex_black_liqour_generation_1y',\n",
       " 'wood_waste_liquids_ex_black_liqour_generation_2y',\n",
       " 'wood_waste_liquids_ex_black_liqour_generation_5y',\n",
       " 'wood_waste_liquids_ex_black_liqour_generation_10y',\n",
       " 'woodwood_waste_solids_generation',\n",
       " 'woodwood_waste_solids_generation_1y',\n",
       " 'woodwood_waste_solids_generation_2y',\n",
       " 'woodwood_waste_solids_generation_5y',\n",
       " 'woodwood_waste_solids_generation_10y']"
      ]
     },
     "execution_count": 65,
     "metadata": {},
     "output_type": "execute_result"
    }
   ],
   "source": [
    "electricity_ml_formatted_df.limit(1).toPandas().columns.tolist()"
   ]
  },
  {
   "cell_type": "markdown",
   "metadata": {},
   "source": [
    "### data transformation ideas\n",
    "Convert grain to one row per plant, but need to express generation in some way\n",
    "- Note, the grain on the current data is one row per plant per fuel type per month (if all_primemovers is removed)\n",
    "- Maybe just do all metrics then pivot on fuel type for one col per fuel_type\n",
    "- last 5 year by fuel type\n",
    "- 5 year avg 5 years ago fuel type\n",
    "- above metrics but expressed in terms of % of current value\n",
    "- lag \n",
    "- lag by % of current value\n",
    "- % fuel type?  are there mixed fuel plants?\n",
    "- is grouping by fuel type necessary? again, are there mixed fuel types?\n",
    "- start date? is that when the plant was operational?  maybe also cut off at end date if that is the case.\n",
    "- max/min in terms of standardized generation (mean over same interval)\n",
    "- Put full analysis in a .py file for transformation from raw to prepped dataframe for ML."
   ]
  }
 ],
 "metadata": {
  "kernelspec": {
   "display_name": "Python [conda env:bigdata] *",
   "language": "python",
   "name": "conda-env-bigdata-py"
  },
  "language_info": {
   "codemirror_mode": {
    "name": "ipython",
    "version": 3
   },
   "file_extension": ".py",
   "mimetype": "text/x-python",
   "name": "python",
   "nbconvert_exporter": "python",
   "pygments_lexer": "ipython3",
   "version": "3.8.6"
  }
 },
 "nbformat": 4,
 "nbformat_minor": 4
}
